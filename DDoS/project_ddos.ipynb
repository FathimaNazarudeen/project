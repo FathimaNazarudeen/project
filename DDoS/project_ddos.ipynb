{
  "nbformat": 4,
  "nbformat_minor": 0,
  "metadata": {
    "colab": {
      "name": "Copy of project ddos.ipynb",
      "provenance": [],
      "collapsed_sections": [],
      "authorship_tag": "ABX9TyPITLdNjUTOwR5JwP0188hk",
      "include_colab_link": true
    },
    "kernelspec": {
      "name": "python3",
      "display_name": "Python 3"
    },
    "language_info": {
      "name": "python"
    }
  },
  "cells": [
    {
      "cell_type": "markdown",
      "metadata": {
        "id": "view-in-github",
        "colab_type": "text"
      },
      "source": [
        "<a href=\"https://colab.research.google.com/github/FathimaNazarudeen/project/blob/main/DDoS/project_ddos.ipynb\" target=\"_parent\"><img src=\"https://colab.research.google.com/assets/colab-badge.svg\" alt=\"Open In Colab\"/></a>"
      ]
    },
    {
      "cell_type": "code",
      "execution_count": 1,
      "metadata": {
        "id": "Yt-0FxcaIn1b"
      },
      "outputs": [],
      "source": [
        "import pandas as pd \n",
        "import numpy as np"
      ]
    },
    {
      "cell_type": "code",
      "source": [
        "from google.colab import drive\n",
        "drive.mount('/content/drive')"
      ],
      "metadata": {
        "colab": {
          "base_uri": "https://localhost:8080/"
        },
        "id": "zsuNv7oiItou",
        "outputId": "53affa7d-7bd6-4a4f-f43f-d3b569a14888"
      },
      "execution_count": 2,
      "outputs": [
        {
          "output_type": "stream",
          "name": "stdout",
          "text": [
            "Mounted at /content/drive\n"
          ]
        }
      ]
    },
    {
      "cell_type": "code",
      "source": [
        "DrDoS_DNS_data_1_per = pd.read_csv('/content/drive/MyDrive/01-12/DrDoS_DNS.csv',nrows=6000)\n",
        "DrDoS_LDAP_data_2_0_per = pd.read_csv('/content/drive/MyDrive/01-12/DrDoS_LDAP.csv',nrows=6000)\n",
        "DrDoS_MSSQL_data_1_3_per = pd.read_csv('/content/drive/MyDrive/01-12/DrDoS_MSSQL.csv',nrows=6000)\n",
        "DrDoS_NetBIOS_data_1_3_per = pd.read_csv('/content/drive/MyDrive/01-12/DrDoS_NetBIOS.csv',nrows=6000)\n",
        "DrDoS_NTP_data_data_5_per = pd.read_csv('/content/drive/MyDrive/01-12/DrDoS_NTP.csv',nrows=6000)\n",
        "DrDoS_SNMP_data_1_3_per = pd.read_csv('/content/drive/MyDrive/01-12/DrDoS_SNMP.csv',nrows=6000)\n",
        "DrDoS_SSDP_data_2_per = pd.read_csv('/content/drive/MyDrive/01-12/DrDoS_SSDP.csv',nrows=6000)\n",
        "DrDoS_UDP_data_2_per = pd.read_csv('/content/drive/MyDrive/01-12/DrDoS_UDP.csv',nrows=6000)\n",
        "Syn_data_4_per = pd.read_csv('/content/drive/MyDrive/01-12/Syn.csv',nrows=6000)\n",
        "UDPLag_data_2_0_per = pd.read_csv('/content/drive/MyDrive/01-12/UDPLag.csv',nrows=6000)"
      ],
      "metadata": {
        "id": "oyKCe_oHM_3r"
      },
      "execution_count": 3,
      "outputs": []
    },
    {
      "cell_type": "code",
      "source": [
        "data = pd.concat([DrDoS_DNS_data_1_per, DrDoS_LDAP_data_2_0_per, DrDoS_MSSQL_data_1_3_per, DrDoS_NetBIOS_data_1_3_per, DrDoS_NTP_data_data_5_per, DrDoS_SNMP_data_1_3_per, DrDoS_SSDP_data_2_per, DrDoS_UDP_data_2_per, Syn_data_4_per, UDPLag_data_2_0_per], ignore_index = True)"
      ],
      "metadata": {
        "id": "g92SDH9JQFlm"
      },
      "execution_count": 4,
      "outputs": []
    },
    {
      "cell_type": "code",
      "source": [
        "data[' Label'].value_counts()"
      ],
      "metadata": {
        "colab": {
          "base_uri": "https://localhost:8080/"
        },
        "id": "77U6Co_WQOBW",
        "outputId": "771706de-1d5a-4993-a170-09dc1623b93c"
      },
      "execution_count": 5,
      "outputs": [
        {
          "output_type": "execute_result",
          "data": {
            "text/plain": [
              "DrDoS_MSSQL      6000\n",
              "DrDoS_UDP        6000\n",
              "UDP-lag          6000\n",
              "DrDoS_LDAP       5999\n",
              "Syn              5998\n",
              "DrDoS_SNMP       5997\n",
              "DrDoS_NetBIOS    5991\n",
              "DrDoS_SSDP       5970\n",
              "BENIGN           5682\n",
              "DrDoS_DNS        5377\n",
              "DrDoS_NTP         986\n",
              "Name:  Label, dtype: int64"
            ]
          },
          "metadata": {},
          "execution_count": 5
        }
      ]
    },
    {
      "cell_type": "code",
      "source": [
        "data.columns "
      ],
      "metadata": {
        "colab": {
          "base_uri": "https://localhost:8080/"
        },
        "id": "KoaSe4-wRwK0",
        "outputId": "2e6db1e8-476c-4e9d-a7fa-4586ede8a676"
      },
      "execution_count": 6,
      "outputs": [
        {
          "output_type": "execute_result",
          "data": {
            "text/plain": [
              "Index(['Unnamed: 0', 'Flow ID', ' Source IP', ' Source Port',\n",
              "       ' Destination IP', ' Destination Port', ' Protocol', ' Timestamp',\n",
              "       ' Flow Duration', ' Total Fwd Packets', ' Total Backward Packets',\n",
              "       'Total Length of Fwd Packets', ' Total Length of Bwd Packets',\n",
              "       ' Fwd Packet Length Max', ' Fwd Packet Length Min',\n",
              "       ' Fwd Packet Length Mean', ' Fwd Packet Length Std',\n",
              "       'Bwd Packet Length Max', ' Bwd Packet Length Min',\n",
              "       ' Bwd Packet Length Mean', ' Bwd Packet Length Std', 'Flow Bytes/s',\n",
              "       ' Flow Packets/s', ' Flow IAT Mean', ' Flow IAT Std', ' Flow IAT Max',\n",
              "       ' Flow IAT Min', 'Fwd IAT Total', ' Fwd IAT Mean', ' Fwd IAT Std',\n",
              "       ' Fwd IAT Max', ' Fwd IAT Min', 'Bwd IAT Total', ' Bwd IAT Mean',\n",
              "       ' Bwd IAT Std', ' Bwd IAT Max', ' Bwd IAT Min', 'Fwd PSH Flags',\n",
              "       ' Bwd PSH Flags', ' Fwd URG Flags', ' Bwd URG Flags',\n",
              "       ' Fwd Header Length', ' Bwd Header Length', 'Fwd Packets/s',\n",
              "       ' Bwd Packets/s', ' Min Packet Length', ' Max Packet Length',\n",
              "       ' Packet Length Mean', ' Packet Length Std', ' Packet Length Variance',\n",
              "       'FIN Flag Count', ' SYN Flag Count', ' RST Flag Count',\n",
              "       ' PSH Flag Count', ' ACK Flag Count', ' URG Flag Count',\n",
              "       ' CWE Flag Count', ' ECE Flag Count', ' Down/Up Ratio',\n",
              "       ' Average Packet Size', ' Avg Fwd Segment Size',\n",
              "       ' Avg Bwd Segment Size', ' Fwd Header Length.1', 'Fwd Avg Bytes/Bulk',\n",
              "       ' Fwd Avg Packets/Bulk', ' Fwd Avg Bulk Rate', ' Bwd Avg Bytes/Bulk',\n",
              "       ' Bwd Avg Packets/Bulk', 'Bwd Avg Bulk Rate', 'Subflow Fwd Packets',\n",
              "       ' Subflow Fwd Bytes', ' Subflow Bwd Packets', ' Subflow Bwd Bytes',\n",
              "       'Init_Win_bytes_forward', ' Init_Win_bytes_backward',\n",
              "       ' act_data_pkt_fwd', ' min_seg_size_forward', 'Active Mean',\n",
              "       ' Active Std', ' Active Max', ' Active Min', 'Idle Mean', ' Idle Std',\n",
              "       ' Idle Max', ' Idle Min', 'SimillarHTTP', ' Inbound', ' Label'],\n",
              "      dtype='object')"
            ]
          },
          "metadata": {},
          "execution_count": 6
        }
      ]
    },
    {
      "cell_type": "code",
      "source": [
        "data_real = data.replace(np.inf, np.nan)"
      ],
      "metadata": {
        "id": "q4h6KjggRxfq"
      },
      "execution_count": 7,
      "outputs": []
    },
    {
      "cell_type": "code",
      "source": [
        "data_real.isnull().sum().sum()"
      ],
      "metadata": {
        "colab": {
          "base_uri": "https://localhost:8080/"
        },
        "id": "_F7n3UJCR2MO",
        "outputId": "a310289b-dbed-451e-fe36-91d6131ad4da"
      },
      "execution_count": 8,
      "outputs": [
        {
          "output_type": "execute_result",
          "data": {
            "text/plain": [
              "2044"
            ]
          },
          "metadata": {},
          "execution_count": 8
        }
      ]
    },
    {
      "cell_type": "code",
      "source": [
        "data_df = data_real.dropna(axis=0)"
      ],
      "metadata": {
        "id": "og_p85LcR6bO"
      },
      "execution_count": 9,
      "outputs": []
    },
    {
      "cell_type": "code",
      "source": [
        "data_df.isnull().sum().sum()"
      ],
      "metadata": {
        "colab": {
          "base_uri": "https://localhost:8080/"
        },
        "id": "-p1_6MARR92v",
        "outputId": "7cfb258f-ce9a-4280-bbda-81527672be48"
      },
      "execution_count": 10,
      "outputs": [
        {
          "output_type": "execute_result",
          "data": {
            "text/plain": [
              "0"
            ]
          },
          "metadata": {},
          "execution_count": 10
        }
      ]
    },
    {
      "cell_type": "code",
      "source": [
        "data_df"
      ],
      "metadata": {
        "colab": {
          "base_uri": "https://localhost:8080/",
          "height": 1000
        },
        "id": "ejydE7xGSAw4",
        "outputId": "18b77c3f-14c3-4a13-b3d4-f33281b1e418"
      },
      "execution_count": 11,
      "outputs": [
        {
          "output_type": "execute_result",
          "data": {
            "text/plain": [
              "       Unnamed: 0                                 Flow ID     Source IP  \\\n",
              "0             425    172.16.0.5-192.168.50.1-634-60495-17    172.16.0.5   \n",
              "1             430    172.16.0.5-192.168.50.1-60495-634-17  192.168.50.1   \n",
              "2            1654    172.16.0.5-192.168.50.1-634-46391-17    172.16.0.5   \n",
              "3            2927    172.16.0.5-192.168.50.1-634-11894-17    172.16.0.5   \n",
              "4             694    172.16.0.5-192.168.50.1-634-27878-17    172.16.0.5   \n",
              "...           ...                                     ...           ...   \n",
              "59995       40871  172.16.0.5-192.168.50.1-38625-63051-17    172.16.0.5   \n",
              "59996       32916  172.16.0.5-192.168.50.1-58632-18963-17    172.16.0.5   \n",
              "59997        2435  172.16.0.5-192.168.50.1-46104-64704-17    172.16.0.5   \n",
              "59998      184217  172.16.0.5-192.168.50.1-60686-10440-17    172.16.0.5   \n",
              "59999       11576   172.16.0.5-192.168.50.1-45602-1387-17    172.16.0.5   \n",
              "\n",
              "        Source Port  Destination IP   Destination Port   Protocol  \\\n",
              "0               634    192.168.50.1              60495         17   \n",
              "1               634      172.16.0.5              60495         17   \n",
              "2               634    192.168.50.1              46391         17   \n",
              "3               634    192.168.50.1              11894         17   \n",
              "4               634    192.168.50.1              27878         17   \n",
              "...             ...             ...                ...        ...   \n",
              "59995         38625    192.168.50.1              63051         17   \n",
              "59996         58632    192.168.50.1              18963         17   \n",
              "59997         46104    192.168.50.1              64704         17   \n",
              "59998         60686    192.168.50.1              10440         17   \n",
              "59999         45602    192.168.50.1               1387         17   \n",
              "\n",
              "                        Timestamp   Flow Duration   Total Fwd Packets  ...  \\\n",
              "0      2018-12-01 10:51:39.813448           28415                  97  ...   \n",
              "1      2018-12-01 10:51:39.820842               2                   2  ...   \n",
              "2      2018-12-01 10:51:39.852499           48549                 200  ...   \n",
              "3      2018-12-01 10:51:39.890213           48337                 200  ...   \n",
              "4      2018-12-01 10:51:39.941151           32026                 200  ...   \n",
              "...                           ...             ...                 ...  ...   \n",
              "59995  2018-12-01 13:04:46.628249               1                   2  ...   \n",
              "59996  2018-12-01 13:04:46.628963          212238                   6  ...   \n",
              "59997  2018-12-01 13:04:46.629014               1                   2  ...   \n",
              "59998  2018-12-01 13:04:46.629016          108952                   4  ...   \n",
              "59999  2018-12-01 13:04:46.629300               1                   2  ...   \n",
              "\n",
              "        Active Std   Active Max   Active Min  Idle Mean   Idle Std   Idle Max  \\\n",
              "0              0.0          0.0          0.0        0.0        0.0        0.0   \n",
              "1              0.0          0.0          0.0        0.0        0.0        0.0   \n",
              "2              0.0          0.0          0.0        0.0        0.0        0.0   \n",
              "3              0.0          0.0          0.0        0.0        0.0        0.0   \n",
              "4              0.0          0.0          0.0        0.0        0.0        0.0   \n",
              "...            ...          ...          ...        ...        ...        ...   \n",
              "59995          0.0          0.0          0.0        0.0        0.0        0.0   \n",
              "59996          0.0          0.0          0.0        0.0        0.0        0.0   \n",
              "59997          0.0          0.0          0.0        0.0        0.0        0.0   \n",
              "59998          0.0          0.0          0.0        0.0        0.0        0.0   \n",
              "59999          0.0          0.0          0.0        0.0        0.0        0.0   \n",
              "\n",
              "        Idle Min  SimillarHTTP   Inbound      Label  \n",
              "0            0.0             0         1  DrDoS_DNS  \n",
              "1            0.0             0         0  DrDoS_DNS  \n",
              "2            0.0             0         1  DrDoS_DNS  \n",
              "3            0.0             0         1  DrDoS_DNS  \n",
              "4            0.0             0         1  DrDoS_DNS  \n",
              "...          ...           ...       ...        ...  \n",
              "59995        0.0             0         1    UDP-lag  \n",
              "59996        0.0             0         1    UDP-lag  \n",
              "59997        0.0             0         1    UDP-lag  \n",
              "59998        0.0             0         1    UDP-lag  \n",
              "59999        0.0             0         1    UDP-lag  \n",
              "\n",
              "[58978 rows x 88 columns]"
            ],
            "text/html": [
              "\n",
              "  <div id=\"df-f2956645-9342-4c79-887b-0db60117b0cd\">\n",
              "    <div class=\"colab-df-container\">\n",
              "      <div>\n",
              "<style scoped>\n",
              "    .dataframe tbody tr th:only-of-type {\n",
              "        vertical-align: middle;\n",
              "    }\n",
              "\n",
              "    .dataframe tbody tr th {\n",
              "        vertical-align: top;\n",
              "    }\n",
              "\n",
              "    .dataframe thead th {\n",
              "        text-align: right;\n",
              "    }\n",
              "</style>\n",
              "<table border=\"1\" class=\"dataframe\">\n",
              "  <thead>\n",
              "    <tr style=\"text-align: right;\">\n",
              "      <th></th>\n",
              "      <th>Unnamed: 0</th>\n",
              "      <th>Flow ID</th>\n",
              "      <th>Source IP</th>\n",
              "      <th>Source Port</th>\n",
              "      <th>Destination IP</th>\n",
              "      <th>Destination Port</th>\n",
              "      <th>Protocol</th>\n",
              "      <th>Timestamp</th>\n",
              "      <th>Flow Duration</th>\n",
              "      <th>Total Fwd Packets</th>\n",
              "      <th>...</th>\n",
              "      <th>Active Std</th>\n",
              "      <th>Active Max</th>\n",
              "      <th>Active Min</th>\n",
              "      <th>Idle Mean</th>\n",
              "      <th>Idle Std</th>\n",
              "      <th>Idle Max</th>\n",
              "      <th>Idle Min</th>\n",
              "      <th>SimillarHTTP</th>\n",
              "      <th>Inbound</th>\n",
              "      <th>Label</th>\n",
              "    </tr>\n",
              "  </thead>\n",
              "  <tbody>\n",
              "    <tr>\n",
              "      <th>0</th>\n",
              "      <td>425</td>\n",
              "      <td>172.16.0.5-192.168.50.1-634-60495-17</td>\n",
              "      <td>172.16.0.5</td>\n",
              "      <td>634</td>\n",
              "      <td>192.168.50.1</td>\n",
              "      <td>60495</td>\n",
              "      <td>17</td>\n",
              "      <td>2018-12-01 10:51:39.813448</td>\n",
              "      <td>28415</td>\n",
              "      <td>97</td>\n",
              "      <td>...</td>\n",
              "      <td>0.0</td>\n",
              "      <td>0.0</td>\n",
              "      <td>0.0</td>\n",
              "      <td>0.0</td>\n",
              "      <td>0.0</td>\n",
              "      <td>0.0</td>\n",
              "      <td>0.0</td>\n",
              "      <td>0</td>\n",
              "      <td>1</td>\n",
              "      <td>DrDoS_DNS</td>\n",
              "    </tr>\n",
              "    <tr>\n",
              "      <th>1</th>\n",
              "      <td>430</td>\n",
              "      <td>172.16.0.5-192.168.50.1-60495-634-17</td>\n",
              "      <td>192.168.50.1</td>\n",
              "      <td>634</td>\n",
              "      <td>172.16.0.5</td>\n",
              "      <td>60495</td>\n",
              "      <td>17</td>\n",
              "      <td>2018-12-01 10:51:39.820842</td>\n",
              "      <td>2</td>\n",
              "      <td>2</td>\n",
              "      <td>...</td>\n",
              "      <td>0.0</td>\n",
              "      <td>0.0</td>\n",
              "      <td>0.0</td>\n",
              "      <td>0.0</td>\n",
              "      <td>0.0</td>\n",
              "      <td>0.0</td>\n",
              "      <td>0.0</td>\n",
              "      <td>0</td>\n",
              "      <td>0</td>\n",
              "      <td>DrDoS_DNS</td>\n",
              "    </tr>\n",
              "    <tr>\n",
              "      <th>2</th>\n",
              "      <td>1654</td>\n",
              "      <td>172.16.0.5-192.168.50.1-634-46391-17</td>\n",
              "      <td>172.16.0.5</td>\n",
              "      <td>634</td>\n",
              "      <td>192.168.50.1</td>\n",
              "      <td>46391</td>\n",
              "      <td>17</td>\n",
              "      <td>2018-12-01 10:51:39.852499</td>\n",
              "      <td>48549</td>\n",
              "      <td>200</td>\n",
              "      <td>...</td>\n",
              "      <td>0.0</td>\n",
              "      <td>0.0</td>\n",
              "      <td>0.0</td>\n",
              "      <td>0.0</td>\n",
              "      <td>0.0</td>\n",
              "      <td>0.0</td>\n",
              "      <td>0.0</td>\n",
              "      <td>0</td>\n",
              "      <td>1</td>\n",
              "      <td>DrDoS_DNS</td>\n",
              "    </tr>\n",
              "    <tr>\n",
              "      <th>3</th>\n",
              "      <td>2927</td>\n",
              "      <td>172.16.0.5-192.168.50.1-634-11894-17</td>\n",
              "      <td>172.16.0.5</td>\n",
              "      <td>634</td>\n",
              "      <td>192.168.50.1</td>\n",
              "      <td>11894</td>\n",
              "      <td>17</td>\n",
              "      <td>2018-12-01 10:51:39.890213</td>\n",
              "      <td>48337</td>\n",
              "      <td>200</td>\n",
              "      <td>...</td>\n",
              "      <td>0.0</td>\n",
              "      <td>0.0</td>\n",
              "      <td>0.0</td>\n",
              "      <td>0.0</td>\n",
              "      <td>0.0</td>\n",
              "      <td>0.0</td>\n",
              "      <td>0.0</td>\n",
              "      <td>0</td>\n",
              "      <td>1</td>\n",
              "      <td>DrDoS_DNS</td>\n",
              "    </tr>\n",
              "    <tr>\n",
              "      <th>4</th>\n",
              "      <td>694</td>\n",
              "      <td>172.16.0.5-192.168.50.1-634-27878-17</td>\n",
              "      <td>172.16.0.5</td>\n",
              "      <td>634</td>\n",
              "      <td>192.168.50.1</td>\n",
              "      <td>27878</td>\n",
              "      <td>17</td>\n",
              "      <td>2018-12-01 10:51:39.941151</td>\n",
              "      <td>32026</td>\n",
              "      <td>200</td>\n",
              "      <td>...</td>\n",
              "      <td>0.0</td>\n",
              "      <td>0.0</td>\n",
              "      <td>0.0</td>\n",
              "      <td>0.0</td>\n",
              "      <td>0.0</td>\n",
              "      <td>0.0</td>\n",
              "      <td>0.0</td>\n",
              "      <td>0</td>\n",
              "      <td>1</td>\n",
              "      <td>DrDoS_DNS</td>\n",
              "    </tr>\n",
              "    <tr>\n",
              "      <th>...</th>\n",
              "      <td>...</td>\n",
              "      <td>...</td>\n",
              "      <td>...</td>\n",
              "      <td>...</td>\n",
              "      <td>...</td>\n",
              "      <td>...</td>\n",
              "      <td>...</td>\n",
              "      <td>...</td>\n",
              "      <td>...</td>\n",
              "      <td>...</td>\n",
              "      <td>...</td>\n",
              "      <td>...</td>\n",
              "      <td>...</td>\n",
              "      <td>...</td>\n",
              "      <td>...</td>\n",
              "      <td>...</td>\n",
              "      <td>...</td>\n",
              "      <td>...</td>\n",
              "      <td>...</td>\n",
              "      <td>...</td>\n",
              "      <td>...</td>\n",
              "    </tr>\n",
              "    <tr>\n",
              "      <th>59995</th>\n",
              "      <td>40871</td>\n",
              "      <td>172.16.0.5-192.168.50.1-38625-63051-17</td>\n",
              "      <td>172.16.0.5</td>\n",
              "      <td>38625</td>\n",
              "      <td>192.168.50.1</td>\n",
              "      <td>63051</td>\n",
              "      <td>17</td>\n",
              "      <td>2018-12-01 13:04:46.628249</td>\n",
              "      <td>1</td>\n",
              "      <td>2</td>\n",
              "      <td>...</td>\n",
              "      <td>0.0</td>\n",
              "      <td>0.0</td>\n",
              "      <td>0.0</td>\n",
              "      <td>0.0</td>\n",
              "      <td>0.0</td>\n",
              "      <td>0.0</td>\n",
              "      <td>0.0</td>\n",
              "      <td>0</td>\n",
              "      <td>1</td>\n",
              "      <td>UDP-lag</td>\n",
              "    </tr>\n",
              "    <tr>\n",
              "      <th>59996</th>\n",
              "      <td>32916</td>\n",
              "      <td>172.16.0.5-192.168.50.1-58632-18963-17</td>\n",
              "      <td>172.16.0.5</td>\n",
              "      <td>58632</td>\n",
              "      <td>192.168.50.1</td>\n",
              "      <td>18963</td>\n",
              "      <td>17</td>\n",
              "      <td>2018-12-01 13:04:46.628963</td>\n",
              "      <td>212238</td>\n",
              "      <td>6</td>\n",
              "      <td>...</td>\n",
              "      <td>0.0</td>\n",
              "      <td>0.0</td>\n",
              "      <td>0.0</td>\n",
              "      <td>0.0</td>\n",
              "      <td>0.0</td>\n",
              "      <td>0.0</td>\n",
              "      <td>0.0</td>\n",
              "      <td>0</td>\n",
              "      <td>1</td>\n",
              "      <td>UDP-lag</td>\n",
              "    </tr>\n",
              "    <tr>\n",
              "      <th>59997</th>\n",
              "      <td>2435</td>\n",
              "      <td>172.16.0.5-192.168.50.1-46104-64704-17</td>\n",
              "      <td>172.16.0.5</td>\n",
              "      <td>46104</td>\n",
              "      <td>192.168.50.1</td>\n",
              "      <td>64704</td>\n",
              "      <td>17</td>\n",
              "      <td>2018-12-01 13:04:46.629014</td>\n",
              "      <td>1</td>\n",
              "      <td>2</td>\n",
              "      <td>...</td>\n",
              "      <td>0.0</td>\n",
              "      <td>0.0</td>\n",
              "      <td>0.0</td>\n",
              "      <td>0.0</td>\n",
              "      <td>0.0</td>\n",
              "      <td>0.0</td>\n",
              "      <td>0.0</td>\n",
              "      <td>0</td>\n",
              "      <td>1</td>\n",
              "      <td>UDP-lag</td>\n",
              "    </tr>\n",
              "    <tr>\n",
              "      <th>59998</th>\n",
              "      <td>184217</td>\n",
              "      <td>172.16.0.5-192.168.50.1-60686-10440-17</td>\n",
              "      <td>172.16.0.5</td>\n",
              "      <td>60686</td>\n",
              "      <td>192.168.50.1</td>\n",
              "      <td>10440</td>\n",
              "      <td>17</td>\n",
              "      <td>2018-12-01 13:04:46.629016</td>\n",
              "      <td>108952</td>\n",
              "      <td>4</td>\n",
              "      <td>...</td>\n",
              "      <td>0.0</td>\n",
              "      <td>0.0</td>\n",
              "      <td>0.0</td>\n",
              "      <td>0.0</td>\n",
              "      <td>0.0</td>\n",
              "      <td>0.0</td>\n",
              "      <td>0.0</td>\n",
              "      <td>0</td>\n",
              "      <td>1</td>\n",
              "      <td>UDP-lag</td>\n",
              "    </tr>\n",
              "    <tr>\n",
              "      <th>59999</th>\n",
              "      <td>11576</td>\n",
              "      <td>172.16.0.5-192.168.50.1-45602-1387-17</td>\n",
              "      <td>172.16.0.5</td>\n",
              "      <td>45602</td>\n",
              "      <td>192.168.50.1</td>\n",
              "      <td>1387</td>\n",
              "      <td>17</td>\n",
              "      <td>2018-12-01 13:04:46.629300</td>\n",
              "      <td>1</td>\n",
              "      <td>2</td>\n",
              "      <td>...</td>\n",
              "      <td>0.0</td>\n",
              "      <td>0.0</td>\n",
              "      <td>0.0</td>\n",
              "      <td>0.0</td>\n",
              "      <td>0.0</td>\n",
              "      <td>0.0</td>\n",
              "      <td>0.0</td>\n",
              "      <td>0</td>\n",
              "      <td>1</td>\n",
              "      <td>UDP-lag</td>\n",
              "    </tr>\n",
              "  </tbody>\n",
              "</table>\n",
              "<p>58978 rows × 88 columns</p>\n",
              "</div>\n",
              "      <button class=\"colab-df-convert\" onclick=\"convertToInteractive('df-f2956645-9342-4c79-887b-0db60117b0cd')\"\n",
              "              title=\"Convert this dataframe to an interactive table.\"\n",
              "              style=\"display:none;\">\n",
              "        \n",
              "  <svg xmlns=\"http://www.w3.org/2000/svg\" height=\"24px\"viewBox=\"0 0 24 24\"\n",
              "       width=\"24px\">\n",
              "    <path d=\"M0 0h24v24H0V0z\" fill=\"none\"/>\n",
              "    <path d=\"M18.56 5.44l.94 2.06.94-2.06 2.06-.94-2.06-.94-.94-2.06-.94 2.06-2.06.94zm-11 1L8.5 8.5l.94-2.06 2.06-.94-2.06-.94L8.5 2.5l-.94 2.06-2.06.94zm10 10l.94 2.06.94-2.06 2.06-.94-2.06-.94-.94-2.06-.94 2.06-2.06.94z\"/><path d=\"M17.41 7.96l-1.37-1.37c-.4-.4-.92-.59-1.43-.59-.52 0-1.04.2-1.43.59L10.3 9.45l-7.72 7.72c-.78.78-.78 2.05 0 2.83L4 21.41c.39.39.9.59 1.41.59.51 0 1.02-.2 1.41-.59l7.78-7.78 2.81-2.81c.8-.78.8-2.07 0-2.86zM5.41 20L4 18.59l7.72-7.72 1.47 1.35L5.41 20z\"/>\n",
              "  </svg>\n",
              "      </button>\n",
              "      \n",
              "  <style>\n",
              "    .colab-df-container {\n",
              "      display:flex;\n",
              "      flex-wrap:wrap;\n",
              "      gap: 12px;\n",
              "    }\n",
              "\n",
              "    .colab-df-convert {\n",
              "      background-color: #E8F0FE;\n",
              "      border: none;\n",
              "      border-radius: 50%;\n",
              "      cursor: pointer;\n",
              "      display: none;\n",
              "      fill: #1967D2;\n",
              "      height: 32px;\n",
              "      padding: 0 0 0 0;\n",
              "      width: 32px;\n",
              "    }\n",
              "\n",
              "    .colab-df-convert:hover {\n",
              "      background-color: #E2EBFA;\n",
              "      box-shadow: 0px 1px 2px rgba(60, 64, 67, 0.3), 0px 1px 3px 1px rgba(60, 64, 67, 0.15);\n",
              "      fill: #174EA6;\n",
              "    }\n",
              "\n",
              "    [theme=dark] .colab-df-convert {\n",
              "      background-color: #3B4455;\n",
              "      fill: #D2E3FC;\n",
              "    }\n",
              "\n",
              "    [theme=dark] .colab-df-convert:hover {\n",
              "      background-color: #434B5C;\n",
              "      box-shadow: 0px 1px 3px 1px rgba(0, 0, 0, 0.15);\n",
              "      filter: drop-shadow(0px 1px 2px rgba(0, 0, 0, 0.3));\n",
              "      fill: #FFFFFF;\n",
              "    }\n",
              "  </style>\n",
              "\n",
              "      <script>\n",
              "        const buttonEl =\n",
              "          document.querySelector('#df-f2956645-9342-4c79-887b-0db60117b0cd button.colab-df-convert');\n",
              "        buttonEl.style.display =\n",
              "          google.colab.kernel.accessAllowed ? 'block' : 'none';\n",
              "\n",
              "        async function convertToInteractive(key) {\n",
              "          const element = document.querySelector('#df-f2956645-9342-4c79-887b-0db60117b0cd');\n",
              "          const dataTable =\n",
              "            await google.colab.kernel.invokeFunction('convertToInteractive',\n",
              "                                                     [key], {});\n",
              "          if (!dataTable) return;\n",
              "\n",
              "          const docLinkHtml = 'Like what you see? Visit the ' +\n",
              "            '<a target=\"_blank\" href=https://colab.research.google.com/notebooks/data_table.ipynb>data table notebook</a>'\n",
              "            + ' to learn more about interactive tables.';\n",
              "          element.innerHTML = '';\n",
              "          dataTable['output_type'] = 'display_data';\n",
              "          await google.colab.output.renderOutput(dataTable, element);\n",
              "          const docLink = document.createElement('div');\n",
              "          docLink.innerHTML = docLinkHtml;\n",
              "          element.appendChild(docLink);\n",
              "        }\n",
              "      </script>\n",
              "    </div>\n",
              "  </div>\n",
              "  "
            ]
          },
          "metadata": {},
          "execution_count": 11
        }
      ]
    },
    {
      "cell_type": "code",
      "source": [
        "data_X = data_df.drop([' Label', 'SimillarHTTP'], axis = 1)"
      ],
      "metadata": {
        "id": "xY7x8ocvSH4J"
      },
      "execution_count": 12,
      "outputs": []
    },
    {
      "cell_type": "code",
      "source": [
        "data_X.columns "
      ],
      "metadata": {
        "colab": {
          "base_uri": "https://localhost:8080/"
        },
        "id": "m0Z66Mw1SXU0",
        "outputId": "15704c4a-c361-43a7-8ff6-3668bda2af92"
      },
      "execution_count": 13,
      "outputs": [
        {
          "output_type": "execute_result",
          "data": {
            "text/plain": [
              "Index(['Unnamed: 0', 'Flow ID', ' Source IP', ' Source Port',\n",
              "       ' Destination IP', ' Destination Port', ' Protocol', ' Timestamp',\n",
              "       ' Flow Duration', ' Total Fwd Packets', ' Total Backward Packets',\n",
              "       'Total Length of Fwd Packets', ' Total Length of Bwd Packets',\n",
              "       ' Fwd Packet Length Max', ' Fwd Packet Length Min',\n",
              "       ' Fwd Packet Length Mean', ' Fwd Packet Length Std',\n",
              "       'Bwd Packet Length Max', ' Bwd Packet Length Min',\n",
              "       ' Bwd Packet Length Mean', ' Bwd Packet Length Std', 'Flow Bytes/s',\n",
              "       ' Flow Packets/s', ' Flow IAT Mean', ' Flow IAT Std', ' Flow IAT Max',\n",
              "       ' Flow IAT Min', 'Fwd IAT Total', ' Fwd IAT Mean', ' Fwd IAT Std',\n",
              "       ' Fwd IAT Max', ' Fwd IAT Min', 'Bwd IAT Total', ' Bwd IAT Mean',\n",
              "       ' Bwd IAT Std', ' Bwd IAT Max', ' Bwd IAT Min', 'Fwd PSH Flags',\n",
              "       ' Bwd PSH Flags', ' Fwd URG Flags', ' Bwd URG Flags',\n",
              "       ' Fwd Header Length', ' Bwd Header Length', 'Fwd Packets/s',\n",
              "       ' Bwd Packets/s', ' Min Packet Length', ' Max Packet Length',\n",
              "       ' Packet Length Mean', ' Packet Length Std', ' Packet Length Variance',\n",
              "       'FIN Flag Count', ' SYN Flag Count', ' RST Flag Count',\n",
              "       ' PSH Flag Count', ' ACK Flag Count', ' URG Flag Count',\n",
              "       ' CWE Flag Count', ' ECE Flag Count', ' Down/Up Ratio',\n",
              "       ' Average Packet Size', ' Avg Fwd Segment Size',\n",
              "       ' Avg Bwd Segment Size', ' Fwd Header Length.1', 'Fwd Avg Bytes/Bulk',\n",
              "       ' Fwd Avg Packets/Bulk', ' Fwd Avg Bulk Rate', ' Bwd Avg Bytes/Bulk',\n",
              "       ' Bwd Avg Packets/Bulk', 'Bwd Avg Bulk Rate', 'Subflow Fwd Packets',\n",
              "       ' Subflow Fwd Bytes', ' Subflow Bwd Packets', ' Subflow Bwd Bytes',\n",
              "       'Init_Win_bytes_forward', ' Init_Win_bytes_backward',\n",
              "       ' act_data_pkt_fwd', ' min_seg_size_forward', 'Active Mean',\n",
              "       ' Active Std', ' Active Max', ' Active Min', 'Idle Mean', ' Idle Std',\n",
              "       ' Idle Max', ' Idle Min', ' Inbound'],\n",
              "      dtype='object')"
            ]
          },
          "metadata": {},
          "execution_count": 13
        }
      ]
    },
    {
      "cell_type": "code",
      "source": [
        "data_X.shape "
      ],
      "metadata": {
        "colab": {
          "base_uri": "https://localhost:8080/"
        },
        "id": "i1NsbDmKSYne",
        "outputId": "1ad1081c-9905-4568-aa8e-fe34526bc524"
      },
      "execution_count": 14,
      "outputs": [
        {
          "output_type": "execute_result",
          "data": {
            "text/plain": [
              "(58978, 86)"
            ]
          },
          "metadata": {},
          "execution_count": 14
        }
      ]
    },
    {
      "cell_type": "code",
      "source": [
        "data_y = data_df[' Label']"
      ],
      "metadata": {
        "id": "Kg-YAsI4Sduw"
      },
      "execution_count": 15,
      "outputs": []
    },
    {
      "cell_type": "code",
      "source": [
        "data_y.shape "
      ],
      "metadata": {
        "colab": {
          "base_uri": "https://localhost:8080/"
        },
        "id": "zQwhaFrBSgjc",
        "outputId": "b2440023-9411-483f-feca-715c773c58e9"
      },
      "execution_count": 16,
      "outputs": [
        {
          "output_type": "execute_result",
          "data": {
            "text/plain": [
              "(58978,)"
            ]
          },
          "metadata": {},
          "execution_count": 16
        }
      ]
    },
    {
      "cell_type": "code",
      "source": [
        "data_df.isnull().sum().sum()"
      ],
      "metadata": {
        "colab": {
          "base_uri": "https://localhost:8080/"
        },
        "id": "IZKfuHyKSilb",
        "outputId": "2897ebdd-9b4f-4eaa-fda0-e93f34d98cb0"
      },
      "execution_count": 17,
      "outputs": [
        {
          "output_type": "execute_result",
          "data": {
            "text/plain": [
              "0"
            ]
          },
          "metadata": {},
          "execution_count": 17
        }
      ]
    },
    {
      "cell_type": "code",
      "source": [
        "data_y.unique()"
      ],
      "metadata": {
        "colab": {
          "base_uri": "https://localhost:8080/"
        },
        "id": "zYYZQ-WjSl0H",
        "outputId": "40c13501-3fb0-41d9-f78c-a9660fb23a3e"
      },
      "execution_count": 18,
      "outputs": [
        {
          "output_type": "execute_result",
          "data": {
            "text/plain": [
              "array(['DrDoS_DNS', 'BENIGN', 'DrDoS_LDAP', 'DrDoS_MSSQL',\n",
              "       'DrDoS_NetBIOS', 'DrDoS_NTP', 'DrDoS_SNMP', 'DrDoS_SSDP',\n",
              "       'DrDoS_UDP', 'Syn', 'UDP-lag'], dtype=object)"
            ]
          },
          "metadata": {},
          "execution_count": 18
        }
      ]
    },
    {
      "cell_type": "code",
      "source": [
        "data_X "
      ],
      "metadata": {
        "colab": {
          "base_uri": "https://localhost:8080/",
          "height": 1000
        },
        "id": "_cW362R8Sp46",
        "outputId": "ac13c92d-76e0-4484-cd61-711f884467a6"
      },
      "execution_count": 19,
      "outputs": [
        {
          "output_type": "execute_result",
          "data": {
            "text/plain": [
              "       Unnamed: 0                                 Flow ID     Source IP  \\\n",
              "0             425    172.16.0.5-192.168.50.1-634-60495-17    172.16.0.5   \n",
              "1             430    172.16.0.5-192.168.50.1-60495-634-17  192.168.50.1   \n",
              "2            1654    172.16.0.5-192.168.50.1-634-46391-17    172.16.0.5   \n",
              "3            2927    172.16.0.5-192.168.50.1-634-11894-17    172.16.0.5   \n",
              "4             694    172.16.0.5-192.168.50.1-634-27878-17    172.16.0.5   \n",
              "...           ...                                     ...           ...   \n",
              "59995       40871  172.16.0.5-192.168.50.1-38625-63051-17    172.16.0.5   \n",
              "59996       32916  172.16.0.5-192.168.50.1-58632-18963-17    172.16.0.5   \n",
              "59997        2435  172.16.0.5-192.168.50.1-46104-64704-17    172.16.0.5   \n",
              "59998      184217  172.16.0.5-192.168.50.1-60686-10440-17    172.16.0.5   \n",
              "59999       11576   172.16.0.5-192.168.50.1-45602-1387-17    172.16.0.5   \n",
              "\n",
              "        Source Port  Destination IP   Destination Port   Protocol  \\\n",
              "0               634    192.168.50.1              60495         17   \n",
              "1               634      172.16.0.5              60495         17   \n",
              "2               634    192.168.50.1              46391         17   \n",
              "3               634    192.168.50.1              11894         17   \n",
              "4               634    192.168.50.1              27878         17   \n",
              "...             ...             ...                ...        ...   \n",
              "59995         38625    192.168.50.1              63051         17   \n",
              "59996         58632    192.168.50.1              18963         17   \n",
              "59997         46104    192.168.50.1              64704         17   \n",
              "59998         60686    192.168.50.1              10440         17   \n",
              "59999         45602    192.168.50.1               1387         17   \n",
              "\n",
              "                        Timestamp   Flow Duration   Total Fwd Packets  ...  \\\n",
              "0      2018-12-01 10:51:39.813448           28415                  97  ...   \n",
              "1      2018-12-01 10:51:39.820842               2                   2  ...   \n",
              "2      2018-12-01 10:51:39.852499           48549                 200  ...   \n",
              "3      2018-12-01 10:51:39.890213           48337                 200  ...   \n",
              "4      2018-12-01 10:51:39.941151           32026                 200  ...   \n",
              "...                           ...             ...                 ...  ...   \n",
              "59995  2018-12-01 13:04:46.628249               1                   2  ...   \n",
              "59996  2018-12-01 13:04:46.628963          212238                   6  ...   \n",
              "59997  2018-12-01 13:04:46.629014               1                   2  ...   \n",
              "59998  2018-12-01 13:04:46.629016          108952                   4  ...   \n",
              "59999  2018-12-01 13:04:46.629300               1                   2  ...   \n",
              "\n",
              "        min_seg_size_forward  Active Mean   Active Std   Active Max  \\\n",
              "0                         -1          0.0          0.0          0.0   \n",
              "1                         -1          0.0          0.0          0.0   \n",
              "2                         -1          0.0          0.0          0.0   \n",
              "3                         -1          0.0          0.0          0.0   \n",
              "4                         -1          0.0          0.0          0.0   \n",
              "...                      ...          ...          ...          ...   \n",
              "59995                     -1          0.0          0.0          0.0   \n",
              "59996                     -1          0.0          0.0          0.0   \n",
              "59997                     -1          0.0          0.0          0.0   \n",
              "59998                     -1          0.0          0.0          0.0   \n",
              "59999                     -1          0.0          0.0          0.0   \n",
              "\n",
              "        Active Min  Idle Mean   Idle Std   Idle Max   Idle Min   Inbound  \n",
              "0              0.0        0.0        0.0        0.0        0.0         1  \n",
              "1              0.0        0.0        0.0        0.0        0.0         0  \n",
              "2              0.0        0.0        0.0        0.0        0.0         1  \n",
              "3              0.0        0.0        0.0        0.0        0.0         1  \n",
              "4              0.0        0.0        0.0        0.0        0.0         1  \n",
              "...            ...        ...        ...        ...        ...       ...  \n",
              "59995          0.0        0.0        0.0        0.0        0.0         1  \n",
              "59996          0.0        0.0        0.0        0.0        0.0         1  \n",
              "59997          0.0        0.0        0.0        0.0        0.0         1  \n",
              "59998          0.0        0.0        0.0        0.0        0.0         1  \n",
              "59999          0.0        0.0        0.0        0.0        0.0         1  \n",
              "\n",
              "[58978 rows x 86 columns]"
            ],
            "text/html": [
              "\n",
              "  <div id=\"df-0980238a-8065-4d94-bff6-98365482814e\">\n",
              "    <div class=\"colab-df-container\">\n",
              "      <div>\n",
              "<style scoped>\n",
              "    .dataframe tbody tr th:only-of-type {\n",
              "        vertical-align: middle;\n",
              "    }\n",
              "\n",
              "    .dataframe tbody tr th {\n",
              "        vertical-align: top;\n",
              "    }\n",
              "\n",
              "    .dataframe thead th {\n",
              "        text-align: right;\n",
              "    }\n",
              "</style>\n",
              "<table border=\"1\" class=\"dataframe\">\n",
              "  <thead>\n",
              "    <tr style=\"text-align: right;\">\n",
              "      <th></th>\n",
              "      <th>Unnamed: 0</th>\n",
              "      <th>Flow ID</th>\n",
              "      <th>Source IP</th>\n",
              "      <th>Source Port</th>\n",
              "      <th>Destination IP</th>\n",
              "      <th>Destination Port</th>\n",
              "      <th>Protocol</th>\n",
              "      <th>Timestamp</th>\n",
              "      <th>Flow Duration</th>\n",
              "      <th>Total Fwd Packets</th>\n",
              "      <th>...</th>\n",
              "      <th>min_seg_size_forward</th>\n",
              "      <th>Active Mean</th>\n",
              "      <th>Active Std</th>\n",
              "      <th>Active Max</th>\n",
              "      <th>Active Min</th>\n",
              "      <th>Idle Mean</th>\n",
              "      <th>Idle Std</th>\n",
              "      <th>Idle Max</th>\n",
              "      <th>Idle Min</th>\n",
              "      <th>Inbound</th>\n",
              "    </tr>\n",
              "  </thead>\n",
              "  <tbody>\n",
              "    <tr>\n",
              "      <th>0</th>\n",
              "      <td>425</td>\n",
              "      <td>172.16.0.5-192.168.50.1-634-60495-17</td>\n",
              "      <td>172.16.0.5</td>\n",
              "      <td>634</td>\n",
              "      <td>192.168.50.1</td>\n",
              "      <td>60495</td>\n",
              "      <td>17</td>\n",
              "      <td>2018-12-01 10:51:39.813448</td>\n",
              "      <td>28415</td>\n",
              "      <td>97</td>\n",
              "      <td>...</td>\n",
              "      <td>-1</td>\n",
              "      <td>0.0</td>\n",
              "      <td>0.0</td>\n",
              "      <td>0.0</td>\n",
              "      <td>0.0</td>\n",
              "      <td>0.0</td>\n",
              "      <td>0.0</td>\n",
              "      <td>0.0</td>\n",
              "      <td>0.0</td>\n",
              "      <td>1</td>\n",
              "    </tr>\n",
              "    <tr>\n",
              "      <th>1</th>\n",
              "      <td>430</td>\n",
              "      <td>172.16.0.5-192.168.50.1-60495-634-17</td>\n",
              "      <td>192.168.50.1</td>\n",
              "      <td>634</td>\n",
              "      <td>172.16.0.5</td>\n",
              "      <td>60495</td>\n",
              "      <td>17</td>\n",
              "      <td>2018-12-01 10:51:39.820842</td>\n",
              "      <td>2</td>\n",
              "      <td>2</td>\n",
              "      <td>...</td>\n",
              "      <td>-1</td>\n",
              "      <td>0.0</td>\n",
              "      <td>0.0</td>\n",
              "      <td>0.0</td>\n",
              "      <td>0.0</td>\n",
              "      <td>0.0</td>\n",
              "      <td>0.0</td>\n",
              "      <td>0.0</td>\n",
              "      <td>0.0</td>\n",
              "      <td>0</td>\n",
              "    </tr>\n",
              "    <tr>\n",
              "      <th>2</th>\n",
              "      <td>1654</td>\n",
              "      <td>172.16.0.5-192.168.50.1-634-46391-17</td>\n",
              "      <td>172.16.0.5</td>\n",
              "      <td>634</td>\n",
              "      <td>192.168.50.1</td>\n",
              "      <td>46391</td>\n",
              "      <td>17</td>\n",
              "      <td>2018-12-01 10:51:39.852499</td>\n",
              "      <td>48549</td>\n",
              "      <td>200</td>\n",
              "      <td>...</td>\n",
              "      <td>-1</td>\n",
              "      <td>0.0</td>\n",
              "      <td>0.0</td>\n",
              "      <td>0.0</td>\n",
              "      <td>0.0</td>\n",
              "      <td>0.0</td>\n",
              "      <td>0.0</td>\n",
              "      <td>0.0</td>\n",
              "      <td>0.0</td>\n",
              "      <td>1</td>\n",
              "    </tr>\n",
              "    <tr>\n",
              "      <th>3</th>\n",
              "      <td>2927</td>\n",
              "      <td>172.16.0.5-192.168.50.1-634-11894-17</td>\n",
              "      <td>172.16.0.5</td>\n",
              "      <td>634</td>\n",
              "      <td>192.168.50.1</td>\n",
              "      <td>11894</td>\n",
              "      <td>17</td>\n",
              "      <td>2018-12-01 10:51:39.890213</td>\n",
              "      <td>48337</td>\n",
              "      <td>200</td>\n",
              "      <td>...</td>\n",
              "      <td>-1</td>\n",
              "      <td>0.0</td>\n",
              "      <td>0.0</td>\n",
              "      <td>0.0</td>\n",
              "      <td>0.0</td>\n",
              "      <td>0.0</td>\n",
              "      <td>0.0</td>\n",
              "      <td>0.0</td>\n",
              "      <td>0.0</td>\n",
              "      <td>1</td>\n",
              "    </tr>\n",
              "    <tr>\n",
              "      <th>4</th>\n",
              "      <td>694</td>\n",
              "      <td>172.16.0.5-192.168.50.1-634-27878-17</td>\n",
              "      <td>172.16.0.5</td>\n",
              "      <td>634</td>\n",
              "      <td>192.168.50.1</td>\n",
              "      <td>27878</td>\n",
              "      <td>17</td>\n",
              "      <td>2018-12-01 10:51:39.941151</td>\n",
              "      <td>32026</td>\n",
              "      <td>200</td>\n",
              "      <td>...</td>\n",
              "      <td>-1</td>\n",
              "      <td>0.0</td>\n",
              "      <td>0.0</td>\n",
              "      <td>0.0</td>\n",
              "      <td>0.0</td>\n",
              "      <td>0.0</td>\n",
              "      <td>0.0</td>\n",
              "      <td>0.0</td>\n",
              "      <td>0.0</td>\n",
              "      <td>1</td>\n",
              "    </tr>\n",
              "    <tr>\n",
              "      <th>...</th>\n",
              "      <td>...</td>\n",
              "      <td>...</td>\n",
              "      <td>...</td>\n",
              "      <td>...</td>\n",
              "      <td>...</td>\n",
              "      <td>...</td>\n",
              "      <td>...</td>\n",
              "      <td>...</td>\n",
              "      <td>...</td>\n",
              "      <td>...</td>\n",
              "      <td>...</td>\n",
              "      <td>...</td>\n",
              "      <td>...</td>\n",
              "      <td>...</td>\n",
              "      <td>...</td>\n",
              "      <td>...</td>\n",
              "      <td>...</td>\n",
              "      <td>...</td>\n",
              "      <td>...</td>\n",
              "      <td>...</td>\n",
              "      <td>...</td>\n",
              "    </tr>\n",
              "    <tr>\n",
              "      <th>59995</th>\n",
              "      <td>40871</td>\n",
              "      <td>172.16.0.5-192.168.50.1-38625-63051-17</td>\n",
              "      <td>172.16.0.5</td>\n",
              "      <td>38625</td>\n",
              "      <td>192.168.50.1</td>\n",
              "      <td>63051</td>\n",
              "      <td>17</td>\n",
              "      <td>2018-12-01 13:04:46.628249</td>\n",
              "      <td>1</td>\n",
              "      <td>2</td>\n",
              "      <td>...</td>\n",
              "      <td>-1</td>\n",
              "      <td>0.0</td>\n",
              "      <td>0.0</td>\n",
              "      <td>0.0</td>\n",
              "      <td>0.0</td>\n",
              "      <td>0.0</td>\n",
              "      <td>0.0</td>\n",
              "      <td>0.0</td>\n",
              "      <td>0.0</td>\n",
              "      <td>1</td>\n",
              "    </tr>\n",
              "    <tr>\n",
              "      <th>59996</th>\n",
              "      <td>32916</td>\n",
              "      <td>172.16.0.5-192.168.50.1-58632-18963-17</td>\n",
              "      <td>172.16.0.5</td>\n",
              "      <td>58632</td>\n",
              "      <td>192.168.50.1</td>\n",
              "      <td>18963</td>\n",
              "      <td>17</td>\n",
              "      <td>2018-12-01 13:04:46.628963</td>\n",
              "      <td>212238</td>\n",
              "      <td>6</td>\n",
              "      <td>...</td>\n",
              "      <td>-1</td>\n",
              "      <td>0.0</td>\n",
              "      <td>0.0</td>\n",
              "      <td>0.0</td>\n",
              "      <td>0.0</td>\n",
              "      <td>0.0</td>\n",
              "      <td>0.0</td>\n",
              "      <td>0.0</td>\n",
              "      <td>0.0</td>\n",
              "      <td>1</td>\n",
              "    </tr>\n",
              "    <tr>\n",
              "      <th>59997</th>\n",
              "      <td>2435</td>\n",
              "      <td>172.16.0.5-192.168.50.1-46104-64704-17</td>\n",
              "      <td>172.16.0.5</td>\n",
              "      <td>46104</td>\n",
              "      <td>192.168.50.1</td>\n",
              "      <td>64704</td>\n",
              "      <td>17</td>\n",
              "      <td>2018-12-01 13:04:46.629014</td>\n",
              "      <td>1</td>\n",
              "      <td>2</td>\n",
              "      <td>...</td>\n",
              "      <td>-1</td>\n",
              "      <td>0.0</td>\n",
              "      <td>0.0</td>\n",
              "      <td>0.0</td>\n",
              "      <td>0.0</td>\n",
              "      <td>0.0</td>\n",
              "      <td>0.0</td>\n",
              "      <td>0.0</td>\n",
              "      <td>0.0</td>\n",
              "      <td>1</td>\n",
              "    </tr>\n",
              "    <tr>\n",
              "      <th>59998</th>\n",
              "      <td>184217</td>\n",
              "      <td>172.16.0.5-192.168.50.1-60686-10440-17</td>\n",
              "      <td>172.16.0.5</td>\n",
              "      <td>60686</td>\n",
              "      <td>192.168.50.1</td>\n",
              "      <td>10440</td>\n",
              "      <td>17</td>\n",
              "      <td>2018-12-01 13:04:46.629016</td>\n",
              "      <td>108952</td>\n",
              "      <td>4</td>\n",
              "      <td>...</td>\n",
              "      <td>-1</td>\n",
              "      <td>0.0</td>\n",
              "      <td>0.0</td>\n",
              "      <td>0.0</td>\n",
              "      <td>0.0</td>\n",
              "      <td>0.0</td>\n",
              "      <td>0.0</td>\n",
              "      <td>0.0</td>\n",
              "      <td>0.0</td>\n",
              "      <td>1</td>\n",
              "    </tr>\n",
              "    <tr>\n",
              "      <th>59999</th>\n",
              "      <td>11576</td>\n",
              "      <td>172.16.0.5-192.168.50.1-45602-1387-17</td>\n",
              "      <td>172.16.0.5</td>\n",
              "      <td>45602</td>\n",
              "      <td>192.168.50.1</td>\n",
              "      <td>1387</td>\n",
              "      <td>17</td>\n",
              "      <td>2018-12-01 13:04:46.629300</td>\n",
              "      <td>1</td>\n",
              "      <td>2</td>\n",
              "      <td>...</td>\n",
              "      <td>-1</td>\n",
              "      <td>0.0</td>\n",
              "      <td>0.0</td>\n",
              "      <td>0.0</td>\n",
              "      <td>0.0</td>\n",
              "      <td>0.0</td>\n",
              "      <td>0.0</td>\n",
              "      <td>0.0</td>\n",
              "      <td>0.0</td>\n",
              "      <td>1</td>\n",
              "    </tr>\n",
              "  </tbody>\n",
              "</table>\n",
              "<p>58978 rows × 86 columns</p>\n",
              "</div>\n",
              "      <button class=\"colab-df-convert\" onclick=\"convertToInteractive('df-0980238a-8065-4d94-bff6-98365482814e')\"\n",
              "              title=\"Convert this dataframe to an interactive table.\"\n",
              "              style=\"display:none;\">\n",
              "        \n",
              "  <svg xmlns=\"http://www.w3.org/2000/svg\" height=\"24px\"viewBox=\"0 0 24 24\"\n",
              "       width=\"24px\">\n",
              "    <path d=\"M0 0h24v24H0V0z\" fill=\"none\"/>\n",
              "    <path d=\"M18.56 5.44l.94 2.06.94-2.06 2.06-.94-2.06-.94-.94-2.06-.94 2.06-2.06.94zm-11 1L8.5 8.5l.94-2.06 2.06-.94-2.06-.94L8.5 2.5l-.94 2.06-2.06.94zm10 10l.94 2.06.94-2.06 2.06-.94-2.06-.94-.94-2.06-.94 2.06-2.06.94z\"/><path d=\"M17.41 7.96l-1.37-1.37c-.4-.4-.92-.59-1.43-.59-.52 0-1.04.2-1.43.59L10.3 9.45l-7.72 7.72c-.78.78-.78 2.05 0 2.83L4 21.41c.39.39.9.59 1.41.59.51 0 1.02-.2 1.41-.59l7.78-7.78 2.81-2.81c.8-.78.8-2.07 0-2.86zM5.41 20L4 18.59l7.72-7.72 1.47 1.35L5.41 20z\"/>\n",
              "  </svg>\n",
              "      </button>\n",
              "      \n",
              "  <style>\n",
              "    .colab-df-container {\n",
              "      display:flex;\n",
              "      flex-wrap:wrap;\n",
              "      gap: 12px;\n",
              "    }\n",
              "\n",
              "    .colab-df-convert {\n",
              "      background-color: #E8F0FE;\n",
              "      border: none;\n",
              "      border-radius: 50%;\n",
              "      cursor: pointer;\n",
              "      display: none;\n",
              "      fill: #1967D2;\n",
              "      height: 32px;\n",
              "      padding: 0 0 0 0;\n",
              "      width: 32px;\n",
              "    }\n",
              "\n",
              "    .colab-df-convert:hover {\n",
              "      background-color: #E2EBFA;\n",
              "      box-shadow: 0px 1px 2px rgba(60, 64, 67, 0.3), 0px 1px 3px 1px rgba(60, 64, 67, 0.15);\n",
              "      fill: #174EA6;\n",
              "    }\n",
              "\n",
              "    [theme=dark] .colab-df-convert {\n",
              "      background-color: #3B4455;\n",
              "      fill: #D2E3FC;\n",
              "    }\n",
              "\n",
              "    [theme=dark] .colab-df-convert:hover {\n",
              "      background-color: #434B5C;\n",
              "      box-shadow: 0px 1px 3px 1px rgba(0, 0, 0, 0.15);\n",
              "      filter: drop-shadow(0px 1px 2px rgba(0, 0, 0, 0.3));\n",
              "      fill: #FFFFFF;\n",
              "    }\n",
              "  </style>\n",
              "\n",
              "      <script>\n",
              "        const buttonEl =\n",
              "          document.querySelector('#df-0980238a-8065-4d94-bff6-98365482814e button.colab-df-convert');\n",
              "        buttonEl.style.display =\n",
              "          google.colab.kernel.accessAllowed ? 'block' : 'none';\n",
              "\n",
              "        async function convertToInteractive(key) {\n",
              "          const element = document.querySelector('#df-0980238a-8065-4d94-bff6-98365482814e');\n",
              "          const dataTable =\n",
              "            await google.colab.kernel.invokeFunction('convertToInteractive',\n",
              "                                                     [key], {});\n",
              "          if (!dataTable) return;\n",
              "\n",
              "          const docLinkHtml = 'Like what you see? Visit the ' +\n",
              "            '<a target=\"_blank\" href=https://colab.research.google.com/notebooks/data_table.ipynb>data table notebook</a>'\n",
              "            + ' to learn more about interactive tables.';\n",
              "          element.innerHTML = '';\n",
              "          dataTable['output_type'] = 'display_data';\n",
              "          await google.colab.output.renderOutput(dataTable, element);\n",
              "          const docLink = document.createElement('div');\n",
              "          docLink.innerHTML = docLinkHtml;\n",
              "          element.appendChild(docLink);\n",
              "        }\n",
              "      </script>\n",
              "    </div>\n",
              "  </div>\n",
              "  "
            ]
          },
          "metadata": {},
          "execution_count": 19
        }
      ]
    },
    {
      "cell_type": "markdown",
      "source": [
        "Label encoding"
      ],
      "metadata": {
        "id": "m_33cVtBpNrv"
      }
    },
    {
      "cell_type": "code",
      "source": [
        "from sklearn.preprocessing import LabelEncoder "
      ],
      "metadata": {
        "id": "ZtLQo0xTSuKP"
      },
      "execution_count": 20,
      "outputs": []
    },
    {
      "cell_type": "code",
      "source": [
        "le = LabelEncoder()"
      ],
      "metadata": {
        "id": "9Lr1-HvcV8-V"
      },
      "execution_count": 21,
      "outputs": []
    },
    {
      "cell_type": "code",
      "source": [
        "data_y_trans = le.fit_transform(data_y)\n",
        "le_fid = LabelEncoder()\n"
      ],
      "metadata": {
        "id": "l32ds-KaWBEt"
      },
      "execution_count": 22,
      "outputs": []
    },
    {
      "cell_type": "code",
      "source": [
        "le_fid.fit(data_X['Flow ID'])\n",
        "data_X['Flow ID'] = le_fid.fit_transform(data_X['Flow ID'])"
      ],
      "metadata": {
        "id": "m8c34GfESkQn"
      },
      "execution_count": 23,
      "outputs": []
    },
    {
      "cell_type": "code",
      "source": [
        "le_SIP = LabelEncoder()"
      ],
      "metadata": {
        "id": "ys1mXb7rSlQx"
      },
      "execution_count": 24,
      "outputs": []
    },
    {
      "cell_type": "code",
      "source": [
        "le_SIP.fit(data_X[' Source IP'])\n",
        "data_X[' Source IP'] = le_SIP.fit_transform(data_X[' Source IP'])"
      ],
      "metadata": {
        "id": "xqioA4XZSpBh"
      },
      "execution_count": 25,
      "outputs": []
    },
    {
      "cell_type": "code",
      "source": [
        "le_DIP = LabelEncoder()\n"
      ],
      "metadata": {
        "id": "FOlIpGskSwFZ"
      },
      "execution_count": 26,
      "outputs": []
    },
    {
      "cell_type": "code",
      "source": [
        "le_DIP.fit(data_X[' Destination IP'])\n",
        "data_X[' Destination IP'] = le_DIP.fit_transform(data_X[' Destination IP'])"
      ],
      "metadata": {
        "id": "WjcFQm4SS0e1"
      },
      "execution_count": 27,
      "outputs": []
    },
    {
      "cell_type": "code",
      "source": [
        "le_timestamp = LabelEncoder()\n",
        "le_timestamp.fit(data_X[' Timestamp'])\n",
        "data_X[' Timestamp'] = le_timestamp.fit_transform(data_X[' Timestamp'])"
      ],
      "metadata": {
        "id": "wl80JE9MWEGS"
      },
      "execution_count": 28,
      "outputs": []
    },
    {
      "cell_type": "code",
      "source": [
        "data_X"
      ],
      "metadata": {
        "colab": {
          "base_uri": "https://localhost:8080/",
          "height": 522
        },
        "id": "bGQlGNLBWGsd",
        "outputId": "18cd96b1-d3ca-446c-bc9f-de3012d095d0"
      },
      "execution_count": 29,
      "outputs": [
        {
          "output_type": "execute_result",
          "data": {
            "text/plain": [
              "       Unnamed: 0  Flow ID   Source IP   Source Port   Destination IP  \\\n",
              "0             425    31342          16           634               90   \n",
              "1             430    22944          75           634               23   \n",
              "2            1654    30339          16           634               90   \n",
              "3            2927    28045          16           634               90   \n",
              "4             694    29116          16           634               90   \n",
              "...           ...      ...         ...           ...              ...   \n",
              "59995       40871     8767          16         38625               90   \n",
              "59996       32916    21439          16         58632               90   \n",
              "59997        2435    12555          16         46104               90   \n",
              "59998      184217    23227          16         60686               90   \n",
              "59999       11576    12433          16         45602               90   \n",
              "\n",
              "        Destination Port   Protocol   Timestamp   Flow Duration  \\\n",
              "0                  60495         17        5984           28415   \n",
              "1                  60495         17        5985               2   \n",
              "2                  46391         17        5986           48549   \n",
              "3                  11894         17        5987           48337   \n",
              "4                  27878         17        5988           32026   \n",
              "...                  ...        ...         ...             ...   \n",
              "59995              63051         17       53487               1   \n",
              "59996              18963         17       53488          212238   \n",
              "59997              64704         17       53489               1   \n",
              "59998              10440         17       53490          108952   \n",
              "59999               1387         17       53491               1   \n",
              "\n",
              "        Total Fwd Packets  ...   min_seg_size_forward  Active Mean  \\\n",
              "0                      97  ...                     -1          0.0   \n",
              "1                       2  ...                     -1          0.0   \n",
              "2                     200  ...                     -1          0.0   \n",
              "3                     200  ...                     -1          0.0   \n",
              "4                     200  ...                     -1          0.0   \n",
              "...                   ...  ...                    ...          ...   \n",
              "59995                   2  ...                     -1          0.0   \n",
              "59996                   6  ...                     -1          0.0   \n",
              "59997                   2  ...                     -1          0.0   \n",
              "59998                   4  ...                     -1          0.0   \n",
              "59999                   2  ...                     -1          0.0   \n",
              "\n",
              "        Active Std   Active Max   Active Min  Idle Mean   Idle Std   Idle Max  \\\n",
              "0              0.0          0.0          0.0        0.0        0.0        0.0   \n",
              "1              0.0          0.0          0.0        0.0        0.0        0.0   \n",
              "2              0.0          0.0          0.0        0.0        0.0        0.0   \n",
              "3              0.0          0.0          0.0        0.0        0.0        0.0   \n",
              "4              0.0          0.0          0.0        0.0        0.0        0.0   \n",
              "...            ...          ...          ...        ...        ...        ...   \n",
              "59995          0.0          0.0          0.0        0.0        0.0        0.0   \n",
              "59996          0.0          0.0          0.0        0.0        0.0        0.0   \n",
              "59997          0.0          0.0          0.0        0.0        0.0        0.0   \n",
              "59998          0.0          0.0          0.0        0.0        0.0        0.0   \n",
              "59999          0.0          0.0          0.0        0.0        0.0        0.0   \n",
              "\n",
              "        Idle Min   Inbound  \n",
              "0            0.0         1  \n",
              "1            0.0         0  \n",
              "2            0.0         1  \n",
              "3            0.0         1  \n",
              "4            0.0         1  \n",
              "...          ...       ...  \n",
              "59995        0.0         1  \n",
              "59996        0.0         1  \n",
              "59997        0.0         1  \n",
              "59998        0.0         1  \n",
              "59999        0.0         1  \n",
              "\n",
              "[58978 rows x 86 columns]"
            ],
            "text/html": [
              "\n",
              "  <div id=\"df-f7a8c292-5bb7-4d15-aa22-a1f154f3f940\">\n",
              "    <div class=\"colab-df-container\">\n",
              "      <div>\n",
              "<style scoped>\n",
              "    .dataframe tbody tr th:only-of-type {\n",
              "        vertical-align: middle;\n",
              "    }\n",
              "\n",
              "    .dataframe tbody tr th {\n",
              "        vertical-align: top;\n",
              "    }\n",
              "\n",
              "    .dataframe thead th {\n",
              "        text-align: right;\n",
              "    }\n",
              "</style>\n",
              "<table border=\"1\" class=\"dataframe\">\n",
              "  <thead>\n",
              "    <tr style=\"text-align: right;\">\n",
              "      <th></th>\n",
              "      <th>Unnamed: 0</th>\n",
              "      <th>Flow ID</th>\n",
              "      <th>Source IP</th>\n",
              "      <th>Source Port</th>\n",
              "      <th>Destination IP</th>\n",
              "      <th>Destination Port</th>\n",
              "      <th>Protocol</th>\n",
              "      <th>Timestamp</th>\n",
              "      <th>Flow Duration</th>\n",
              "      <th>Total Fwd Packets</th>\n",
              "      <th>...</th>\n",
              "      <th>min_seg_size_forward</th>\n",
              "      <th>Active Mean</th>\n",
              "      <th>Active Std</th>\n",
              "      <th>Active Max</th>\n",
              "      <th>Active Min</th>\n",
              "      <th>Idle Mean</th>\n",
              "      <th>Idle Std</th>\n",
              "      <th>Idle Max</th>\n",
              "      <th>Idle Min</th>\n",
              "      <th>Inbound</th>\n",
              "    </tr>\n",
              "  </thead>\n",
              "  <tbody>\n",
              "    <tr>\n",
              "      <th>0</th>\n",
              "      <td>425</td>\n",
              "      <td>31342</td>\n",
              "      <td>16</td>\n",
              "      <td>634</td>\n",
              "      <td>90</td>\n",
              "      <td>60495</td>\n",
              "      <td>17</td>\n",
              "      <td>5984</td>\n",
              "      <td>28415</td>\n",
              "      <td>97</td>\n",
              "      <td>...</td>\n",
              "      <td>-1</td>\n",
              "      <td>0.0</td>\n",
              "      <td>0.0</td>\n",
              "      <td>0.0</td>\n",
              "      <td>0.0</td>\n",
              "      <td>0.0</td>\n",
              "      <td>0.0</td>\n",
              "      <td>0.0</td>\n",
              "      <td>0.0</td>\n",
              "      <td>1</td>\n",
              "    </tr>\n",
              "    <tr>\n",
              "      <th>1</th>\n",
              "      <td>430</td>\n",
              "      <td>22944</td>\n",
              "      <td>75</td>\n",
              "      <td>634</td>\n",
              "      <td>23</td>\n",
              "      <td>60495</td>\n",
              "      <td>17</td>\n",
              "      <td>5985</td>\n",
              "      <td>2</td>\n",
              "      <td>2</td>\n",
              "      <td>...</td>\n",
              "      <td>-1</td>\n",
              "      <td>0.0</td>\n",
              "      <td>0.0</td>\n",
              "      <td>0.0</td>\n",
              "      <td>0.0</td>\n",
              "      <td>0.0</td>\n",
              "      <td>0.0</td>\n",
              "      <td>0.0</td>\n",
              "      <td>0.0</td>\n",
              "      <td>0</td>\n",
              "    </tr>\n",
              "    <tr>\n",
              "      <th>2</th>\n",
              "      <td>1654</td>\n",
              "      <td>30339</td>\n",
              "      <td>16</td>\n",
              "      <td>634</td>\n",
              "      <td>90</td>\n",
              "      <td>46391</td>\n",
              "      <td>17</td>\n",
              "      <td>5986</td>\n",
              "      <td>48549</td>\n",
              "      <td>200</td>\n",
              "      <td>...</td>\n",
              "      <td>-1</td>\n",
              "      <td>0.0</td>\n",
              "      <td>0.0</td>\n",
              "      <td>0.0</td>\n",
              "      <td>0.0</td>\n",
              "      <td>0.0</td>\n",
              "      <td>0.0</td>\n",
              "      <td>0.0</td>\n",
              "      <td>0.0</td>\n",
              "      <td>1</td>\n",
              "    </tr>\n",
              "    <tr>\n",
              "      <th>3</th>\n",
              "      <td>2927</td>\n",
              "      <td>28045</td>\n",
              "      <td>16</td>\n",
              "      <td>634</td>\n",
              "      <td>90</td>\n",
              "      <td>11894</td>\n",
              "      <td>17</td>\n",
              "      <td>5987</td>\n",
              "      <td>48337</td>\n",
              "      <td>200</td>\n",
              "      <td>...</td>\n",
              "      <td>-1</td>\n",
              "      <td>0.0</td>\n",
              "      <td>0.0</td>\n",
              "      <td>0.0</td>\n",
              "      <td>0.0</td>\n",
              "      <td>0.0</td>\n",
              "      <td>0.0</td>\n",
              "      <td>0.0</td>\n",
              "      <td>0.0</td>\n",
              "      <td>1</td>\n",
              "    </tr>\n",
              "    <tr>\n",
              "      <th>4</th>\n",
              "      <td>694</td>\n",
              "      <td>29116</td>\n",
              "      <td>16</td>\n",
              "      <td>634</td>\n",
              "      <td>90</td>\n",
              "      <td>27878</td>\n",
              "      <td>17</td>\n",
              "      <td>5988</td>\n",
              "      <td>32026</td>\n",
              "      <td>200</td>\n",
              "      <td>...</td>\n",
              "      <td>-1</td>\n",
              "      <td>0.0</td>\n",
              "      <td>0.0</td>\n",
              "      <td>0.0</td>\n",
              "      <td>0.0</td>\n",
              "      <td>0.0</td>\n",
              "      <td>0.0</td>\n",
              "      <td>0.0</td>\n",
              "      <td>0.0</td>\n",
              "      <td>1</td>\n",
              "    </tr>\n",
              "    <tr>\n",
              "      <th>...</th>\n",
              "      <td>...</td>\n",
              "      <td>...</td>\n",
              "      <td>...</td>\n",
              "      <td>...</td>\n",
              "      <td>...</td>\n",
              "      <td>...</td>\n",
              "      <td>...</td>\n",
              "      <td>...</td>\n",
              "      <td>...</td>\n",
              "      <td>...</td>\n",
              "      <td>...</td>\n",
              "      <td>...</td>\n",
              "      <td>...</td>\n",
              "      <td>...</td>\n",
              "      <td>...</td>\n",
              "      <td>...</td>\n",
              "      <td>...</td>\n",
              "      <td>...</td>\n",
              "      <td>...</td>\n",
              "      <td>...</td>\n",
              "      <td>...</td>\n",
              "    </tr>\n",
              "    <tr>\n",
              "      <th>59995</th>\n",
              "      <td>40871</td>\n",
              "      <td>8767</td>\n",
              "      <td>16</td>\n",
              "      <td>38625</td>\n",
              "      <td>90</td>\n",
              "      <td>63051</td>\n",
              "      <td>17</td>\n",
              "      <td>53487</td>\n",
              "      <td>1</td>\n",
              "      <td>2</td>\n",
              "      <td>...</td>\n",
              "      <td>-1</td>\n",
              "      <td>0.0</td>\n",
              "      <td>0.0</td>\n",
              "      <td>0.0</td>\n",
              "      <td>0.0</td>\n",
              "      <td>0.0</td>\n",
              "      <td>0.0</td>\n",
              "      <td>0.0</td>\n",
              "      <td>0.0</td>\n",
              "      <td>1</td>\n",
              "    </tr>\n",
              "    <tr>\n",
              "      <th>59996</th>\n",
              "      <td>32916</td>\n",
              "      <td>21439</td>\n",
              "      <td>16</td>\n",
              "      <td>58632</td>\n",
              "      <td>90</td>\n",
              "      <td>18963</td>\n",
              "      <td>17</td>\n",
              "      <td>53488</td>\n",
              "      <td>212238</td>\n",
              "      <td>6</td>\n",
              "      <td>...</td>\n",
              "      <td>-1</td>\n",
              "      <td>0.0</td>\n",
              "      <td>0.0</td>\n",
              "      <td>0.0</td>\n",
              "      <td>0.0</td>\n",
              "      <td>0.0</td>\n",
              "      <td>0.0</td>\n",
              "      <td>0.0</td>\n",
              "      <td>0.0</td>\n",
              "      <td>1</td>\n",
              "    </tr>\n",
              "    <tr>\n",
              "      <th>59997</th>\n",
              "      <td>2435</td>\n",
              "      <td>12555</td>\n",
              "      <td>16</td>\n",
              "      <td>46104</td>\n",
              "      <td>90</td>\n",
              "      <td>64704</td>\n",
              "      <td>17</td>\n",
              "      <td>53489</td>\n",
              "      <td>1</td>\n",
              "      <td>2</td>\n",
              "      <td>...</td>\n",
              "      <td>-1</td>\n",
              "      <td>0.0</td>\n",
              "      <td>0.0</td>\n",
              "      <td>0.0</td>\n",
              "      <td>0.0</td>\n",
              "      <td>0.0</td>\n",
              "      <td>0.0</td>\n",
              "      <td>0.0</td>\n",
              "      <td>0.0</td>\n",
              "      <td>1</td>\n",
              "    </tr>\n",
              "    <tr>\n",
              "      <th>59998</th>\n",
              "      <td>184217</td>\n",
              "      <td>23227</td>\n",
              "      <td>16</td>\n",
              "      <td>60686</td>\n",
              "      <td>90</td>\n",
              "      <td>10440</td>\n",
              "      <td>17</td>\n",
              "      <td>53490</td>\n",
              "      <td>108952</td>\n",
              "      <td>4</td>\n",
              "      <td>...</td>\n",
              "      <td>-1</td>\n",
              "      <td>0.0</td>\n",
              "      <td>0.0</td>\n",
              "      <td>0.0</td>\n",
              "      <td>0.0</td>\n",
              "      <td>0.0</td>\n",
              "      <td>0.0</td>\n",
              "      <td>0.0</td>\n",
              "      <td>0.0</td>\n",
              "      <td>1</td>\n",
              "    </tr>\n",
              "    <tr>\n",
              "      <th>59999</th>\n",
              "      <td>11576</td>\n",
              "      <td>12433</td>\n",
              "      <td>16</td>\n",
              "      <td>45602</td>\n",
              "      <td>90</td>\n",
              "      <td>1387</td>\n",
              "      <td>17</td>\n",
              "      <td>53491</td>\n",
              "      <td>1</td>\n",
              "      <td>2</td>\n",
              "      <td>...</td>\n",
              "      <td>-1</td>\n",
              "      <td>0.0</td>\n",
              "      <td>0.0</td>\n",
              "      <td>0.0</td>\n",
              "      <td>0.0</td>\n",
              "      <td>0.0</td>\n",
              "      <td>0.0</td>\n",
              "      <td>0.0</td>\n",
              "      <td>0.0</td>\n",
              "      <td>1</td>\n",
              "    </tr>\n",
              "  </tbody>\n",
              "</table>\n",
              "<p>58978 rows × 86 columns</p>\n",
              "</div>\n",
              "      <button class=\"colab-df-convert\" onclick=\"convertToInteractive('df-f7a8c292-5bb7-4d15-aa22-a1f154f3f940')\"\n",
              "              title=\"Convert this dataframe to an interactive table.\"\n",
              "              style=\"display:none;\">\n",
              "        \n",
              "  <svg xmlns=\"http://www.w3.org/2000/svg\" height=\"24px\"viewBox=\"0 0 24 24\"\n",
              "       width=\"24px\">\n",
              "    <path d=\"M0 0h24v24H0V0z\" fill=\"none\"/>\n",
              "    <path d=\"M18.56 5.44l.94 2.06.94-2.06 2.06-.94-2.06-.94-.94-2.06-.94 2.06-2.06.94zm-11 1L8.5 8.5l.94-2.06 2.06-.94-2.06-.94L8.5 2.5l-.94 2.06-2.06.94zm10 10l.94 2.06.94-2.06 2.06-.94-2.06-.94-.94-2.06-.94 2.06-2.06.94z\"/><path d=\"M17.41 7.96l-1.37-1.37c-.4-.4-.92-.59-1.43-.59-.52 0-1.04.2-1.43.59L10.3 9.45l-7.72 7.72c-.78.78-.78 2.05 0 2.83L4 21.41c.39.39.9.59 1.41.59.51 0 1.02-.2 1.41-.59l7.78-7.78 2.81-2.81c.8-.78.8-2.07 0-2.86zM5.41 20L4 18.59l7.72-7.72 1.47 1.35L5.41 20z\"/>\n",
              "  </svg>\n",
              "      </button>\n",
              "      \n",
              "  <style>\n",
              "    .colab-df-container {\n",
              "      display:flex;\n",
              "      flex-wrap:wrap;\n",
              "      gap: 12px;\n",
              "    }\n",
              "\n",
              "    .colab-df-convert {\n",
              "      background-color: #E8F0FE;\n",
              "      border: none;\n",
              "      border-radius: 50%;\n",
              "      cursor: pointer;\n",
              "      display: none;\n",
              "      fill: #1967D2;\n",
              "      height: 32px;\n",
              "      padding: 0 0 0 0;\n",
              "      width: 32px;\n",
              "    }\n",
              "\n",
              "    .colab-df-convert:hover {\n",
              "      background-color: #E2EBFA;\n",
              "      box-shadow: 0px 1px 2px rgba(60, 64, 67, 0.3), 0px 1px 3px 1px rgba(60, 64, 67, 0.15);\n",
              "      fill: #174EA6;\n",
              "    }\n",
              "\n",
              "    [theme=dark] .colab-df-convert {\n",
              "      background-color: #3B4455;\n",
              "      fill: #D2E3FC;\n",
              "    }\n",
              "\n",
              "    [theme=dark] .colab-df-convert:hover {\n",
              "      background-color: #434B5C;\n",
              "      box-shadow: 0px 1px 3px 1px rgba(0, 0, 0, 0.15);\n",
              "      filter: drop-shadow(0px 1px 2px rgba(0, 0, 0, 0.3));\n",
              "      fill: #FFFFFF;\n",
              "    }\n",
              "  </style>\n",
              "\n",
              "      <script>\n",
              "        const buttonEl =\n",
              "          document.querySelector('#df-f7a8c292-5bb7-4d15-aa22-a1f154f3f940 button.colab-df-convert');\n",
              "        buttonEl.style.display =\n",
              "          google.colab.kernel.accessAllowed ? 'block' : 'none';\n",
              "\n",
              "        async function convertToInteractive(key) {\n",
              "          const element = document.querySelector('#df-f7a8c292-5bb7-4d15-aa22-a1f154f3f940');\n",
              "          const dataTable =\n",
              "            await google.colab.kernel.invokeFunction('convertToInteractive',\n",
              "                                                     [key], {});\n",
              "          if (!dataTable) return;\n",
              "\n",
              "          const docLinkHtml = 'Like what you see? Visit the ' +\n",
              "            '<a target=\"_blank\" href=https://colab.research.google.com/notebooks/data_table.ipynb>data table notebook</a>'\n",
              "            + ' to learn more about interactive tables.';\n",
              "          element.innerHTML = '';\n",
              "          dataTable['output_type'] = 'display_data';\n",
              "          await google.colab.output.renderOutput(dataTable, element);\n",
              "          const docLink = document.createElement('div');\n",
              "          docLink.innerHTML = docLinkHtml;\n",
              "          element.appendChild(docLink);\n",
              "        }\n",
              "      </script>\n",
              "    </div>\n",
              "  </div>\n",
              "  "
            ]
          },
          "metadata": {},
          "execution_count": 29
        }
      ]
    },
    {
      "cell_type": "code",
      "source": [
        "df2 = pd.DataFrame(data_X)  "
      ],
      "metadata": {
        "id": "AQmLs5oZZBJX"
      },
      "execution_count": 30,
      "outputs": []
    },
    {
      "cell_type": "code",
      "source": [
        "df2.to_csv(r'my_data.csv', index=False)"
      ],
      "metadata": {
        "id": "inC1c6myZ658"
      },
      "execution_count": 31,
      "outputs": []
    },
    {
      "cell_type": "code",
      "source": [
        "from sklearn.model_selection import train_test_split\n",
        "X_train, X_test,y_train, y_test = train_test_split(data_X, data_y_trans, test_size = 0.2)"
      ],
      "metadata": {
        "id": "mrdZHJ0WOGAW"
      },
      "execution_count": 32,
      "outputs": []
    },
    {
      "cell_type": "code",
      "source": [
        "from sklearn.preprocessing import StandardScaler \n",
        "ss = StandardScaler()\n",
        "X_train_std = ss.fit_transform(X_train)\n",
        "X_test_std = ss.fit_transform(X_test)"
      ],
      "metadata": {
        "id": "ZaY6hGTXcDt4"
      },
      "execution_count": 33,
      "outputs": []
    },
    {
      "cell_type": "markdown",
      "source": [
        "Decision Tree"
      ],
      "metadata": {
        "id": "2vHlMDxXowa1"
      }
    },
    {
      "cell_type": "code",
      "source": [
        "from sklearn.tree import DecisionTreeClassifier\n",
        "ml = DecisionTreeClassifier()"
      ],
      "metadata": {
        "id": "SJ4WKaoVPxev"
      },
      "execution_count": 34,
      "outputs": []
    },
    {
      "cell_type": "code",
      "source": [
        "ml.fit(X_train_std,y_train)"
      ],
      "metadata": {
        "colab": {
          "base_uri": "https://localhost:8080/"
        },
        "id": "1Z4HvV8FQRbe",
        "outputId": "82372f17-13e2-45df-ce19-ff7d02d9b1b9"
      },
      "execution_count": 35,
      "outputs": [
        {
          "output_type": "execute_result",
          "data": {
            "text/plain": [
              "DecisionTreeClassifier()"
            ]
          },
          "metadata": {},
          "execution_count": 35
        }
      ]
    },
    {
      "cell_type": "code",
      "source": [
        "res=ml.predict(X_test_std)"
      ],
      "metadata": {
        "id": "HJWE9p5kTO9h"
      },
      "execution_count": 36,
      "outputs": []
    },
    {
      "cell_type": "code",
      "source": [
        "from sklearn.metrics import accuracy_score"
      ],
      "metadata": {
        "id": "RjurjiWoTSqT"
      },
      "execution_count": 37,
      "outputs": []
    },
    {
      "cell_type": "code",
      "source": [
        "accuracy_1=accuracy_score(y_test,res)\n",
        "print(\"Decision tree :\",accuracy_1*100)"
      ],
      "metadata": {
        "colab": {
          "base_uri": "https://localhost:8080/"
        },
        "id": "EpXTdmKgTWpJ",
        "outputId": "e6f39921-6789-4afc-aa0a-e3015799bfa5"
      },
      "execution_count": 38,
      "outputs": [
        {
          "output_type": "stream",
          "name": "stdout",
          "text": [
            "Decision tree : 98.92336385215327\n"
          ]
        }
      ]
    },
    {
      "cell_type": "code",
      "source": [
        "ress=ml.predict(X_train_std)\n",
        "acc11=accuracy_score(y_train,ress)\n",
        "print(\"Decision tree :\",acc11*100)"
      ],
      "metadata": {
        "colab": {
          "base_uri": "https://localhost:8080/"
        },
        "id": "7LmwWKRve1Wd",
        "outputId": "b90d8554-fd8d-4bbb-bc3e-87faa9243d42"
      },
      "execution_count": 39,
      "outputs": [
        {
          "output_type": "stream",
          "name": "stdout",
          "text": [
            "Decision tree : 100.0\n"
          ]
        }
      ]
    },
    {
      "cell_type": "code",
      "source": [
        "import matplotlib.pyplot as plt\n",
        "acc=[]\n",
        "for i in range(1,50):\n",
        "  ml = DecisionTreeClassifier(max_depth=i)\n",
        "  ml.fit(X_train_std,y_train)\n",
        "  res=ml.predict(X_test_std)\n",
        "  acc.append(accuracy_score(y_test,res))\n",
        "  if accuracy_score(y_test,res)==100:\n",
        "    break\n",
        "\n"
      ],
      "metadata": {
        "id": "opVp92MBg6Gc"
      },
      "execution_count": 40,
      "outputs": []
    },
    {
      "cell_type": "code",
      "source": [
        "print(acc)"
      ],
      "metadata": {
        "colab": {
          "base_uri": "https://localhost:8080/"
        },
        "id": "l8IuJ3N6jRRS",
        "outputId": "969496af-6266-44bd-f3f0-e6b15e4ef5ce"
      },
      "execution_count": 41,
      "outputs": [
        {
          "output_type": "stream",
          "name": "stdout",
          "text": [
            "[0.19955917260088166, 0.3947100712105799, 0.5899457443201085, 0.6872668701254663, 0.7882332994235334, 0.8819091217361817, 0.9726178365547643, 0.9891488640217023, 0.9883858935232283, 0.9890640895218719, 0.9890640895218719, 0.9891488640217023, 0.9893184130213631, 0.9410817226178365, 0.9893184130213631, 0.9892336385215327, 0.9890640895218719, 0.9892336385215327, 0.9892336385215327, 0.9893184130213631, 0.9892336385215327, 0.9410817226178365, 0.9892336385215327, 0.9883858935232283, 0.9892336385215327, 0.9892336385215327, 0.9891488640217023, 0.9892336385215327, 0.9892336385215327, 0.9412512716174974, 0.9892336385215327, 0.9890640895218719, 0.9890640895218719, 0.9891488640217023, 0.9412512716174974, 0.940996948118006, 0.9889793150220414, 0.9892336385215327, 0.9890640895218719, 0.9892336385215327, 0.9891488640217023, 0.9892336385215327, 0.9892336385215327, 0.9890640895218719, 0.9890640895218719, 0.9890640895218719, 0.9893184130213631, 0.9892336385215327, 0.9893184130213631]\n"
          ]
        }
      ]
    },
    {
      "cell_type": "code",
      "source": [
        "print(i)"
      ],
      "metadata": {
        "colab": {
          "base_uri": "https://localhost:8080/"
        },
        "id": "KLKzrq2ajpzZ",
        "outputId": "cd64df80-8de3-48ae-ac79-3e0f6b1a1ded"
      },
      "execution_count": 42,
      "outputs": [
        {
          "output_type": "stream",
          "name": "stdout",
          "text": [
            "49\n"
          ]
        }
      ]
    },
    {
      "cell_type": "code",
      "source": [
        "y=[k for k in range(1,i+1)]\n",
        "plt.plot(y,acc, label='validation accuracy') \n",
        "plt.xlabel('Max Depth') # Label x-axis\n",
        "plt.ylabel('Training Accuracy') # Label y-axis\n",
        "plt.legend() # Show plot labels as legend\n",
        "plt.show() # Show graph"
      ],
      "metadata": {
        "colab": {
          "base_uri": "https://localhost:8080/",
          "height": 279
        },
        "id": "HRtz5V1WjZCc",
        "outputId": "63359861-0069-48de-b8ec-dc75191190af"
      },
      "execution_count": 43,
      "outputs": [
        {
          "output_type": "display_data",
          "data": {
            "text/plain": [
              "<Figure size 432x288 with 1 Axes>"
            ],
            "image/png": "[encoded data removed]"
          },
          "metadata": {
            "needs_background": "light"
          }
        }
      ]
    },
    {
      "cell_type": "markdown",
      "source": [
        "Random Forest"
      ],
      "metadata": {
        "id": "MvD4zpNzGqbD"
      }
    },
    {
      "cell_type": "code",
      "source": [
        "from sklearn.ensemble import RandomForestClassifier\n",
        "rf1 = RandomForestClassifier()\n",
        "rf1.fit(X_train_std, y_train)"
      ],
      "metadata": {
        "colab": {
          "base_uri": "https://localhost:8080/"
        },
        "id": "2KElpT6DF7_b",
        "outputId": "c55a1c8a-f136-474b-dfca-2e162af0d649"
      },
      "execution_count": 44,
      "outputs": [
        {
          "output_type": "execute_result",
          "data": {
            "text/plain": [
              "RandomForestClassifier()"
            ]
          },
          "metadata": {},
          "execution_count": 44
        }
      ]
    },
    {
      "cell_type": "code",
      "source": [
        "rf_y_pred1 = rf1.predict(X_test_std)"
      ],
      "metadata": {
        "id": "Vq5UCIrHGC9z"
      },
      "execution_count": 45,
      "outputs": []
    },
    {
      "cell_type": "code",
      "source": [
        "acc_score1 = accuracy_score(y_test, rf_y_pred1)\n",
        "print(\"Accuracy Score for Random_Forest: \\n\", acc_score1*100)"
      ],
      "metadata": {
        "colab": {
          "base_uri": "https://localhost:8080/"
        },
        "id": "7V9RTimUGHL4",
        "outputId": "f316592b-ac39-4073-daae-07dd79793d6e"
      },
      "execution_count": 46,
      "outputs": [
        {
          "output_type": "stream",
          "name": "stdout",
          "text": [
            "Accuracy Score for Random_Forest: \n",
            " 99.70328925059341\n"
          ]
        }
      ]
    },
    {
      "cell_type": "code",
      "source": [
        "ress_rf=ml.predict(X_train_std)\n",
        "acc_rf=accuracy_score(y_train,ress_rf)\n",
        "print(\"Accuracy Score for Random_Forest:\",acc_rf*100)"
      ],
      "metadata": {
        "colab": {
          "base_uri": "https://localhost:8080/"
        },
        "id": "HdZqngBLhkxv",
        "outputId": "37d0abd8-715b-49ca-8aa6-dbd085e3b541"
      },
      "execution_count": 47,
      "outputs": [
        {
          "output_type": "stream",
          "name": "stdout",
          "text": [
            "Accuracy Score for Random_Forest: 100.0\n"
          ]
        }
      ]
    },
    {
      "cell_type": "code",
      "source": [
        "import matplotlib.pyplot as plt\n",
        "acc=[]\n",
        "for i in range(1,50):\n",
        "  rf1 = RandomForestClassifier(max_depth=i, random_state=0)\n",
        "  rf1.fit(X_train_std, y_train)\n",
        "  rf_y_pred1 = rf1.predict(X_test_std)\n",
        "  acc_score1 = accuracy_score(y_test, rf_y_pred1)\n",
        "  acc.append(acc_score1)\n",
        "  if accuracy_score(y_test,res)==100:\n",
        "    break"
      ],
      "metadata": {
        "id": "oAxyhNrWkNtw"
      },
      "execution_count": 48,
      "outputs": []
    },
    {
      "cell_type": "code",
      "source": [
        "i"
      ],
      "metadata": {
        "colab": {
          "base_uri": "https://localhost:8080/"
        },
        "id": "4aHtcZ9tlIFM",
        "outputId": "24c1c7b1-7603-43b1-8d22-4d15752115d6"
      },
      "execution_count": 49,
      "outputs": [
        {
          "output_type": "execute_result",
          "data": {
            "text/plain": [
              "49"
            ]
          },
          "metadata": {},
          "execution_count": 49
        }
      ]
    },
    {
      "cell_type": "code",
      "source": [
        "y=[k for k in range(1,i+1)]\n",
        "plt.plot(y,acc, label='validation accuracy') \n",
        "plt.xlabel('Max Depth') # Label x-axis\n",
        "plt.ylabel('Training Accuracy') # Label y-axis\n",
        "plt.legend() # Show plot labels as legend\n",
        "plt.show() # Show graph"
      ],
      "metadata": {
        "colab": {
          "base_uri": "https://localhost:8080/",
          "height": 279
        },
        "id": "8dUYZT4ek4AO",
        "outputId": "6b4c041b-e72f-4c31-ca23-63d001153a9f"
      },
      "execution_count": 50,
      "outputs": [
        {
          "output_type": "display_data",
          "data": {
            "text/plain": [
              "<Figure size 432x288 with 1 Axes>"
            ],
            "image/png": "[encoded data removed]"
          },
          "metadata": {
            "needs_background": "light"
          }
        }
      ]
    },
    {
      "cell_type": "markdown",
      "source": [
        "XG boost"
      ],
      "metadata": {
        "id": "ZLtBDzJkGvMO"
      }
    },
    {
      "cell_type": "code",
      "source": [
        "from sklearn.ensemble import GradientBoostingClassifier"
      ],
      "metadata": {
        "id": "IazN100DGzXZ"
      },
      "execution_count": 51,
      "outputs": []
    },
    {
      "cell_type": "code",
      "source": [
        "gradient_boost1 = GradientBoostingClassifier()\n",
        "gradient_boost1.fit(X_train_std, y_train)"
      ],
      "metadata": {
        "colab": {
          "base_uri": "https://localhost:8080/"
        },
        "id": "sNlmfrzIG5HB",
        "outputId": "8ba635c0-fa1b-401e-8fdb-855c15a82f3e"
      },
      "execution_count": 52,
      "outputs": [
        {
          "output_type": "execute_result",
          "data": {
            "text/plain": [
              "GradientBoostingClassifier()"
            ]
          },
          "metadata": {},
          "execution_count": 52
        }
      ]
    },
    {
      "cell_type": "code",
      "source": [
        "res_xg1=gradient_boost1.predict(X_test_std)"
      ],
      "metadata": {
        "id": "4rkNjveyHAF1"
      },
      "execution_count": 53,
      "outputs": []
    },
    {
      "cell_type": "code",
      "source": [
        "acc_score_xg1 = accuracy_score(y_test, res_xg1)\n",
        "print(\"Accuracy Score for GradientBoosting: \\n\", acc_score_xg1*100)"
      ],
      "metadata": {
        "colab": {
          "base_uri": "https://localhost:8080/"
        },
        "id": "q1O60m3vHEtr",
        "outputId": "695e6e1e-7121-4d03-9abf-f0078778a1a7"
      },
      "execution_count": 54,
      "outputs": [
        {
          "output_type": "stream",
          "name": "stdout",
          "text": [
            "Accuracy Score for GradientBoosting: \n",
            " 98.67751780264497\n"
          ]
        }
      ]
    },
    {
      "cell_type": "code",
      "source": [
        "ress_xg=ml.predict(X_train_std)\n",
        "acc_xg=accuracy_score(y_train,ress_xg)\n",
        "print(\"Accuracy Score for GradientBoosting:\",acc_xg*100)"
      ],
      "metadata": {
        "colab": {
          "base_uri": "https://localhost:8080/"
        },
        "id": "wnjmB6P4kHkk",
        "outputId": "db2ec80e-81ad-4792-9899-66681b234a64"
      },
      "execution_count": 55,
      "outputs": [
        {
          "output_type": "stream",
          "name": "stdout",
          "text": [
            "Accuracy Score for GradientBoosting: 100.0\n"
          ]
        }
      ]
    },
    {
      "cell_type": "code",
      "source": [
        "acc=[]\n",
        "for i in range(1,5):\n",
        "  gradient_boost1 = GradientBoostingClassifier(n_estimators=100, learning_rate=0.1,\n",
        "max_depth=i, random_state=0)\n",
        "  gradient_boost1.fit(X_train_std, y_train)\n",
        "  res_xg1=gradient_boost1.predict(X_test_std)\n",
        "  acc.append(accuracy_score(y_test, res_xg1))\n",
        "  if accuracy_score(y_test,res)==100:\n",
        "    break\n"
      ],
      "metadata": {
        "id": "U9w5fEFymyRz"
      },
      "execution_count": 56,
      "outputs": []
    },
    {
      "cell_type": "code",
      "source": [
        "y=[k for k in range(1,i+1)]\n",
        "plt.plot(y,acc, label='validation Accuracy') \n",
        "plt.xlabel('Max Depth') # Label x-axis\n",
        "plt.ylabel('validation Accuracy') # Label y-axis\n",
        "plt.legend() # Show plot labels as legend\n",
        "plt.show() # Show graph"
      ],
      "metadata": {
        "id": "cPHwIFCdHKgm",
        "colab": {
          "base_uri": "https://localhost:8080/",
          "height": 279
        },
        "outputId": "09a4ab67-ade6-4634-bdd4-a4c8c2e1ae88"
      },
      "execution_count": 60,
      "outputs": [
        {
          "output_type": "display_data",
          "data": {
            "text/plain": [
              "<Figure size 432x288 with 1 Axes>"
            ],
            "image/png": "[encoded data removed]"
          },
          "metadata": {
            "needs_background": "light"
          }
        }
      ]
    },
    {
      "cell_type": "markdown",
      "source": [
        "FEATURE SELECTION"
      ],
      "metadata": {
        "id": "IaBRVekPmMZi"
      }
    },
    {
      "cell_type": "code",
      "source": [
        "from sklearn.feature_selection import chi2 \n",
        "from sklearn.feature_selection import SelectKBest \n",
        "from sklearn.ensemble import ExtraTreesClassifier"
      ],
      "metadata": {
        "id": "7gJBMcms7025"
      },
      "execution_count": null,
      "outputs": []
    },
    {
      "cell_type": "code",
      "source": [
        "model = ExtraTreesClassifier(bootstrap=False, ccp_alpha=0.0, class_weight=None,\n",
        "                     criterion='gini', max_depth=None, max_features='auto',\n",
        "                     max_leaf_nodes=None, max_samples=None,\n",
        "                     min_impurity_decrease=0.0, \n",
        "                     min_samples_leaf=1, min_samples_split=2,\n",
        "                     min_weight_fraction_leaf=0.0, n_estimators=100,\n",
        "                     n_jobs=None, oob_score=False, random_state=42, verbose=0,\n",
        "                     warm_start=False)\n",
        "\n",
        "model.fit(data_X, data_y_trans)"
      ],
      "metadata": {
        "id": "n9IAlJzu72GW"
      },
      "execution_count": null,
      "outputs": []
    },
    {
      "cell_type": "code",
      "source": [
        "model.feature_importances_"
      ],
      "metadata": {
        "id": "_MeL3rQC8lNp"
      },
      "execution_count": null,
      "outputs": []
    },
    {
      "cell_type": "code",
      "source": [
        "feature_importance_std = pd.Series(model.feature_importances_, index=data_X.columns)\n",
        "feature_importance_std.nlargest(20).plot(kind='bar', title='Standardised Dataset Feature Selection using ExtraTreesClassifier')"
      ],
      "metadata": {
        "id": "Z8ty4qs584ae"
      },
      "execution_count": null,
      "outputs": []
    },
    {
      "cell_type": "code",
      "source": [
        "data_new_20features_X = data_X[[' Timestamp', ' Source Port', ' Min Packet Length', ' Fwd Packet Length Min', 'Flow ID', ' Packet Length Mean', ' Fwd Packet Length Max', ' Average Packet Size', ' ACK Flag Count', ' Avg Fwd Segment Size', ' Fwd Packet Length Mean', 'Flow Bytes/s', ' Max Packet Length', ' Protocol', 'Fwd Packets/s', ' Flow Packets/s', 'Total Length of Fwd Packets', ' Subflow Fwd Bytes', ' Destination Port', ' act_data_pkt_fwd']]"
      ],
      "metadata": {
        "id": "IOCY4W5x9E7e"
      },
      "execution_count": null,
      "outputs": []
    },
    {
      "cell_type": "code",
      "source": [
        "data_new_20features_X"
      ],
      "metadata": {
        "id": "Z3ovz_PH9Tiy"
      },
      "execution_count": null,
      "outputs": []
    },
    {
      "cell_type": "code",
      "source": [
        "from sklearn.model_selection import train_test_split\n",
        "X_train_20, X_test_20, y_train_20, y_test_20 = train_test_split(data_new_20features_X, data_y_trans, test_size = 0.30, random_state = 42)"
      ],
      "metadata": {
        "id": "gyDp8nmb9YO5"
      },
      "execution_count": null,
      "outputs": []
    },
    {
      "cell_type": "code",
      "source": [
        "from sklearn.preprocessing import StandardScaler \n",
        "ss_20 = StandardScaler()\n",
        "X_train_std_20 = ss_20.fit_transform(X_train_20)\n",
        "X_test_std_20 = ss_20.fit_transform(X_test_20)"
      ],
      "metadata": {
        "id": "XR8nf1hpeMYN"
      },
      "execution_count": null,
      "outputs": []
    },
    {
      "cell_type": "markdown",
      "source": [
        "Random forest"
      ],
      "metadata": {
        "id": "VGYijZvKeZSN"
      }
    },
    {
      "cell_type": "code",
      "source": [
        "from sklearn.ensemble import RandomForestClassifier\n",
        "rf = RandomForestClassifier(max_depth=None, random_state=0)\n",
        "rf.fit(X_train_std_20, y_train_20)"
      ],
      "metadata": {
        "id": "M0Nu1SSleghf"
      },
      "execution_count": null,
      "outputs": []
    },
    {
      "cell_type": "code",
      "source": [
        "rf_y_pred = rf.predict(X_test_std_20)"
      ],
      "metadata": {
        "id": "H4tDkDLkfbO8"
      },
      "execution_count": null,
      "outputs": []
    },
    {
      "cell_type": "code",
      "source": [
        "from sklearn.metrics import accuracy_score \n",
        "from sklearn.metrics import classification_report "
      ],
      "metadata": {
        "id": "t7cAA8_wfi0W"
      },
      "execution_count": null,
      "outputs": []
    },
    {
      "cell_type": "code",
      "source": [
        "print(\"Classification Report for Random Forest: \\n\", classification_report(le.inverse_transform(y_test_20), le.inverse_transform(rf_y_pred)))"
      ],
      "metadata": {
        "id": "TUkGRTbifuOv"
      },
      "execution_count": null,
      "outputs": []
    },
    {
      "cell_type": "code",
      "source": [
        "acc_score = accuracy_score(y_test_20, rf_y_pred)\n",
        "print(\"Accuracy Score for Random_Forest: \\n\", acc_score*100)"
      ],
      "metadata": {
        "id": "N10OwgYmfRWa"
      },
      "execution_count": null,
      "outputs": []
    },
    {
      "cell_type": "markdown",
      "source": [
        "XGBoost"
      ],
      "metadata": {
        "id": "TWAGTg7BgdhI"
      }
    },
    {
      "cell_type": "code",
      "source": [
        "from sklearn.ensemble import GradientBoostingClassifier"
      ],
      "metadata": {
        "id": "eNUHwu8Dgj9Y"
      },
      "execution_count": null,
      "outputs": []
    },
    {
      "cell_type": "code",
      "source": [
        "gradient_boost = GradientBoostingClassifier(n_estimators=100, learning_rate=0.1,\n",
        "max_depth=3, random_state=0)\n",
        "gradient_boost.fit(X_train_std_20, y_train_20)"
      ],
      "metadata": {
        "id": "3TGum262gnyN"
      },
      "execution_count": null,
      "outputs": []
    },
    {
      "cell_type": "code",
      "source": [
        "res_xg=gradient_boost.predict(X_test_std_20)"
      ],
      "metadata": {
        "id": "dDHOcefVi16X"
      },
      "execution_count": null,
      "outputs": []
    },
    {
      "cell_type": "code",
      "source": [
        "acc_score_xg = accuracy_score(y_test_20, res_xg)\n",
        "print(\"Accuracy Score for GradientBoosting: \\n\", acc_score_xg*100)"
      ],
      "metadata": {
        "id": "7kTg2fCqizN0"
      },
      "execution_count": null,
      "outputs": []
    },
    {
      "cell_type": "markdown",
      "source": [
        "Decision Tree"
      ],
      "metadata": {
        "id": "MIcHeuNpCor9"
      }
    },
    {
      "cell_type": "code",
      "source": [
        "from sklearn.tree import DecisionTreeClassifier\n",
        "ml_dec = DecisionTreeClassifier(random_state=0)"
      ],
      "metadata": {
        "id": "g9rrWg6ECtvb"
      },
      "execution_count": null,
      "outputs": []
    },
    {
      "cell_type": "code",
      "source": [
        "ml_dec.fit(X_train_std_20, y_train_20)"
      ],
      "metadata": {
        "id": "OJH-8SXRCyw8"
      },
      "execution_count": null,
      "outputs": []
    },
    {
      "cell_type": "code",
      "source": [
        "res_dec=ml_dec.predict(X_test_std_20)"
      ],
      "metadata": {
        "id": "l89NY0gMC3P6"
      },
      "execution_count": null,
      "outputs": []
    },
    {
      "cell_type": "code",
      "source": [
        "accuracy_1=accuracy_score(y_test_20,res_dec)\n",
        "print(\"Decision tree :\",accuracy_1*100)"
      ],
      "metadata": {
        "id": "ThpUAbdsC8P8"
      },
      "execution_count": null,
      "outputs": []
    }
  ]
}
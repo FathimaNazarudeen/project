{
  "nbformat": 4,
  "nbformat_minor": 0,
  "metadata": {
    "colab": {
      "name": "Copy of project ddos.ipynb",
      "provenance": [],
      "collapsed_sections": [],
      "mount_file_id": "1SPwgXq0iQN8Z6DgJxA_iIScs9tOZdsOL",
      "authorship_tag": "ABX9TyPpXTERQo6VduQiCaSpgOYu",
      "include_colab_link": true
    },
    "kernelspec": {
      "name": "python3",
      "display_name": "Python 3"
    },
    "language_info": {
      "name": "python"
    }
  },
  "cells": [
    {
      "cell_type": "markdown",
      "metadata": {
        "id": "view-in-github",
        "colab_type": "text"
      },
      "source": [
        "<a href=\"https://colab.research.google.com/github/FathimaNazarudeen/project/blob/main/DDoS/project_ddos.ipynb\" target=\"_parent\"><img src=\"https://colab.research.google.com/assets/colab-badge.svg\" alt=\"Open In Colab\"/></a>"
      ]
    },
    {
      "cell_type": "code",
      "execution_count": 1,
      "metadata": {
        "id": "Yt-0FxcaIn1b"
      },
      "outputs": [],
      "source": [
        "import pandas as pd \n",
        "import numpy as np"
      ]
    },
    {
      "cell_type": "code",
      "source": [
        "from google.colab import drive\n",
        "drive.mount('/content/drive')"
      ],
      "metadata": {
        "colab": {
          "base_uri": "https://localhost:8080/"
        },
        "id": "zsuNv7oiItou",
        "outputId": "af41e69a-f12d-4ecd-af9d-67aaf409cc71"
      },
      "execution_count": 2,
      "outputs": [
        {
          "output_type": "stream",
          "name": "stdout",
          "text": [
            "Mounted at /content/drive\n"
          ]
        }
      ]
    },
    {
      "cell_type": "code",
      "source": [
        "DrDoS_DNS_data_1_per = pd.read_csv('/content/drive/MyDrive/01-12/DrDoS_DNS.csv',nrows=5000)\n",
        "DrDoS_LDAP_data_2_0_per = pd.read_csv('/content/drive/MyDrive/01-12/DrDoS_LDAP.csv',nrows=5000)\n",
        "DrDoS_MSSQL_data_1_3_per = pd.read_csv('/content/drive/MyDrive/01-12/DrDoS_MSSQL.csv',nrows=5000)\n",
        "DrDoS_NetBIOS_data_1_3_per = pd.read_csv('/content/drive/MyDrive/01-12/DrDoS_NetBIOS.csv',nrows=5000)\n",
        "DrDoS_NTP_data_data_5_per = pd.read_csv('/content/drive/MyDrive/01-12/DrDoS_NTP.csv',nrows=5000)\n",
        "DrDoS_SNMP_data_1_3_per = pd.read_csv('/content/drive/MyDrive/01-12/DrDoS_SNMP.csv',nrows=5000)\n",
        "DrDoS_SSDP_data_2_per = pd.read_csv('/content/drive/MyDrive/01-12/DrDoS_SSDP.csv',nrows=5000)\n",
        "DrDoS_UDP_data_2_per = pd.read_csv('/content/drive/MyDrive/01-12/DrDoS_UDP.csv',nrows=5000)\n",
        "Syn_data_4_per = pd.read_csv('/content/drive/MyDrive/01-12/Syn.csv',nrows=5000)\n",
        "UDPLag_data_2_0_per = pd.read_csv('/content/drive/MyDrive/01-12/UDPLag.csv',nrows=5000)"
      ],
      "metadata": {
        "id": "oyKCe_oHM_3r"
      },
      "execution_count": null,
      "outputs": []
    },
    {
      "cell_type": "code",
      "source": [
        "data = pd.concat([DrDoS_DNS_data_1_per, DrDoS_LDAP_data_2_0_per, DrDoS_MSSQL_data_1_3_per, DrDoS_NetBIOS_data_1_3_per, DrDoS_NTP_data_data_5_per, DrDoS_SNMP_data_1_3_per, DrDoS_SSDP_data_2_per, DrDoS_UDP_data_2_per, Syn_data_4_per, UDPLag_data_2_0_per], ignore_index = True)"
      ],
      "metadata": {
        "id": "g92SDH9JQFlm"
      },
      "execution_count": null,
      "outputs": []
    },
    {
      "cell_type": "code",
      "source": [
        "data[' Label'].value_counts()"
      ],
      "metadata": {
        "colab": {
          "base_uri": "https://localhost:8080/"
        },
        "id": "77U6Co_WQOBW",
        "outputId": "37c80ec3-c5f8-4677-edff-56eba3c327cb"
      },
      "execution_count": null,
      "outputs": [
        {
          "output_type": "execute_result",
          "data": {
            "text/plain": [
              "DrDoS_MSSQL      5000\n",
              "DrDoS_UDP        5000\n",
              "UDP-lag          5000\n",
              "DrDoS_LDAP       4999\n",
              "Syn              4998\n",
              "DrDoS_SNMP       4997\n",
              "DrDoS_NetBIOS    4991\n",
              "DrDoS_SSDP       4973\n",
              "BENIGN           4851\n",
              "DrDoS_DNS        4413\n",
              "DrDoS_NTP         778\n",
              "Name:  Label, dtype: int64"
            ]
          },
          "metadata": {},
          "execution_count": 5
        }
      ]
    },
    {
      "cell_type": "code",
      "source": [
        "data.columns "
      ],
      "metadata": {
        "colab": {
          "base_uri": "https://localhost:8080/"
        },
        "id": "KoaSe4-wRwK0",
        "outputId": "41266e71-19b4-4306-caca-cae6e7b3f74d"
      },
      "execution_count": null,
      "outputs": [
        {
          "output_type": "execute_result",
          "data": {
            "text/plain": [
              "Index(['Unnamed: 0', 'Flow ID', ' Source IP', ' Source Port',\n",
              "       ' Destination IP', ' Destination Port', ' Protocol', ' Timestamp',\n",
              "       ' Flow Duration', ' Total Fwd Packets', ' Total Backward Packets',\n",
              "       'Total Length of Fwd Packets', ' Total Length of Bwd Packets',\n",
              "       ' Fwd Packet Length Max', ' Fwd Packet Length Min',\n",
              "       ' Fwd Packet Length Mean', ' Fwd Packet Length Std',\n",
              "       'Bwd Packet Length Max', ' Bwd Packet Length Min',\n",
              "       ' Bwd Packet Length Mean', ' Bwd Packet Length Std', 'Flow Bytes/s',\n",
              "       ' Flow Packets/s', ' Flow IAT Mean', ' Flow IAT Std', ' Flow IAT Max',\n",
              "       ' Flow IAT Min', 'Fwd IAT Total', ' Fwd IAT Mean', ' Fwd IAT Std',\n",
              "       ' Fwd IAT Max', ' Fwd IAT Min', 'Bwd IAT Total', ' Bwd IAT Mean',\n",
              "       ' Bwd IAT Std', ' Bwd IAT Max', ' Bwd IAT Min', 'Fwd PSH Flags',\n",
              "       ' Bwd PSH Flags', ' Fwd URG Flags', ' Bwd URG Flags',\n",
              "       ' Fwd Header Length', ' Bwd Header Length', 'Fwd Packets/s',\n",
              "       ' Bwd Packets/s', ' Min Packet Length', ' Max Packet Length',\n",
              "       ' Packet Length Mean', ' Packet Length Std', ' Packet Length Variance',\n",
              "       'FIN Flag Count', ' SYN Flag Count', ' RST Flag Count',\n",
              "       ' PSH Flag Count', ' ACK Flag Count', ' URG Flag Count',\n",
              "       ' CWE Flag Count', ' ECE Flag Count', ' Down/Up Ratio',\n",
              "       ' Average Packet Size', ' Avg Fwd Segment Size',\n",
              "       ' Avg Bwd Segment Size', ' Fwd Header Length.1', 'Fwd Avg Bytes/Bulk',\n",
              "       ' Fwd Avg Packets/Bulk', ' Fwd Avg Bulk Rate', ' Bwd Avg Bytes/Bulk',\n",
              "       ' Bwd Avg Packets/Bulk', 'Bwd Avg Bulk Rate', 'Subflow Fwd Packets',\n",
              "       ' Subflow Fwd Bytes', ' Subflow Bwd Packets', ' Subflow Bwd Bytes',\n",
              "       'Init_Win_bytes_forward', ' Init_Win_bytes_backward',\n",
              "       ' act_data_pkt_fwd', ' min_seg_size_forward', 'Active Mean',\n",
              "       ' Active Std', ' Active Max', ' Active Min', 'Idle Mean', ' Idle Std',\n",
              "       ' Idle Max', ' Idle Min', 'SimillarHTTP', ' Inbound', ' Label'],\n",
              "      dtype='object')"
            ]
          },
          "metadata": {},
          "execution_count": 6
        }
      ]
    },
    {
      "cell_type": "code",
      "source": [
        "data_real = data.replace(np.inf, np.nan)"
      ],
      "metadata": {
        "id": "q4h6KjggRxfq"
      },
      "execution_count": null,
      "outputs": []
    },
    {
      "cell_type": "code",
      "source": [
        "data_real.isnull().sum().sum()"
      ],
      "metadata": {
        "colab": {
          "base_uri": "https://localhost:8080/"
        },
        "id": "_F7n3UJCR2MO",
        "outputId": "bafc397c-af14-4eb1-c0b9-6ee73f1ac259"
      },
      "execution_count": null,
      "outputs": [
        {
          "output_type": "execute_result",
          "data": {
            "text/plain": [
              "1666"
            ]
          },
          "metadata": {},
          "execution_count": 8
        }
      ]
    },
    {
      "cell_type": "code",
      "source": [
        "data_df = data_real.dropna(axis=0)"
      ],
      "metadata": {
        "id": "og_p85LcR6bO"
      },
      "execution_count": null,
      "outputs": []
    },
    {
      "cell_type": "code",
      "source": [
        "data_df.isnull().sum().sum()"
      ],
      "metadata": {
        "colab": {
          "base_uri": "https://localhost:8080/"
        },
        "id": "-p1_6MARR92v",
        "outputId": "7a160dca-d812-46bf-97ce-c408c96b12b8"
      },
      "execution_count": null,
      "outputs": [
        {
          "output_type": "execute_result",
          "data": {
            "text/plain": [
              "0"
            ]
          },
          "metadata": {},
          "execution_count": 10
        }
      ]
    },
    {
      "cell_type": "code",
      "source": [
        "data_df"
      ],
      "metadata": {
        "colab": {
          "base_uri": "https://localhost:8080/",
          "height": 1000
        },
        "id": "ejydE7xGSAw4",
        "outputId": "8718fa11-cb98-4325-b0ee-f8001f60647f"
      },
      "execution_count": null,
      "outputs": [
        {
          "output_type": "execute_result",
          "data": {
            "text/plain": [
              "       Unnamed: 0                                 Flow ID     Source IP  \\\n",
              "0             425    172.16.0.5-192.168.50.1-634-60495-17    172.16.0.5   \n",
              "1             430    172.16.0.5-192.168.50.1-60495-634-17  192.168.50.1   \n",
              "2            1654    172.16.0.5-192.168.50.1-634-46391-17    172.16.0.5   \n",
              "3            2927    172.16.0.5-192.168.50.1-634-11894-17    172.16.0.5   \n",
              "4             694    172.16.0.5-192.168.50.1-634-27878-17    172.16.0.5   \n",
              "...           ...                                     ...           ...   \n",
              "49995      310726  172.16.0.5-192.168.50.1-52292-39139-17    172.16.0.5   \n",
              "49996      112527  172.16.0.5-192.168.50.1-35780-28095-17    172.16.0.5   \n",
              "49997       50719  172.16.0.5-192.168.50.1-43479-64437-17    172.16.0.5   \n",
              "49998      351644  172.16.0.5-192.168.50.1-56855-19645-17    172.16.0.5   \n",
              "49999      154979  172.16.0.5-192.168.50.1-33366-50958-17    172.16.0.5   \n",
              "\n",
              "        Source Port  Destination IP   Destination Port   Protocol  \\\n",
              "0               634    192.168.50.1              60495         17   \n",
              "1               634      172.16.0.5              60495         17   \n",
              "2               634    192.168.50.1              46391         17   \n",
              "3               634    192.168.50.1              11894         17   \n",
              "4               634    192.168.50.1              27878         17   \n",
              "...             ...             ...                ...        ...   \n",
              "49995         52292    192.168.50.1              39139         17   \n",
              "49996         35780    192.168.50.1              28095         17   \n",
              "49997         43479    192.168.50.1              64437         17   \n",
              "49998         56855    192.168.50.1              19645         17   \n",
              "49999         33366    192.168.50.1              50958         17   \n",
              "\n",
              "                        Timestamp   Flow Duration   Total Fwd Packets  ...  \\\n",
              "0      2018-12-01 10:51:39.813448           28415                  97  ...   \n",
              "1      2018-12-01 10:51:39.820842               2                   2  ...   \n",
              "2      2018-12-01 10:51:39.852499           48549                 200  ...   \n",
              "3      2018-12-01 10:51:39.890213           48337                 200  ...   \n",
              "4      2018-12-01 10:51:39.941151           32026                 200  ...   \n",
              "...                           ...             ...                 ...  ...   \n",
              "49995  2018-12-01 13:04:46.493768               1                   2  ...   \n",
              "49996  2018-12-01 13:04:46.493959               1                   2  ...   \n",
              "49997  2018-12-01 13:04:46.494010          106451                   4  ...   \n",
              "49998  2018-12-01 13:04:46.494012          215812                   6  ...   \n",
              "49999  2018-12-01 13:04:46.494062          214056                   6  ...   \n",
              "\n",
              "        Active Std   Active Max   Active Min  Idle Mean   Idle Std   Idle Max  \\\n",
              "0              0.0          0.0          0.0        0.0        0.0        0.0   \n",
              "1              0.0          0.0          0.0        0.0        0.0        0.0   \n",
              "2              0.0          0.0          0.0        0.0        0.0        0.0   \n",
              "3              0.0          0.0          0.0        0.0        0.0        0.0   \n",
              "4              0.0          0.0          0.0        0.0        0.0        0.0   \n",
              "...            ...          ...          ...        ...        ...        ...   \n",
              "49995          0.0          0.0          0.0        0.0        0.0        0.0   \n",
              "49996          0.0          0.0          0.0        0.0        0.0        0.0   \n",
              "49997          0.0          0.0          0.0        0.0        0.0        0.0   \n",
              "49998          0.0          0.0          0.0        0.0        0.0        0.0   \n",
              "49999          0.0          0.0          0.0        0.0        0.0        0.0   \n",
              "\n",
              "        Idle Min  SimillarHTTP   Inbound      Label  \n",
              "0            0.0             0         1  DrDoS_DNS  \n",
              "1            0.0             0         0  DrDoS_DNS  \n",
              "2            0.0             0         1  DrDoS_DNS  \n",
              "3            0.0             0         1  DrDoS_DNS  \n",
              "4            0.0             0         1  DrDoS_DNS  \n",
              "...          ...           ...       ...        ...  \n",
              "49995        0.0             0         1    UDP-lag  \n",
              "49996        0.0             0         1    UDP-lag  \n",
              "49997        0.0             0         1    UDP-lag  \n",
              "49998        0.0             0         1    UDP-lag  \n",
              "49999        0.0             0         1    UDP-lag  \n",
              "\n",
              "[49167 rows x 88 columns]"
            ],
            "text/html": [
              "\n",
              "  <div id=\"df-f063abef-497a-45d8-be9c-e300564c687a\">\n",
              "    <div class=\"colab-df-container\">\n",
              "      <div>\n",
              "<style scoped>\n",
              "    .dataframe tbody tr th:only-of-type {\n",
              "        vertical-align: middle;\n",
              "    }\n",
              "\n",
              "    .dataframe tbody tr th {\n",
              "        vertical-align: top;\n",
              "    }\n",
              "\n",
              "    .dataframe thead th {\n",
              "        text-align: right;\n",
              "    }\n",
              "</style>\n",
              "<table border=\"1\" class=\"dataframe\">\n",
              "  <thead>\n",
              "    <tr style=\"text-align: right;\">\n",
              "      <th></th>\n",
              "      <th>Unnamed: 0</th>\n",
              "      <th>Flow ID</th>\n",
              "      <th>Source IP</th>\n",
              "      <th>Source Port</th>\n",
              "      <th>Destination IP</th>\n",
              "      <th>Destination Port</th>\n",
              "      <th>Protocol</th>\n",
              "      <th>Timestamp</th>\n",
              "      <th>Flow Duration</th>\n",
              "      <th>Total Fwd Packets</th>\n",
              "      <th>...</th>\n",
              "      <th>Active Std</th>\n",
              "      <th>Active Max</th>\n",
              "      <th>Active Min</th>\n",
              "      <th>Idle Mean</th>\n",
              "      <th>Idle Std</th>\n",
              "      <th>Idle Max</th>\n",
              "      <th>Idle Min</th>\n",
              "      <th>SimillarHTTP</th>\n",
              "      <th>Inbound</th>\n",
              "      <th>Label</th>\n",
              "    </tr>\n",
              "  </thead>\n",
              "  <tbody>\n",
              "    <tr>\n",
              "      <th>0</th>\n",
              "      <td>425</td>\n",
              "      <td>172.16.0.5-192.168.50.1-634-60495-17</td>\n",
              "      <td>172.16.0.5</td>\n",
              "      <td>634</td>\n",
              "      <td>192.168.50.1</td>\n",
              "      <td>60495</td>\n",
              "      <td>17</td>\n",
              "      <td>2018-12-01 10:51:39.813448</td>\n",
              "      <td>28415</td>\n",
              "      <td>97</td>\n",
              "      <td>...</td>\n",
              "      <td>0.0</td>\n",
              "      <td>0.0</td>\n",
              "      <td>0.0</td>\n",
              "      <td>0.0</td>\n",
              "      <td>0.0</td>\n",
              "      <td>0.0</td>\n",
              "      <td>0.0</td>\n",
              "      <td>0</td>\n",
              "      <td>1</td>\n",
              "      <td>DrDoS_DNS</td>\n",
              "    </tr>\n",
              "    <tr>\n",
              "      <th>1</th>\n",
              "      <td>430</td>\n",
              "      <td>172.16.0.5-192.168.50.1-60495-634-17</td>\n",
              "      <td>192.168.50.1</td>\n",
              "      <td>634</td>\n",
              "      <td>172.16.0.5</td>\n",
              "      <td>60495</td>\n",
              "      <td>17</td>\n",
              "      <td>2018-12-01 10:51:39.820842</td>\n",
              "      <td>2</td>\n",
              "      <td>2</td>\n",
              "      <td>...</td>\n",
              "      <td>0.0</td>\n",
              "      <td>0.0</td>\n",
              "      <td>0.0</td>\n",
              "      <td>0.0</td>\n",
              "      <td>0.0</td>\n",
              "      <td>0.0</td>\n",
              "      <td>0.0</td>\n",
              "      <td>0</td>\n",
              "      <td>0</td>\n",
              "      <td>DrDoS_DNS</td>\n",
              "    </tr>\n",
              "    <tr>\n",
              "      <th>2</th>\n",
              "      <td>1654</td>\n",
              "      <td>172.16.0.5-192.168.50.1-634-46391-17</td>\n",
              "      <td>172.16.0.5</td>\n",
              "      <td>634</td>\n",
              "      <td>192.168.50.1</td>\n",
              "      <td>46391</td>\n",
              "      <td>17</td>\n",
              "      <td>2018-12-01 10:51:39.852499</td>\n",
              "      <td>48549</td>\n",
              "      <td>200</td>\n",
              "      <td>...</td>\n",
              "      <td>0.0</td>\n",
              "      <td>0.0</td>\n",
              "      <td>0.0</td>\n",
              "      <td>0.0</td>\n",
              "      <td>0.0</td>\n",
              "      <td>0.0</td>\n",
              "      <td>0.0</td>\n",
              "      <td>0</td>\n",
              "      <td>1</td>\n",
              "      <td>DrDoS_DNS</td>\n",
              "    </tr>\n",
              "    <tr>\n",
              "      <th>3</th>\n",
              "      <td>2927</td>\n",
              "      <td>172.16.0.5-192.168.50.1-634-11894-17</td>\n",
              "      <td>172.16.0.5</td>\n",
              "      <td>634</td>\n",
              "      <td>192.168.50.1</td>\n",
              "      <td>11894</td>\n",
              "      <td>17</td>\n",
              "      <td>2018-12-01 10:51:39.890213</td>\n",
              "      <td>48337</td>\n",
              "      <td>200</td>\n",
              "      <td>...</td>\n",
              "      <td>0.0</td>\n",
              "      <td>0.0</td>\n",
              "      <td>0.0</td>\n",
              "      <td>0.0</td>\n",
              "      <td>0.0</td>\n",
              "      <td>0.0</td>\n",
              "      <td>0.0</td>\n",
              "      <td>0</td>\n",
              "      <td>1</td>\n",
              "      <td>DrDoS_DNS</td>\n",
              "    </tr>\n",
              "    <tr>\n",
              "      <th>4</th>\n",
              "      <td>694</td>\n",
              "      <td>172.16.0.5-192.168.50.1-634-27878-17</td>\n",
              "      <td>172.16.0.5</td>\n",
              "      <td>634</td>\n",
              "      <td>192.168.50.1</td>\n",
              "      <td>27878</td>\n",
              "      <td>17</td>\n",
              "      <td>2018-12-01 10:51:39.941151</td>\n",
              "      <td>32026</td>\n",
              "      <td>200</td>\n",
              "      <td>...</td>\n",
              "      <td>0.0</td>\n",
              "      <td>0.0</td>\n",
              "      <td>0.0</td>\n",
              "      <td>0.0</td>\n",
              "      <td>0.0</td>\n",
              "      <td>0.0</td>\n",
              "      <td>0.0</td>\n",
              "      <td>0</td>\n",
              "      <td>1</td>\n",
              "      <td>DrDoS_DNS</td>\n",
              "    </tr>\n",
              "    <tr>\n",
              "      <th>...</th>\n",
              "      <td>...</td>\n",
              "      <td>...</td>\n",
              "      <td>...</td>\n",
              "      <td>...</td>\n",
              "      <td>...</td>\n",
              "      <td>...</td>\n",
              "      <td>...</td>\n",
              "      <td>...</td>\n",
              "      <td>...</td>\n",
              "      <td>...</td>\n",
              "      <td>...</td>\n",
              "      <td>...</td>\n",
              "      <td>...</td>\n",
              "      <td>...</td>\n",
              "      <td>...</td>\n",
              "      <td>...</td>\n",
              "      <td>...</td>\n",
              "      <td>...</td>\n",
              "      <td>...</td>\n",
              "      <td>...</td>\n",
              "      <td>...</td>\n",
              "    </tr>\n",
              "    <tr>\n",
              "      <th>49995</th>\n",
              "      <td>310726</td>\n",
              "      <td>172.16.0.5-192.168.50.1-52292-39139-17</td>\n",
              "      <td>172.16.0.5</td>\n",
              "      <td>52292</td>\n",
              "      <td>192.168.50.1</td>\n",
              "      <td>39139</td>\n",
              "      <td>17</td>\n",
              "      <td>2018-12-01 13:04:46.493768</td>\n",
              "      <td>1</td>\n",
              "      <td>2</td>\n",
              "      <td>...</td>\n",
              "      <td>0.0</td>\n",
              "      <td>0.0</td>\n",
              "      <td>0.0</td>\n",
              "      <td>0.0</td>\n",
              "      <td>0.0</td>\n",
              "      <td>0.0</td>\n",
              "      <td>0.0</td>\n",
              "      <td>0</td>\n",
              "      <td>1</td>\n",
              "      <td>UDP-lag</td>\n",
              "    </tr>\n",
              "    <tr>\n",
              "      <th>49996</th>\n",
              "      <td>112527</td>\n",
              "      <td>172.16.0.5-192.168.50.1-35780-28095-17</td>\n",
              "      <td>172.16.0.5</td>\n",
              "      <td>35780</td>\n",
              "      <td>192.168.50.1</td>\n",
              "      <td>28095</td>\n",
              "      <td>17</td>\n",
              "      <td>2018-12-01 13:04:46.493959</td>\n",
              "      <td>1</td>\n",
              "      <td>2</td>\n",
              "      <td>...</td>\n",
              "      <td>0.0</td>\n",
              "      <td>0.0</td>\n",
              "      <td>0.0</td>\n",
              "      <td>0.0</td>\n",
              "      <td>0.0</td>\n",
              "      <td>0.0</td>\n",
              "      <td>0.0</td>\n",
              "      <td>0</td>\n",
              "      <td>1</td>\n",
              "      <td>UDP-lag</td>\n",
              "    </tr>\n",
              "    <tr>\n",
              "      <th>49997</th>\n",
              "      <td>50719</td>\n",
              "      <td>172.16.0.5-192.168.50.1-43479-64437-17</td>\n",
              "      <td>172.16.0.5</td>\n",
              "      <td>43479</td>\n",
              "      <td>192.168.50.1</td>\n",
              "      <td>64437</td>\n",
              "      <td>17</td>\n",
              "      <td>2018-12-01 13:04:46.494010</td>\n",
              "      <td>106451</td>\n",
              "      <td>4</td>\n",
              "      <td>...</td>\n",
              "      <td>0.0</td>\n",
              "      <td>0.0</td>\n",
              "      <td>0.0</td>\n",
              "      <td>0.0</td>\n",
              "      <td>0.0</td>\n",
              "      <td>0.0</td>\n",
              "      <td>0.0</td>\n",
              "      <td>0</td>\n",
              "      <td>1</td>\n",
              "      <td>UDP-lag</td>\n",
              "    </tr>\n",
              "    <tr>\n",
              "      <th>49998</th>\n",
              "      <td>351644</td>\n",
              "      <td>172.16.0.5-192.168.50.1-56855-19645-17</td>\n",
              "      <td>172.16.0.5</td>\n",
              "      <td>56855</td>\n",
              "      <td>192.168.50.1</td>\n",
              "      <td>19645</td>\n",
              "      <td>17</td>\n",
              "      <td>2018-12-01 13:04:46.494012</td>\n",
              "      <td>215812</td>\n",
              "      <td>6</td>\n",
              "      <td>...</td>\n",
              "      <td>0.0</td>\n",
              "      <td>0.0</td>\n",
              "      <td>0.0</td>\n",
              "      <td>0.0</td>\n",
              "      <td>0.0</td>\n",
              "      <td>0.0</td>\n",
              "      <td>0.0</td>\n",
              "      <td>0</td>\n",
              "      <td>1</td>\n",
              "      <td>UDP-lag</td>\n",
              "    </tr>\n",
              "    <tr>\n",
              "      <th>49999</th>\n",
              "      <td>154979</td>\n",
              "      <td>172.16.0.5-192.168.50.1-33366-50958-17</td>\n",
              "      <td>172.16.0.5</td>\n",
              "      <td>33366</td>\n",
              "      <td>192.168.50.1</td>\n",
              "      <td>50958</td>\n",
              "      <td>17</td>\n",
              "      <td>2018-12-01 13:04:46.494062</td>\n",
              "      <td>214056</td>\n",
              "      <td>6</td>\n",
              "      <td>...</td>\n",
              "      <td>0.0</td>\n",
              "      <td>0.0</td>\n",
              "      <td>0.0</td>\n",
              "      <td>0.0</td>\n",
              "      <td>0.0</td>\n",
              "      <td>0.0</td>\n",
              "      <td>0.0</td>\n",
              "      <td>0</td>\n",
              "      <td>1</td>\n",
              "      <td>UDP-lag</td>\n",
              "    </tr>\n",
              "  </tbody>\n",
              "</table>\n",
              "<p>49167 rows × 88 columns</p>\n",
              "</div>\n",
              "      <button class=\"colab-df-convert\" onclick=\"convertToInteractive('df-f063abef-497a-45d8-be9c-e300564c687a')\"\n",
              "              title=\"Convert this dataframe to an interactive table.\"\n",
              "              style=\"display:none;\">\n",
              "        \n",
              "  <svg xmlns=\"http://www.w3.org/2000/svg\" height=\"24px\"viewBox=\"0 0 24 24\"\n",
              "       width=\"24px\">\n",
              "    <path d=\"M0 0h24v24H0V0z\" fill=\"none\"/>\n",
              "    <path d=\"M18.56 5.44l.94 2.06.94-2.06 2.06-.94-2.06-.94-.94-2.06-.94 2.06-2.06.94zm-11 1L8.5 8.5l.94-2.06 2.06-.94-2.06-.94L8.5 2.5l-.94 2.06-2.06.94zm10 10l.94 2.06.94-2.06 2.06-.94-2.06-.94-.94-2.06-.94 2.06-2.06.94z\"/><path d=\"M17.41 7.96l-1.37-1.37c-.4-.4-.92-.59-1.43-.59-.52 0-1.04.2-1.43.59L10.3 9.45l-7.72 7.72c-.78.78-.78 2.05 0 2.83L4 21.41c.39.39.9.59 1.41.59.51 0 1.02-.2 1.41-.59l7.78-7.78 2.81-2.81c.8-.78.8-2.07 0-2.86zM5.41 20L4 18.59l7.72-7.72 1.47 1.35L5.41 20z\"/>\n",
              "  </svg>\n",
              "      </button>\n",
              "      \n",
              "  <style>\n",
              "    .colab-df-container {\n",
              "      display:flex;\n",
              "      flex-wrap:wrap;\n",
              "      gap: 12px;\n",
              "    }\n",
              "\n",
              "    .colab-df-convert {\n",
              "      background-color: #E8F0FE;\n",
              "      border: none;\n",
              "      border-radius: 50%;\n",
              "      cursor: pointer;\n",
              "      display: none;\n",
              "      fill: #1967D2;\n",
              "      height: 32px;\n",
              "      padding: 0 0 0 0;\n",
              "      width: 32px;\n",
              "    }\n",
              "\n",
              "    .colab-df-convert:hover {\n",
              "      background-color: #E2EBFA;\n",
              "      box-shadow: 0px 1px 2px rgba(60, 64, 67, 0.3), 0px 1px 3px 1px rgba(60, 64, 67, 0.15);\n",
              "      fill: #174EA6;\n",
              "    }\n",
              "\n",
              "    [theme=dark] .colab-df-convert {\n",
              "      background-color: #3B4455;\n",
              "      fill: #D2E3FC;\n",
              "    }\n",
              "\n",
              "    [theme=dark] .colab-df-convert:hover {\n",
              "      background-color: #434B5C;\n",
              "      box-shadow: 0px 1px 3px 1px rgba(0, 0, 0, 0.15);\n",
              "      filter: drop-shadow(0px 1px 2px rgba(0, 0, 0, 0.3));\n",
              "      fill: #FFFFFF;\n",
              "    }\n",
              "  </style>\n",
              "\n",
              "      <script>\n",
              "        const buttonEl =\n",
              "          document.querySelector('#df-f063abef-497a-45d8-be9c-e300564c687a button.colab-df-convert');\n",
              "        buttonEl.style.display =\n",
              "          google.colab.kernel.accessAllowed ? 'block' : 'none';\n",
              "\n",
              "        async function convertToInteractive(key) {\n",
              "          const element = document.querySelector('#df-f063abef-497a-45d8-be9c-e300564c687a');\n",
              "          const dataTable =\n",
              "            await google.colab.kernel.invokeFunction('convertToInteractive',\n",
              "                                                     [key], {});\n",
              "          if (!dataTable) return;\n",
              "\n",
              "          const docLinkHtml = 'Like what you see? Visit the ' +\n",
              "            '<a target=\"_blank\" href=https://colab.research.google.com/notebooks/data_table.ipynb>data table notebook</a>'\n",
              "            + ' to learn more about interactive tables.';\n",
              "          element.innerHTML = '';\n",
              "          dataTable['output_type'] = 'display_data';\n",
              "          await google.colab.output.renderOutput(dataTable, element);\n",
              "          const docLink = document.createElement('div');\n",
              "          docLink.innerHTML = docLinkHtml;\n",
              "          element.appendChild(docLink);\n",
              "        }\n",
              "      </script>\n",
              "    </div>\n",
              "  </div>\n",
              "  "
            ]
          },
          "metadata": {},
          "execution_count": 11
        }
      ]
    },
    {
      "cell_type": "code",
      "source": [
        "data_X = data_df.drop([' Label', 'SimillarHTTP'], axis = 1)"
      ],
      "metadata": {
        "id": "xY7x8ocvSH4J"
      },
      "execution_count": null,
      "outputs": []
    },
    {
      "cell_type": "code",
      "source": [
        "data_X.columns "
      ],
      "metadata": {
        "colab": {
          "base_uri": "https://localhost:8080/"
        },
        "id": "m0Z66Mw1SXU0",
        "outputId": "889a572b-8768-4524-a7ab-f617ff4f8cdc"
      },
      "execution_count": null,
      "outputs": [
        {
          "output_type": "execute_result",
          "data": {
            "text/plain": [
              "Index(['Unnamed: 0', 'Flow ID', ' Source IP', ' Source Port',\n",
              "       ' Destination IP', ' Destination Port', ' Protocol', ' Timestamp',\n",
              "       ' Flow Duration', ' Total Fwd Packets', ' Total Backward Packets',\n",
              "       'Total Length of Fwd Packets', ' Total Length of Bwd Packets',\n",
              "       ' Fwd Packet Length Max', ' Fwd Packet Length Min',\n",
              "       ' Fwd Packet Length Mean', ' Fwd Packet Length Std',\n",
              "       'Bwd Packet Length Max', ' Bwd Packet Length Min',\n",
              "       ' Bwd Packet Length Mean', ' Bwd Packet Length Std', 'Flow Bytes/s',\n",
              "       ' Flow Packets/s', ' Flow IAT Mean', ' Flow IAT Std', ' Flow IAT Max',\n",
              "       ' Flow IAT Min', 'Fwd IAT Total', ' Fwd IAT Mean', ' Fwd IAT Std',\n",
              "       ' Fwd IAT Max', ' Fwd IAT Min', 'Bwd IAT Total', ' Bwd IAT Mean',\n",
              "       ' Bwd IAT Std', ' Bwd IAT Max', ' Bwd IAT Min', 'Fwd PSH Flags',\n",
              "       ' Bwd PSH Flags', ' Fwd URG Flags', ' Bwd URG Flags',\n",
              "       ' Fwd Header Length', ' Bwd Header Length', 'Fwd Packets/s',\n",
              "       ' Bwd Packets/s', ' Min Packet Length', ' Max Packet Length',\n",
              "       ' Packet Length Mean', ' Packet Length Std', ' Packet Length Variance',\n",
              "       'FIN Flag Count', ' SYN Flag Count', ' RST Flag Count',\n",
              "       ' PSH Flag Count', ' ACK Flag Count', ' URG Flag Count',\n",
              "       ' CWE Flag Count', ' ECE Flag Count', ' Down/Up Ratio',\n",
              "       ' Average Packet Size', ' Avg Fwd Segment Size',\n",
              "       ' Avg Bwd Segment Size', ' Fwd Header Length.1', 'Fwd Avg Bytes/Bulk',\n",
              "       ' Fwd Avg Packets/Bulk', ' Fwd Avg Bulk Rate', ' Bwd Avg Bytes/Bulk',\n",
              "       ' Bwd Avg Packets/Bulk', 'Bwd Avg Bulk Rate', 'Subflow Fwd Packets',\n",
              "       ' Subflow Fwd Bytes', ' Subflow Bwd Packets', ' Subflow Bwd Bytes',\n",
              "       'Init_Win_bytes_forward', ' Init_Win_bytes_backward',\n",
              "       ' act_data_pkt_fwd', ' min_seg_size_forward', 'Active Mean',\n",
              "       ' Active Std', ' Active Max', ' Active Min', 'Idle Mean', ' Idle Std',\n",
              "       ' Idle Max', ' Idle Min', ' Inbound'],\n",
              "      dtype='object')"
            ]
          },
          "metadata": {},
          "execution_count": 13
        }
      ]
    },
    {
      "cell_type": "code",
      "source": [
        "data_X.shape "
      ],
      "metadata": {
        "colab": {
          "base_uri": "https://localhost:8080/"
        },
        "id": "i1NsbDmKSYne",
        "outputId": "5a853ae9-7d9a-4729-90b8-6eacbff8cc05"
      },
      "execution_count": null,
      "outputs": [
        {
          "output_type": "execute_result",
          "data": {
            "text/plain": [
              "(49167, 86)"
            ]
          },
          "metadata": {},
          "execution_count": 14
        }
      ]
    },
    {
      "cell_type": "code",
      "source": [
        "data_y = data_df[' Label']"
      ],
      "metadata": {
        "id": "Kg-YAsI4Sduw"
      },
      "execution_count": null,
      "outputs": []
    },
    {
      "cell_type": "code",
      "source": [
        "data_y.shape "
      ],
      "metadata": {
        "colab": {
          "base_uri": "https://localhost:8080/"
        },
        "id": "zQwhaFrBSgjc",
        "outputId": "16d8408b-20eb-4742-fc97-2e4e40d7fbc7"
      },
      "execution_count": null,
      "outputs": [
        {
          "output_type": "execute_result",
          "data": {
            "text/plain": [
              "(49167,)"
            ]
          },
          "metadata": {},
          "execution_count": 16
        }
      ]
    },
    {
      "cell_type": "code",
      "source": [
        "data_df.isnull().sum().sum()"
      ],
      "metadata": {
        "colab": {
          "base_uri": "https://localhost:8080/"
        },
        "id": "IZKfuHyKSilb",
        "outputId": "226abfc2-345f-4c8f-9198-9ec281f1bc29"
      },
      "execution_count": null,
      "outputs": [
        {
          "output_type": "execute_result",
          "data": {
            "text/plain": [
              "0"
            ]
          },
          "metadata": {},
          "execution_count": 17
        }
      ]
    },
    {
      "cell_type": "code",
      "source": [
        "data_y.unique()"
      ],
      "metadata": {
        "colab": {
          "base_uri": "https://localhost:8080/"
        },
        "id": "zYYZQ-WjSl0H",
        "outputId": "d84d393c-d9e4-4d6e-dd83-223f1a183692"
      },
      "execution_count": null,
      "outputs": [
        {
          "output_type": "execute_result",
          "data": {
            "text/plain": [
              "array(['DrDoS_DNS', 'BENIGN', 'DrDoS_LDAP', 'DrDoS_MSSQL',\n",
              "       'DrDoS_NetBIOS', 'DrDoS_NTP', 'DrDoS_SNMP', 'DrDoS_SSDP',\n",
              "       'DrDoS_UDP', 'Syn', 'UDP-lag'], dtype=object)"
            ]
          },
          "metadata": {},
          "execution_count": 18
        }
      ]
    },
    {
      "cell_type": "code",
      "source": [
        "data_X "
      ],
      "metadata": {
        "colab": {
          "base_uri": "https://localhost:8080/",
          "height": 1000
        },
        "id": "_cW362R8Sp46",
        "outputId": "fd034134-3513-4eb8-a08b-2755b15e74a1"
      },
      "execution_count": null,
      "outputs": [
        {
          "output_type": "execute_result",
          "data": {
            "text/plain": [
              "       Unnamed: 0                                 Flow ID     Source IP  \\\n",
              "0             425    172.16.0.5-192.168.50.1-634-60495-17    172.16.0.5   \n",
              "1             430    172.16.0.5-192.168.50.1-60495-634-17  192.168.50.1   \n",
              "2            1654    172.16.0.5-192.168.50.1-634-46391-17    172.16.0.5   \n",
              "3            2927    172.16.0.5-192.168.50.1-634-11894-17    172.16.0.5   \n",
              "4             694    172.16.0.5-192.168.50.1-634-27878-17    172.16.0.5   \n",
              "...           ...                                     ...           ...   \n",
              "49995      310726  172.16.0.5-192.168.50.1-52292-39139-17    172.16.0.5   \n",
              "49996      112527  172.16.0.5-192.168.50.1-35780-28095-17    172.16.0.5   \n",
              "49997       50719  172.16.0.5-192.168.50.1-43479-64437-17    172.16.0.5   \n",
              "49998      351644  172.16.0.5-192.168.50.1-56855-19645-17    172.16.0.5   \n",
              "49999      154979  172.16.0.5-192.168.50.1-33366-50958-17    172.16.0.5   \n",
              "\n",
              "        Source Port  Destination IP   Destination Port   Protocol  \\\n",
              "0               634    192.168.50.1              60495         17   \n",
              "1               634      172.16.0.5              60495         17   \n",
              "2               634    192.168.50.1              46391         17   \n",
              "3               634    192.168.50.1              11894         17   \n",
              "4               634    192.168.50.1              27878         17   \n",
              "...             ...             ...                ...        ...   \n",
              "49995         52292    192.168.50.1              39139         17   \n",
              "49996         35780    192.168.50.1              28095         17   \n",
              "49997         43479    192.168.50.1              64437         17   \n",
              "49998         56855    192.168.50.1              19645         17   \n",
              "49999         33366    192.168.50.1              50958         17   \n",
              "\n",
              "                        Timestamp   Flow Duration   Total Fwd Packets  ...  \\\n",
              "0      2018-12-01 10:51:39.813448           28415                  97  ...   \n",
              "1      2018-12-01 10:51:39.820842               2                   2  ...   \n",
              "2      2018-12-01 10:51:39.852499           48549                 200  ...   \n",
              "3      2018-12-01 10:51:39.890213           48337                 200  ...   \n",
              "4      2018-12-01 10:51:39.941151           32026                 200  ...   \n",
              "...                           ...             ...                 ...  ...   \n",
              "49995  2018-12-01 13:04:46.493768               1                   2  ...   \n",
              "49996  2018-12-01 13:04:46.493959               1                   2  ...   \n",
              "49997  2018-12-01 13:04:46.494010          106451                   4  ...   \n",
              "49998  2018-12-01 13:04:46.494012          215812                   6  ...   \n",
              "49999  2018-12-01 13:04:46.494062          214056                   6  ...   \n",
              "\n",
              "        min_seg_size_forward  Active Mean   Active Std   Active Max  \\\n",
              "0                         -1          0.0          0.0          0.0   \n",
              "1                         -1          0.0          0.0          0.0   \n",
              "2                         -1          0.0          0.0          0.0   \n",
              "3                         -1          0.0          0.0          0.0   \n",
              "4                         -1          0.0          0.0          0.0   \n",
              "...                      ...          ...          ...          ...   \n",
              "49995                     -1          0.0          0.0          0.0   \n",
              "49996                     -1          0.0          0.0          0.0   \n",
              "49997                     -1          0.0          0.0          0.0   \n",
              "49998                     -1          0.0          0.0          0.0   \n",
              "49999                     -1          0.0          0.0          0.0   \n",
              "\n",
              "        Active Min  Idle Mean   Idle Std   Idle Max   Idle Min   Inbound  \n",
              "0              0.0        0.0        0.0        0.0        0.0         1  \n",
              "1              0.0        0.0        0.0        0.0        0.0         0  \n",
              "2              0.0        0.0        0.0        0.0        0.0         1  \n",
              "3              0.0        0.0        0.0        0.0        0.0         1  \n",
              "4              0.0        0.0        0.0        0.0        0.0         1  \n",
              "...            ...        ...        ...        ...        ...       ...  \n",
              "49995          0.0        0.0        0.0        0.0        0.0         1  \n",
              "49996          0.0        0.0        0.0        0.0        0.0         1  \n",
              "49997          0.0        0.0        0.0        0.0        0.0         1  \n",
              "49998          0.0        0.0        0.0        0.0        0.0         1  \n",
              "49999          0.0        0.0        0.0        0.0        0.0         1  \n",
              "\n",
              "[49167 rows x 86 columns]"
            ],
            "text/html": [
              "\n",
              "  <div id=\"df-5411dc16-3bdd-4f02-88fe-50c18ed694c6\">\n",
              "    <div class=\"colab-df-container\">\n",
              "      <div>\n",
              "<style scoped>\n",
              "    .dataframe tbody tr th:only-of-type {\n",
              "        vertical-align: middle;\n",
              "    }\n",
              "\n",
              "    .dataframe tbody tr th {\n",
              "        vertical-align: top;\n",
              "    }\n",
              "\n",
              "    .dataframe thead th {\n",
              "        text-align: right;\n",
              "    }\n",
              "</style>\n",
              "<table border=\"1\" class=\"dataframe\">\n",
              "  <thead>\n",
              "    <tr style=\"text-align: right;\">\n",
              "      <th></th>\n",
              "      <th>Unnamed: 0</th>\n",
              "      <th>Flow ID</th>\n",
              "      <th>Source IP</th>\n",
              "      <th>Source Port</th>\n",
              "      <th>Destination IP</th>\n",
              "      <th>Destination Port</th>\n",
              "      <th>Protocol</th>\n",
              "      <th>Timestamp</th>\n",
              "      <th>Flow Duration</th>\n",
              "      <th>Total Fwd Packets</th>\n",
              "      <th>...</th>\n",
              "      <th>min_seg_size_forward</th>\n",
              "      <th>Active Mean</th>\n",
              "      <th>Active Std</th>\n",
              "      <th>Active Max</th>\n",
              "      <th>Active Min</th>\n",
              "      <th>Idle Mean</th>\n",
              "      <th>Idle Std</th>\n",
              "      <th>Idle Max</th>\n",
              "      <th>Idle Min</th>\n",
              "      <th>Inbound</th>\n",
              "    </tr>\n",
              "  </thead>\n",
              "  <tbody>\n",
              "    <tr>\n",
              "      <th>0</th>\n",
              "      <td>425</td>\n",
              "      <td>172.16.0.5-192.168.50.1-634-60495-17</td>\n",
              "      <td>172.16.0.5</td>\n",
              "      <td>634</td>\n",
              "      <td>192.168.50.1</td>\n",
              "      <td>60495</td>\n",
              "      <td>17</td>\n",
              "      <td>2018-12-01 10:51:39.813448</td>\n",
              "      <td>28415</td>\n",
              "      <td>97</td>\n",
              "      <td>...</td>\n",
              "      <td>-1</td>\n",
              "      <td>0.0</td>\n",
              "      <td>0.0</td>\n",
              "      <td>0.0</td>\n",
              "      <td>0.0</td>\n",
              "      <td>0.0</td>\n",
              "      <td>0.0</td>\n",
              "      <td>0.0</td>\n",
              "      <td>0.0</td>\n",
              "      <td>1</td>\n",
              "    </tr>\n",
              "    <tr>\n",
              "      <th>1</th>\n",
              "      <td>430</td>\n",
              "      <td>172.16.0.5-192.168.50.1-60495-634-17</td>\n",
              "      <td>192.168.50.1</td>\n",
              "      <td>634</td>\n",
              "      <td>172.16.0.5</td>\n",
              "      <td>60495</td>\n",
              "      <td>17</td>\n",
              "      <td>2018-12-01 10:51:39.820842</td>\n",
              "      <td>2</td>\n",
              "      <td>2</td>\n",
              "      <td>...</td>\n",
              "      <td>-1</td>\n",
              "      <td>0.0</td>\n",
              "      <td>0.0</td>\n",
              "      <td>0.0</td>\n",
              "      <td>0.0</td>\n",
              "      <td>0.0</td>\n",
              "      <td>0.0</td>\n",
              "      <td>0.0</td>\n",
              "      <td>0.0</td>\n",
              "      <td>0</td>\n",
              "    </tr>\n",
              "    <tr>\n",
              "      <th>2</th>\n",
              "      <td>1654</td>\n",
              "      <td>172.16.0.5-192.168.50.1-634-46391-17</td>\n",
              "      <td>172.16.0.5</td>\n",
              "      <td>634</td>\n",
              "      <td>192.168.50.1</td>\n",
              "      <td>46391</td>\n",
              "      <td>17</td>\n",
              "      <td>2018-12-01 10:51:39.852499</td>\n",
              "      <td>48549</td>\n",
              "      <td>200</td>\n",
              "      <td>...</td>\n",
              "      <td>-1</td>\n",
              "      <td>0.0</td>\n",
              "      <td>0.0</td>\n",
              "      <td>0.0</td>\n",
              "      <td>0.0</td>\n",
              "      <td>0.0</td>\n",
              "      <td>0.0</td>\n",
              "      <td>0.0</td>\n",
              "      <td>0.0</td>\n",
              "      <td>1</td>\n",
              "    </tr>\n",
              "    <tr>\n",
              "      <th>3</th>\n",
              "      <td>2927</td>\n",
              "      <td>172.16.0.5-192.168.50.1-634-11894-17</td>\n",
              "      <td>172.16.0.5</td>\n",
              "      <td>634</td>\n",
              "      <td>192.168.50.1</td>\n",
              "      <td>11894</td>\n",
              "      <td>17</td>\n",
              "      <td>2018-12-01 10:51:39.890213</td>\n",
              "      <td>48337</td>\n",
              "      <td>200</td>\n",
              "      <td>...</td>\n",
              "      <td>-1</td>\n",
              "      <td>0.0</td>\n",
              "      <td>0.0</td>\n",
              "      <td>0.0</td>\n",
              "      <td>0.0</td>\n",
              "      <td>0.0</td>\n",
              "      <td>0.0</td>\n",
              "      <td>0.0</td>\n",
              "      <td>0.0</td>\n",
              "      <td>1</td>\n",
              "    </tr>\n",
              "    <tr>\n",
              "      <th>4</th>\n",
              "      <td>694</td>\n",
              "      <td>172.16.0.5-192.168.50.1-634-27878-17</td>\n",
              "      <td>172.16.0.5</td>\n",
              "      <td>634</td>\n",
              "      <td>192.168.50.1</td>\n",
              "      <td>27878</td>\n",
              "      <td>17</td>\n",
              "      <td>2018-12-01 10:51:39.941151</td>\n",
              "      <td>32026</td>\n",
              "      <td>200</td>\n",
              "      <td>...</td>\n",
              "      <td>-1</td>\n",
              "      <td>0.0</td>\n",
              "      <td>0.0</td>\n",
              "      <td>0.0</td>\n",
              "      <td>0.0</td>\n",
              "      <td>0.0</td>\n",
              "      <td>0.0</td>\n",
              "      <td>0.0</td>\n",
              "      <td>0.0</td>\n",
              "      <td>1</td>\n",
              "    </tr>\n",
              "    <tr>\n",
              "      <th>...</th>\n",
              "      <td>...</td>\n",
              "      <td>...</td>\n",
              "      <td>...</td>\n",
              "      <td>...</td>\n",
              "      <td>...</td>\n",
              "      <td>...</td>\n",
              "      <td>...</td>\n",
              "      <td>...</td>\n",
              "      <td>...</td>\n",
              "      <td>...</td>\n",
              "      <td>...</td>\n",
              "      <td>...</td>\n",
              "      <td>...</td>\n",
              "      <td>...</td>\n",
              "      <td>...</td>\n",
              "      <td>...</td>\n",
              "      <td>...</td>\n",
              "      <td>...</td>\n",
              "      <td>...</td>\n",
              "      <td>...</td>\n",
              "      <td>...</td>\n",
              "    </tr>\n",
              "    <tr>\n",
              "      <th>49995</th>\n",
              "      <td>310726</td>\n",
              "      <td>172.16.0.5-192.168.50.1-52292-39139-17</td>\n",
              "      <td>172.16.0.5</td>\n",
              "      <td>52292</td>\n",
              "      <td>192.168.50.1</td>\n",
              "      <td>39139</td>\n",
              "      <td>17</td>\n",
              "      <td>2018-12-01 13:04:46.493768</td>\n",
              "      <td>1</td>\n",
              "      <td>2</td>\n",
              "      <td>...</td>\n",
              "      <td>-1</td>\n",
              "      <td>0.0</td>\n",
              "      <td>0.0</td>\n",
              "      <td>0.0</td>\n",
              "      <td>0.0</td>\n",
              "      <td>0.0</td>\n",
              "      <td>0.0</td>\n",
              "      <td>0.0</td>\n",
              "      <td>0.0</td>\n",
              "      <td>1</td>\n",
              "    </tr>\n",
              "    <tr>\n",
              "      <th>49996</th>\n",
              "      <td>112527</td>\n",
              "      <td>172.16.0.5-192.168.50.1-35780-28095-17</td>\n",
              "      <td>172.16.0.5</td>\n",
              "      <td>35780</td>\n",
              "      <td>192.168.50.1</td>\n",
              "      <td>28095</td>\n",
              "      <td>17</td>\n",
              "      <td>2018-12-01 13:04:46.493959</td>\n",
              "      <td>1</td>\n",
              "      <td>2</td>\n",
              "      <td>...</td>\n",
              "      <td>-1</td>\n",
              "      <td>0.0</td>\n",
              "      <td>0.0</td>\n",
              "      <td>0.0</td>\n",
              "      <td>0.0</td>\n",
              "      <td>0.0</td>\n",
              "      <td>0.0</td>\n",
              "      <td>0.0</td>\n",
              "      <td>0.0</td>\n",
              "      <td>1</td>\n",
              "    </tr>\n",
              "    <tr>\n",
              "      <th>49997</th>\n",
              "      <td>50719</td>\n",
              "      <td>172.16.0.5-192.168.50.1-43479-64437-17</td>\n",
              "      <td>172.16.0.5</td>\n",
              "      <td>43479</td>\n",
              "      <td>192.168.50.1</td>\n",
              "      <td>64437</td>\n",
              "      <td>17</td>\n",
              "      <td>2018-12-01 13:04:46.494010</td>\n",
              "      <td>106451</td>\n",
              "      <td>4</td>\n",
              "      <td>...</td>\n",
              "      <td>-1</td>\n",
              "      <td>0.0</td>\n",
              "      <td>0.0</td>\n",
              "      <td>0.0</td>\n",
              "      <td>0.0</td>\n",
              "      <td>0.0</td>\n",
              "      <td>0.0</td>\n",
              "      <td>0.0</td>\n",
              "      <td>0.0</td>\n",
              "      <td>1</td>\n",
              "    </tr>\n",
              "    <tr>\n",
              "      <th>49998</th>\n",
              "      <td>351644</td>\n",
              "      <td>172.16.0.5-192.168.50.1-56855-19645-17</td>\n",
              "      <td>172.16.0.5</td>\n",
              "      <td>56855</td>\n",
              "      <td>192.168.50.1</td>\n",
              "      <td>19645</td>\n",
              "      <td>17</td>\n",
              "      <td>2018-12-01 13:04:46.494012</td>\n",
              "      <td>215812</td>\n",
              "      <td>6</td>\n",
              "      <td>...</td>\n",
              "      <td>-1</td>\n",
              "      <td>0.0</td>\n",
              "      <td>0.0</td>\n",
              "      <td>0.0</td>\n",
              "      <td>0.0</td>\n",
              "      <td>0.0</td>\n",
              "      <td>0.0</td>\n",
              "      <td>0.0</td>\n",
              "      <td>0.0</td>\n",
              "      <td>1</td>\n",
              "    </tr>\n",
              "    <tr>\n",
              "      <th>49999</th>\n",
              "      <td>154979</td>\n",
              "      <td>172.16.0.5-192.168.50.1-33366-50958-17</td>\n",
              "      <td>172.16.0.5</td>\n",
              "      <td>33366</td>\n",
              "      <td>192.168.50.1</td>\n",
              "      <td>50958</td>\n",
              "      <td>17</td>\n",
              "      <td>2018-12-01 13:04:46.494062</td>\n",
              "      <td>214056</td>\n",
              "      <td>6</td>\n",
              "      <td>...</td>\n",
              "      <td>-1</td>\n",
              "      <td>0.0</td>\n",
              "      <td>0.0</td>\n",
              "      <td>0.0</td>\n",
              "      <td>0.0</td>\n",
              "      <td>0.0</td>\n",
              "      <td>0.0</td>\n",
              "      <td>0.0</td>\n",
              "      <td>0.0</td>\n",
              "      <td>1</td>\n",
              "    </tr>\n",
              "  </tbody>\n",
              "</table>\n",
              "<p>49167 rows × 86 columns</p>\n",
              "</div>\n",
              "      <button class=\"colab-df-convert\" onclick=\"convertToInteractive('df-5411dc16-3bdd-4f02-88fe-50c18ed694c6')\"\n",
              "              title=\"Convert this dataframe to an interactive table.\"\n",
              "              style=\"display:none;\">\n",
              "        \n",
              "  <svg xmlns=\"http://www.w3.org/2000/svg\" height=\"24px\"viewBox=\"0 0 24 24\"\n",
              "       width=\"24px\">\n",
              "    <path d=\"M0 0h24v24H0V0z\" fill=\"none\"/>\n",
              "    <path d=\"M18.56 5.44l.94 2.06.94-2.06 2.06-.94-2.06-.94-.94-2.06-.94 2.06-2.06.94zm-11 1L8.5 8.5l.94-2.06 2.06-.94-2.06-.94L8.5 2.5l-.94 2.06-2.06.94zm10 10l.94 2.06.94-2.06 2.06-.94-2.06-.94-.94-2.06-.94 2.06-2.06.94z\"/><path d=\"M17.41 7.96l-1.37-1.37c-.4-.4-.92-.59-1.43-.59-.52 0-1.04.2-1.43.59L10.3 9.45l-7.72 7.72c-.78.78-.78 2.05 0 2.83L4 21.41c.39.39.9.59 1.41.59.51 0 1.02-.2 1.41-.59l7.78-7.78 2.81-2.81c.8-.78.8-2.07 0-2.86zM5.41 20L4 18.59l7.72-7.72 1.47 1.35L5.41 20z\"/>\n",
              "  </svg>\n",
              "      </button>\n",
              "      \n",
              "  <style>\n",
              "    .colab-df-container {\n",
              "      display:flex;\n",
              "      flex-wrap:wrap;\n",
              "      gap: 12px;\n",
              "    }\n",
              "\n",
              "    .colab-df-convert {\n",
              "      background-color: #E8F0FE;\n",
              "      border: none;\n",
              "      border-radius: 50%;\n",
              "      cursor: pointer;\n",
              "      display: none;\n",
              "      fill: #1967D2;\n",
              "      height: 32px;\n",
              "      padding: 0 0 0 0;\n",
              "      width: 32px;\n",
              "    }\n",
              "\n",
              "    .colab-df-convert:hover {\n",
              "      background-color: #E2EBFA;\n",
              "      box-shadow: 0px 1px 2px rgba(60, 64, 67, 0.3), 0px 1px 3px 1px rgba(60, 64, 67, 0.15);\n",
              "      fill: #174EA6;\n",
              "    }\n",
              "\n",
              "    [theme=dark] .colab-df-convert {\n",
              "      background-color: #3B4455;\n",
              "      fill: #D2E3FC;\n",
              "    }\n",
              "\n",
              "    [theme=dark] .colab-df-convert:hover {\n",
              "      background-color: #434B5C;\n",
              "      box-shadow: 0px 1px 3px 1px rgba(0, 0, 0, 0.15);\n",
              "      filter: drop-shadow(0px 1px 2px rgba(0, 0, 0, 0.3));\n",
              "      fill: #FFFFFF;\n",
              "    }\n",
              "  </style>\n",
              "\n",
              "      <script>\n",
              "        const buttonEl =\n",
              "          document.querySelector('#df-5411dc16-3bdd-4f02-88fe-50c18ed694c6 button.colab-df-convert');\n",
              "        buttonEl.style.display =\n",
              "          google.colab.kernel.accessAllowed ? 'block' : 'none';\n",
              "\n",
              "        async function convertToInteractive(key) {\n",
              "          const element = document.querySelector('#df-5411dc16-3bdd-4f02-88fe-50c18ed694c6');\n",
              "          const dataTable =\n",
              "            await google.colab.kernel.invokeFunction('convertToInteractive',\n",
              "                                                     [key], {});\n",
              "          if (!dataTable) return;\n",
              "\n",
              "          const docLinkHtml = 'Like what you see? Visit the ' +\n",
              "            '<a target=\"_blank\" href=https://colab.research.google.com/notebooks/data_table.ipynb>data table notebook</a>'\n",
              "            + ' to learn more about interactive tables.';\n",
              "          element.innerHTML = '';\n",
              "          dataTable['output_type'] = 'display_data';\n",
              "          await google.colab.output.renderOutput(dataTable, element);\n",
              "          const docLink = document.createElement('div');\n",
              "          docLink.innerHTML = docLinkHtml;\n",
              "          element.appendChild(docLink);\n",
              "        }\n",
              "      </script>\n",
              "    </div>\n",
              "  </div>\n",
              "  "
            ]
          },
          "metadata": {},
          "execution_count": 19
        }
      ]
    },
    {
      "cell_type": "markdown",
      "source": [
        "Label encoding"
      ],
      "metadata": {
        "id": "m_33cVtBpNrv"
      }
    },
    {
      "cell_type": "code",
      "source": [
        "from sklearn.preprocessing import LabelEncoder "
      ],
      "metadata": {
        "id": "ZtLQo0xTSuKP"
      },
      "execution_count": null,
      "outputs": []
    },
    {
      "cell_type": "code",
      "source": [
        "le = LabelEncoder()"
      ],
      "metadata": {
        "id": "9Lr1-HvcV8-V"
      },
      "execution_count": null,
      "outputs": []
    },
    {
      "cell_type": "code",
      "source": [
        "data_y_trans = le.fit_transform(data_y)\n",
        "le_fid = LabelEncoder()\n"
      ],
      "metadata": {
        "id": "l32ds-KaWBEt"
      },
      "execution_count": null,
      "outputs": []
    },
    {
      "cell_type": "code",
      "source": [
        "le_fid.fit(data_X['Flow ID'])\n",
        "data_X['Flow ID'] = le_fid.fit_transform(data_X['Flow ID'])"
      ],
      "metadata": {
        "id": "m8c34GfESkQn"
      },
      "execution_count": null,
      "outputs": []
    },
    {
      "cell_type": "code",
      "source": [
        "le_SIP = LabelEncoder()"
      ],
      "metadata": {
        "id": "ys1mXb7rSlQx"
      },
      "execution_count": null,
      "outputs": []
    },
    {
      "cell_type": "code",
      "source": [
        "le_SIP.fit(data_X[' Source IP'])\n",
        "data_X[' Source IP'] = le_SIP.fit_transform(data_X[' Source IP'])"
      ],
      "metadata": {
        "id": "xqioA4XZSpBh"
      },
      "execution_count": null,
      "outputs": []
    },
    {
      "cell_type": "code",
      "source": [
        "le_DIP = LabelEncoder()\n"
      ],
      "metadata": {
        "id": "FOlIpGskSwFZ"
      },
      "execution_count": null,
      "outputs": []
    },
    {
      "cell_type": "code",
      "source": [
        "le_DIP.fit(data_X[' Destination IP'])\n",
        "data_X[' Destination IP'] = le_DIP.fit_transform(data_X[' Destination IP'])"
      ],
      "metadata": {
        "id": "WjcFQm4SS0e1"
      },
      "execution_count": null,
      "outputs": []
    },
    {
      "cell_type": "code",
      "source": [
        "le_timestamp = LabelEncoder()\n",
        "le_timestamp.fit(data_X[' Timestamp'])\n",
        "data_X[' Timestamp'] = le_timestamp.fit_transform(data_X[' Timestamp'])"
      ],
      "metadata": {
        "id": "wl80JE9MWEGS"
      },
      "execution_count": null,
      "outputs": []
    },
    {
      "cell_type": "code",
      "source": [
        "data_X"
      ],
      "metadata": {
        "colab": {
          "base_uri": "https://localhost:8080/",
          "height": 522
        },
        "id": "bGQlGNLBWGsd",
        "outputId": "2235894a-41df-4178-acee-80cc95f25fd7"
      },
      "execution_count": null,
      "outputs": [
        {
          "output_type": "execute_result",
          "data": {
            "text/plain": [
              "       Unnamed: 0  Flow ID   Source IP   Source Port   Destination IP  \\\n",
              "0             425    26494          16           634               84   \n",
              "1             430    19087          72           634               22   \n",
              "2            1654    25668          16           634               84   \n",
              "3            2927    23796          16           634               84   \n",
              "4             694    24670          16           634               84   \n",
              "...           ...      ...         ...           ...              ...   \n",
              "49995      310726    13193          16         52292               84   \n",
              "49996      112527     4170          16         35780               84   \n",
              "49997       50719     9442          16         43479               84   \n",
              "49998      351644    16684          16         56855               84   \n",
              "49999      154979     1655          16         33366               84   \n",
              "\n",
              "        Destination Port   Protocol   Timestamp   Flow Duration  \\\n",
              "0                  60495         17        4985           28415   \n",
              "1                  60495         17        4986               2   \n",
              "2                  46391         17        4987           48549   \n",
              "3                  11894         17        4988           48337   \n",
              "4                  27878         17        4989           32026   \n",
              "...                  ...        ...         ...             ...   \n",
              "49995              39139         17       44580               1   \n",
              "49996              28095         17       44581               1   \n",
              "49997              64437         17       44582          106451   \n",
              "49998              19645         17       44583          215812   \n",
              "49999              50958         17       44584          214056   \n",
              "\n",
              "        Total Fwd Packets  ...   min_seg_size_forward  Active Mean  \\\n",
              "0                      97  ...                     -1          0.0   \n",
              "1                       2  ...                     -1          0.0   \n",
              "2                     200  ...                     -1          0.0   \n",
              "3                     200  ...                     -1          0.0   \n",
              "4                     200  ...                     -1          0.0   \n",
              "...                   ...  ...                    ...          ...   \n",
              "49995                   2  ...                     -1          0.0   \n",
              "49996                   2  ...                     -1          0.0   \n",
              "49997                   4  ...                     -1          0.0   \n",
              "49998                   6  ...                     -1          0.0   \n",
              "49999                   6  ...                     -1          0.0   \n",
              "\n",
              "        Active Std   Active Max   Active Min  Idle Mean   Idle Std   Idle Max  \\\n",
              "0              0.0          0.0          0.0        0.0        0.0        0.0   \n",
              "1              0.0          0.0          0.0        0.0        0.0        0.0   \n",
              "2              0.0          0.0          0.0        0.0        0.0        0.0   \n",
              "3              0.0          0.0          0.0        0.0        0.0        0.0   \n",
              "4              0.0          0.0          0.0        0.0        0.0        0.0   \n",
              "...            ...          ...          ...        ...        ...        ...   \n",
              "49995          0.0          0.0          0.0        0.0        0.0        0.0   \n",
              "49996          0.0          0.0          0.0        0.0        0.0        0.0   \n",
              "49997          0.0          0.0          0.0        0.0        0.0        0.0   \n",
              "49998          0.0          0.0          0.0        0.0        0.0        0.0   \n",
              "49999          0.0          0.0          0.0        0.0        0.0        0.0   \n",
              "\n",
              "        Idle Min   Inbound  \n",
              "0            0.0         1  \n",
              "1            0.0         0  \n",
              "2            0.0         1  \n",
              "3            0.0         1  \n",
              "4            0.0         1  \n",
              "...          ...       ...  \n",
              "49995        0.0         1  \n",
              "49996        0.0         1  \n",
              "49997        0.0         1  \n",
              "49998        0.0         1  \n",
              "49999        0.0         1  \n",
              "\n",
              "[49167 rows x 86 columns]"
            ],
            "text/html": [
              "\n",
              "  <div id=\"df-8eaac057-3605-4701-a2f5-8833efdf64cc\">\n",
              "    <div class=\"colab-df-container\">\n",
              "      <div>\n",
              "<style scoped>\n",
              "    .dataframe tbody tr th:only-of-type {\n",
              "        vertical-align: middle;\n",
              "    }\n",
              "\n",
              "    .dataframe tbody tr th {\n",
              "        vertical-align: top;\n",
              "    }\n",
              "\n",
              "    .dataframe thead th {\n",
              "        text-align: right;\n",
              "    }\n",
              "</style>\n",
              "<table border=\"1\" class=\"dataframe\">\n",
              "  <thead>\n",
              "    <tr style=\"text-align: right;\">\n",
              "      <th></th>\n",
              "      <th>Unnamed: 0</th>\n",
              "      <th>Flow ID</th>\n",
              "      <th>Source IP</th>\n",
              "      <th>Source Port</th>\n",
              "      <th>Destination IP</th>\n",
              "      <th>Destination Port</th>\n",
              "      <th>Protocol</th>\n",
              "      <th>Timestamp</th>\n",
              "      <th>Flow Duration</th>\n",
              "      <th>Total Fwd Packets</th>\n",
              "      <th>...</th>\n",
              "      <th>min_seg_size_forward</th>\n",
              "      <th>Active Mean</th>\n",
              "      <th>Active Std</th>\n",
              "      <th>Active Max</th>\n",
              "      <th>Active Min</th>\n",
              "      <th>Idle Mean</th>\n",
              "      <th>Idle Std</th>\n",
              "      <th>Idle Max</th>\n",
              "      <th>Idle Min</th>\n",
              "      <th>Inbound</th>\n",
              "    </tr>\n",
              "  </thead>\n",
              "  <tbody>\n",
              "    <tr>\n",
              "      <th>0</th>\n",
              "      <td>425</td>\n",
              "      <td>26494</td>\n",
              "      <td>16</td>\n",
              "      <td>634</td>\n",
              "      <td>84</td>\n",
              "      <td>60495</td>\n",
              "      <td>17</td>\n",
              "      <td>4985</td>\n",
              "      <td>28415</td>\n",
              "      <td>97</td>\n",
              "      <td>...</td>\n",
              "      <td>-1</td>\n",
              "      <td>0.0</td>\n",
              "      <td>0.0</td>\n",
              "      <td>0.0</td>\n",
              "      <td>0.0</td>\n",
              "      <td>0.0</td>\n",
              "      <td>0.0</td>\n",
              "      <td>0.0</td>\n",
              "      <td>0.0</td>\n",
              "      <td>1</td>\n",
              "    </tr>\n",
              "    <tr>\n",
              "      <th>1</th>\n",
              "      <td>430</td>\n",
              "      <td>19087</td>\n",
              "      <td>72</td>\n",
              "      <td>634</td>\n",
              "      <td>22</td>\n",
              "      <td>60495</td>\n",
              "      <td>17</td>\n",
              "      <td>4986</td>\n",
              "      <td>2</td>\n",
              "      <td>2</td>\n",
              "      <td>...</td>\n",
              "      <td>-1</td>\n",
              "      <td>0.0</td>\n",
              "      <td>0.0</td>\n",
              "      <td>0.0</td>\n",
              "      <td>0.0</td>\n",
              "      <td>0.0</td>\n",
              "      <td>0.0</td>\n",
              "      <td>0.0</td>\n",
              "      <td>0.0</td>\n",
              "      <td>0</td>\n",
              "    </tr>\n",
              "    <tr>\n",
              "      <th>2</th>\n",
              "      <td>1654</td>\n",
              "      <td>25668</td>\n",
              "      <td>16</td>\n",
              "      <td>634</td>\n",
              "      <td>84</td>\n",
              "      <td>46391</td>\n",
              "      <td>17</td>\n",
              "      <td>4987</td>\n",
              "      <td>48549</td>\n",
              "      <td>200</td>\n",
              "      <td>...</td>\n",
              "      <td>-1</td>\n",
              "      <td>0.0</td>\n",
              "      <td>0.0</td>\n",
              "      <td>0.0</td>\n",
              "      <td>0.0</td>\n",
              "      <td>0.0</td>\n",
              "      <td>0.0</td>\n",
              "      <td>0.0</td>\n",
              "      <td>0.0</td>\n",
              "      <td>1</td>\n",
              "    </tr>\n",
              "    <tr>\n",
              "      <th>3</th>\n",
              "      <td>2927</td>\n",
              "      <td>23796</td>\n",
              "      <td>16</td>\n",
              "      <td>634</td>\n",
              "      <td>84</td>\n",
              "      <td>11894</td>\n",
              "      <td>17</td>\n",
              "      <td>4988</td>\n",
              "      <td>48337</td>\n",
              "      <td>200</td>\n",
              "      <td>...</td>\n",
              "      <td>-1</td>\n",
              "      <td>0.0</td>\n",
              "      <td>0.0</td>\n",
              "      <td>0.0</td>\n",
              "      <td>0.0</td>\n",
              "      <td>0.0</td>\n",
              "      <td>0.0</td>\n",
              "      <td>0.0</td>\n",
              "      <td>0.0</td>\n",
              "      <td>1</td>\n",
              "    </tr>\n",
              "    <tr>\n",
              "      <th>4</th>\n",
              "      <td>694</td>\n",
              "      <td>24670</td>\n",
              "      <td>16</td>\n",
              "      <td>634</td>\n",
              "      <td>84</td>\n",
              "      <td>27878</td>\n",
              "      <td>17</td>\n",
              "      <td>4989</td>\n",
              "      <td>32026</td>\n",
              "      <td>200</td>\n",
              "      <td>...</td>\n",
              "      <td>-1</td>\n",
              "      <td>0.0</td>\n",
              "      <td>0.0</td>\n",
              "      <td>0.0</td>\n",
              "      <td>0.0</td>\n",
              "      <td>0.0</td>\n",
              "      <td>0.0</td>\n",
              "      <td>0.0</td>\n",
              "      <td>0.0</td>\n",
              "      <td>1</td>\n",
              "    </tr>\n",
              "    <tr>\n",
              "      <th>...</th>\n",
              "      <td>...</td>\n",
              "      <td>...</td>\n",
              "      <td>...</td>\n",
              "      <td>...</td>\n",
              "      <td>...</td>\n",
              "      <td>...</td>\n",
              "      <td>...</td>\n",
              "      <td>...</td>\n",
              "      <td>...</td>\n",
              "      <td>...</td>\n",
              "      <td>...</td>\n",
              "      <td>...</td>\n",
              "      <td>...</td>\n",
              "      <td>...</td>\n",
              "      <td>...</td>\n",
              "      <td>...</td>\n",
              "      <td>...</td>\n",
              "      <td>...</td>\n",
              "      <td>...</td>\n",
              "      <td>...</td>\n",
              "      <td>...</td>\n",
              "    </tr>\n",
              "    <tr>\n",
              "      <th>49995</th>\n",
              "      <td>310726</td>\n",
              "      <td>13193</td>\n",
              "      <td>16</td>\n",
              "      <td>52292</td>\n",
              "      <td>84</td>\n",
              "      <td>39139</td>\n",
              "      <td>17</td>\n",
              "      <td>44580</td>\n",
              "      <td>1</td>\n",
              "      <td>2</td>\n",
              "      <td>...</td>\n",
              "      <td>-1</td>\n",
              "      <td>0.0</td>\n",
              "      <td>0.0</td>\n",
              "      <td>0.0</td>\n",
              "      <td>0.0</td>\n",
              "      <td>0.0</td>\n",
              "      <td>0.0</td>\n",
              "      <td>0.0</td>\n",
              "      <td>0.0</td>\n",
              "      <td>1</td>\n",
              "    </tr>\n",
              "    <tr>\n",
              "      <th>49996</th>\n",
              "      <td>112527</td>\n",
              "      <td>4170</td>\n",
              "      <td>16</td>\n",
              "      <td>35780</td>\n",
              "      <td>84</td>\n",
              "      <td>28095</td>\n",
              "      <td>17</td>\n",
              "      <td>44581</td>\n",
              "      <td>1</td>\n",
              "      <td>2</td>\n",
              "      <td>...</td>\n",
              "      <td>-1</td>\n",
              "      <td>0.0</td>\n",
              "      <td>0.0</td>\n",
              "      <td>0.0</td>\n",
              "      <td>0.0</td>\n",
              "      <td>0.0</td>\n",
              "      <td>0.0</td>\n",
              "      <td>0.0</td>\n",
              "      <td>0.0</td>\n",
              "      <td>1</td>\n",
              "    </tr>\n",
              "    <tr>\n",
              "      <th>49997</th>\n",
              "      <td>50719</td>\n",
              "      <td>9442</td>\n",
              "      <td>16</td>\n",
              "      <td>43479</td>\n",
              "      <td>84</td>\n",
              "      <td>64437</td>\n",
              "      <td>17</td>\n",
              "      <td>44582</td>\n",
              "      <td>106451</td>\n",
              "      <td>4</td>\n",
              "      <td>...</td>\n",
              "      <td>-1</td>\n",
              "      <td>0.0</td>\n",
              "      <td>0.0</td>\n",
              "      <td>0.0</td>\n",
              "      <td>0.0</td>\n",
              "      <td>0.0</td>\n",
              "      <td>0.0</td>\n",
              "      <td>0.0</td>\n",
              "      <td>0.0</td>\n",
              "      <td>1</td>\n",
              "    </tr>\n",
              "    <tr>\n",
              "      <th>49998</th>\n",
              "      <td>351644</td>\n",
              "      <td>16684</td>\n",
              "      <td>16</td>\n",
              "      <td>56855</td>\n",
              "      <td>84</td>\n",
              "      <td>19645</td>\n",
              "      <td>17</td>\n",
              "      <td>44583</td>\n",
              "      <td>215812</td>\n",
              "      <td>6</td>\n",
              "      <td>...</td>\n",
              "      <td>-1</td>\n",
              "      <td>0.0</td>\n",
              "      <td>0.0</td>\n",
              "      <td>0.0</td>\n",
              "      <td>0.0</td>\n",
              "      <td>0.0</td>\n",
              "      <td>0.0</td>\n",
              "      <td>0.0</td>\n",
              "      <td>0.0</td>\n",
              "      <td>1</td>\n",
              "    </tr>\n",
              "    <tr>\n",
              "      <th>49999</th>\n",
              "      <td>154979</td>\n",
              "      <td>1655</td>\n",
              "      <td>16</td>\n",
              "      <td>33366</td>\n",
              "      <td>84</td>\n",
              "      <td>50958</td>\n",
              "      <td>17</td>\n",
              "      <td>44584</td>\n",
              "      <td>214056</td>\n",
              "      <td>6</td>\n",
              "      <td>...</td>\n",
              "      <td>-1</td>\n",
              "      <td>0.0</td>\n",
              "      <td>0.0</td>\n",
              "      <td>0.0</td>\n",
              "      <td>0.0</td>\n",
              "      <td>0.0</td>\n",
              "      <td>0.0</td>\n",
              "      <td>0.0</td>\n",
              "      <td>0.0</td>\n",
              "      <td>1</td>\n",
              "    </tr>\n",
              "  </tbody>\n",
              "</table>\n",
              "<p>49167 rows × 86 columns</p>\n",
              "</div>\n",
              "      <button class=\"colab-df-convert\" onclick=\"convertToInteractive('df-8eaac057-3605-4701-a2f5-8833efdf64cc')\"\n",
              "              title=\"Convert this dataframe to an interactive table.\"\n",
              "              style=\"display:none;\">\n",
              "        \n",
              "  <svg xmlns=\"http://www.w3.org/2000/svg\" height=\"24px\"viewBox=\"0 0 24 24\"\n",
              "       width=\"24px\">\n",
              "    <path d=\"M0 0h24v24H0V0z\" fill=\"none\"/>\n",
              "    <path d=\"M18.56 5.44l.94 2.06.94-2.06 2.06-.94-2.06-.94-.94-2.06-.94 2.06-2.06.94zm-11 1L8.5 8.5l.94-2.06 2.06-.94-2.06-.94L8.5 2.5l-.94 2.06-2.06.94zm10 10l.94 2.06.94-2.06 2.06-.94-2.06-.94-.94-2.06-.94 2.06-2.06.94z\"/><path d=\"M17.41 7.96l-1.37-1.37c-.4-.4-.92-.59-1.43-.59-.52 0-1.04.2-1.43.59L10.3 9.45l-7.72 7.72c-.78.78-.78 2.05 0 2.83L4 21.41c.39.39.9.59 1.41.59.51 0 1.02-.2 1.41-.59l7.78-7.78 2.81-2.81c.8-.78.8-2.07 0-2.86zM5.41 20L4 18.59l7.72-7.72 1.47 1.35L5.41 20z\"/>\n",
              "  </svg>\n",
              "      </button>\n",
              "      \n",
              "  <style>\n",
              "    .colab-df-container {\n",
              "      display:flex;\n",
              "      flex-wrap:wrap;\n",
              "      gap: 12px;\n",
              "    }\n",
              "\n",
              "    .colab-df-convert {\n",
              "      background-color: #E8F0FE;\n",
              "      border: none;\n",
              "      border-radius: 50%;\n",
              "      cursor: pointer;\n",
              "      display: none;\n",
              "      fill: #1967D2;\n",
              "      height: 32px;\n",
              "      padding: 0 0 0 0;\n",
              "      width: 32px;\n",
              "    }\n",
              "\n",
              "    .colab-df-convert:hover {\n",
              "      background-color: #E2EBFA;\n",
              "      box-shadow: 0px 1px 2px rgba(60, 64, 67, 0.3), 0px 1px 3px 1px rgba(60, 64, 67, 0.15);\n",
              "      fill: #174EA6;\n",
              "    }\n",
              "\n",
              "    [theme=dark] .colab-df-convert {\n",
              "      background-color: #3B4455;\n",
              "      fill: #D2E3FC;\n",
              "    }\n",
              "\n",
              "    [theme=dark] .colab-df-convert:hover {\n",
              "      background-color: #434B5C;\n",
              "      box-shadow: 0px 1px 3px 1px rgba(0, 0, 0, 0.15);\n",
              "      filter: drop-shadow(0px 1px 2px rgba(0, 0, 0, 0.3));\n",
              "      fill: #FFFFFF;\n",
              "    }\n",
              "  </style>\n",
              "\n",
              "      <script>\n",
              "        const buttonEl =\n",
              "          document.querySelector('#df-8eaac057-3605-4701-a2f5-8833efdf64cc button.colab-df-convert');\n",
              "        buttonEl.style.display =\n",
              "          google.colab.kernel.accessAllowed ? 'block' : 'none';\n",
              "\n",
              "        async function convertToInteractive(key) {\n",
              "          const element = document.querySelector('#df-8eaac057-3605-4701-a2f5-8833efdf64cc');\n",
              "          const dataTable =\n",
              "            await google.colab.kernel.invokeFunction('convertToInteractive',\n",
              "                                                     [key], {});\n",
              "          if (!dataTable) return;\n",
              "\n",
              "          const docLinkHtml = 'Like what you see? Visit the ' +\n",
              "            '<a target=\"_blank\" href=https://colab.research.google.com/notebooks/data_table.ipynb>data table notebook</a>'\n",
              "            + ' to learn more about interactive tables.';\n",
              "          element.innerHTML = '';\n",
              "          dataTable['output_type'] = 'display_data';\n",
              "          await google.colab.output.renderOutput(dataTable, element);\n",
              "          const docLink = document.createElement('div');\n",
              "          docLink.innerHTML = docLinkHtml;\n",
              "          element.appendChild(docLink);\n",
              "        }\n",
              "      </script>\n",
              "    </div>\n",
              "  </div>\n",
              "  "
            ]
          },
          "metadata": {},
          "execution_count": 29
        }
      ]
    },
    {
      "cell_type": "code",
      "source": [
        "df2 = pd.DataFrame(data_X)  "
      ],
      "metadata": {
        "id": "AQmLs5oZZBJX"
      },
      "execution_count": null,
      "outputs": []
    },
    {
      "cell_type": "code",
      "source": [
        "df2.to_csv(r'my_data.csv', index=False)"
      ],
      "metadata": {
        "id": "inC1c6myZ658"
      },
      "execution_count": null,
      "outputs": []
    },
    {
      "cell_type": "code",
      "source": [
        "from sklearn.model_selection import train_test_split\n",
        "X_train, X_test,y_train, y_test = train_test_split(data_X, data_y_trans, test_size = 0.30, random_state = 42)"
      ],
      "metadata": {
        "id": "mrdZHJ0WOGAW"
      },
      "execution_count": null,
      "outputs": []
    },
    {
      "cell_type": "code",
      "source": [
        "from sklearn.preprocessing import StandardScaler \n",
        "ss = StandardScaler()\n",
        "X_train_std = ss.fit_transform(X_train)\n",
        "X_test_std = ss.fit_transform(X_test)"
      ],
      "metadata": {
        "id": "ZaY6hGTXcDt4"
      },
      "execution_count": null,
      "outputs": []
    },
    {
      "cell_type": "markdown",
      "source": [
        "Decision Tree"
      ],
      "metadata": {
        "id": "2vHlMDxXowa1"
      }
    },
    {
      "cell_type": "code",
      "source": [
        "from sklearn.tree import DecisionTreeClassifier\n",
        "ml = DecisionTreeClassifier(random_state=0)"
      ],
      "metadata": {
        "id": "SJ4WKaoVPxev"
      },
      "execution_count": null,
      "outputs": []
    },
    {
      "cell_type": "code",
      "source": [
        "ml.fit(X_train_std,y_train)"
      ],
      "metadata": {
        "colab": {
          "base_uri": "https://localhost:8080/"
        },
        "id": "1Z4HvV8FQRbe",
        "outputId": "cc545d7e-4771-4125-afc7-ad828bebf4b0"
      },
      "execution_count": null,
      "outputs": [
        {
          "output_type": "execute_result",
          "data": {
            "text/plain": [
              "DecisionTreeClassifier(random_state=0)"
            ]
          },
          "metadata": {},
          "execution_count": 104
        }
      ]
    },
    {
      "cell_type": "code",
      "source": [
        "res=ml.predict(X_test_std)"
      ],
      "metadata": {
        "id": "HJWE9p5kTO9h"
      },
      "execution_count": null,
      "outputs": []
    },
    {
      "cell_type": "code",
      "source": [
        "from sklearn.metrics import accuracy_score"
      ],
      "metadata": {
        "id": "RjurjiWoTSqT"
      },
      "execution_count": null,
      "outputs": []
    },
    {
      "cell_type": "code",
      "source": [
        "accuracy_1=accuracy_score(y_test,res)\n",
        "print(\"Decision tree :\",accuracy_1*100)"
      ],
      "metadata": {
        "colab": {
          "base_uri": "https://localhost:8080/"
        },
        "id": "EpXTdmKgTWpJ",
        "outputId": "58994f21-e4f7-4f71-97da-753598889a7e"
      },
      "execution_count": null,
      "outputs": [
        {
          "output_type": "stream",
          "name": "stdout",
          "text": [
            "Decision tree : 99.16615822656091\n"
          ]
        }
      ]
    },
    {
      "cell_type": "code",
      "source": [
        "import matplotlib.pyplot as plt\n",
        "acc=[]\n",
        "for i in range(1,50):\n",
        "  ml = DecisionTreeClassifier(max_depth=i)\n",
        "  ml.fit(X_train_std,y_train)\n",
        "  res=ml.predict(X_test_std)\n",
        "  acc.append(accuracy_score(y_test,res))\n",
        "  if accuracy_score(y_test,res)==100:\n",
        "    break\n",
        "\n",
        "\n"
      ],
      "metadata": {
        "id": "opVp92MBg6Gc"
      },
      "execution_count": null,
      "outputs": []
    },
    {
      "cell_type": "code",
      "source": [
        "print(acc)"
      ],
      "metadata": {
        "colab": {
          "base_uri": "https://localhost:8080/"
        },
        "id": "l8IuJ3N6jRRS",
        "outputId": "450d270b-0ee2-4400-9f73-f634d719bf2d"
      },
      "execution_count": null,
      "outputs": [
        {
          "output_type": "stream",
          "name": "stdout",
          "text": [
            "[0.19598671276523624, 0.2918446207036811, 0.4986780557250356, 0.6897159514609179, 0.7837434750186428, 0.8877364246491763, 0.9779675954172599, 0.9936953426886312, 0.9936953426886312, 0.9936953426886312, 0.9936953426886312, 0.9936953426886312, 0.9420378279438683, 0.9936953426886312, 0.9936953426886312, 0.9936953426886312, 0.9936953426886312, 0.9936953426886312, 0.9936953426886312, 0.9420378279438683, 0.9936953426886312, 0.9936953426886312, 0.9936953426886312, 0.9936953426886312, 0.9936953426886312, 0.9936953426886312, 0.9936953426886312, 0.9936953426886312, 0.9936953426886312, 0.9936953426886312, 0.9936953426886312, 0.9936953426886312, 0.9936953426886312, 0.9936953426886312, 0.9936953426886312, 0.9936953426886312, 0.9936953426886312, 0.9936953426886312, 0.9936953426886312, 0.9936953426886312, 0.9420378279438683, 0.9936953426886312, 0.9936953426886312, 0.9936953426886312, 0.9936953426886312, 0.9936953426886312, 0.9936953426886312, 0.9936953426886312, 0.9936953426886312]\n"
          ]
        }
      ]
    },
    {
      "cell_type": "code",
      "source": [
        "print(i)"
      ],
      "metadata": {
        "colab": {
          "base_uri": "https://localhost:8080/"
        },
        "id": "KLKzrq2ajpzZ",
        "outputId": "84713381-4638-4593-8833-fb4a79f48eb5"
      },
      "execution_count": null,
      "outputs": [
        {
          "output_type": "stream",
          "name": "stdout",
          "text": [
            "49\n"
          ]
        }
      ]
    },
    {
      "cell_type": "code",
      "source": [
        "y=[k for k in range(1,i+1)]\n",
        "plt.plot(y,acc, label='Training accuracy') \n",
        "plt.xlabel('Max Depth') # Label x-axis\n",
        "plt.ylabel('Training Accuracy') # Label y-axis\n",
        "plt.legend() # Show plot labels as legend\n",
        "plt.show() # Show graph"
      ],
      "metadata": {
        "colab": {
          "base_uri": "https://localhost:8080/",
          "height": 279
        },
        "id": "HRtz5V1WjZCc",
        "outputId": "b75a203c-68de-4af5-d61b-d7cead2acb3b"
      },
      "execution_count": null,
      "outputs": [
        {
          "output_type": "display_data",
          "data": {
            "text/plain": [
              "<Figure size 432x288 with 1 Axes>"
            ],
            "image/png": "[encoded data removed]"
          },
          "metadata": {
            "needs_background": "light"
          }
        }
      ]
    },
    {
      "cell_type": "markdown",
      "source": [
        "Random Forest"
      ],
      "metadata": {
        "id": "MvD4zpNzGqbD"
      }
    },
    {
      "cell_type": "code",
      "source": [
        "from sklearn.ensemble import RandomForestClassifier\n",
        "rf1 = RandomForestClassifier(max_depth=None, random_state=0)\n",
        "rf1.fit(X_train_std, y_train)"
      ],
      "metadata": {
        "colab": {
          "base_uri": "https://localhost:8080/"
        },
        "id": "2KElpT6DF7_b",
        "outputId": "17576cf7-9516-462f-9850-e252789f359e"
      },
      "execution_count": null,
      "outputs": [
        {
          "output_type": "execute_result",
          "data": {
            "text/plain": [
              "RandomForestClassifier(random_state=0)"
            ]
          },
          "metadata": {},
          "execution_count": 113
        }
      ]
    },
    {
      "cell_type": "code",
      "source": [
        "rf_y_pred1 = rf1.predict(X_test_std)"
      ],
      "metadata": {
        "id": "Vq5UCIrHGC9z"
      },
      "execution_count": null,
      "outputs": []
    },
    {
      "cell_type": "code",
      "source": [
        "acc_score1 = accuracy_score(y_test, rf_y_pred1)\n",
        "print(\"Accuracy Score for Random_Forest: \\n\", acc_score1*100)"
      ],
      "metadata": {
        "colab": {
          "base_uri": "https://localhost:8080/"
        },
        "id": "7V9RTimUGHL4",
        "outputId": "73b6c530-b056-4978-cd2f-25f760b357a4"
      },
      "execution_count": null,
      "outputs": [
        {
          "output_type": "stream",
          "name": "stdout",
          "text": [
            "Accuracy Score for Random_Forest: \n",
            " 98.71195173208595\n"
          ]
        }
      ]
    },
    {
      "cell_type": "code",
      "source": [
        "import matplotlib.pyplot as plt\n",
        "acc=[]\n",
        "for i in range(1,50):\n",
        "  rf1 = RandomForestClassifier(max_depth=i, random_state=0)\n",
        "  rf1.fit(X_train_std, y_train)\n",
        "  rf_y_pred1 = rf1.predict(X_test_std)\n",
        "  acc_score1 = accuracy_score(y_test, rf_y_pred1)\n",
        "  acc.append(acc_score1)\n",
        "  if accuracy_score(y_test,res)==100:\n",
        "    break"
      ],
      "metadata": {
        "id": "oAxyhNrWkNtw"
      },
      "execution_count": null,
      "outputs": []
    },
    {
      "cell_type": "code",
      "source": [
        "i"
      ],
      "metadata": {
        "colab": {
          "base_uri": "https://localhost:8080/"
        },
        "id": "4aHtcZ9tlIFM",
        "outputId": "d5b2b173-d69d-4c78-bde8-9a0c1739dd2e"
      },
      "execution_count": null,
      "outputs": [
        {
          "output_type": "execute_result",
          "data": {
            "text/plain": [
              "49"
            ]
          },
          "metadata": {},
          "execution_count": 145
        }
      ]
    },
    {
      "cell_type": "code",
      "source": [
        "y=[k for k in range(1,i+1)]\n",
        "plt.plot(y,acc, label='Training accuracy') \n",
        "plt.xlabel('Max Depth') # Label x-axis\n",
        "plt.ylabel('Training Accuracy') # Label y-axis\n",
        "plt.legend() # Show plot labels as legend\n",
        "plt.show() # Show graph"
      ],
      "metadata": {
        "colab": {
          "base_uri": "https://localhost:8080/",
          "height": 280
        },
        "id": "8dUYZT4ek4AO",
        "outputId": "3b2a393c-ece2-4f71-809f-af6e20f9b2aa"
      },
      "execution_count": null,
      "outputs": [
        {
          "output_type": "display_data",
          "data": {
            "text/plain": [
              "<Figure size 432x288 with 1 Axes>"
            ],
            "image/png": "[encoded data removed]"
          },
          "metadata": {
            "needs_background": "light"
          }
        }
      ]
    },
    {
      "cell_type": "markdown",
      "source": [
        "XG boost"
      ],
      "metadata": {
        "id": "ZLtBDzJkGvMO"
      }
    },
    {
      "cell_type": "code",
      "source": [
        "from sklearn.ensemble import GradientBoostingClassifier"
      ],
      "metadata": {
        "id": "IazN100DGzXZ"
      },
      "execution_count": null,
      "outputs": []
    },
    {
      "cell_type": "code",
      "source": [
        "gradient_boost1 = GradientBoostingClassifier(n_estimators=100, learning_rate=0.1,\n",
        "max_depth=3, random_state=0)\n",
        "gradient_boost1.fit(X_train_std, y_train)"
      ],
      "metadata": {
        "colab": {
          "base_uri": "https://localhost:8080/"
        },
        "id": "sNlmfrzIG5HB",
        "outputId": "6ad25d60-ef03-4a53-933c-c11605de7ee1"
      },
      "execution_count": null,
      "outputs": [
        {
          "output_type": "execute_result",
          "data": {
            "text/plain": [
              "GradientBoostingClassifier(random_state=0)"
            ]
          },
          "metadata": {},
          "execution_count": 112
        }
      ]
    },
    {
      "cell_type": "code",
      "source": [
        "res_xg1=gradient_boost1.predict(X_test_std)"
      ],
      "metadata": {
        "id": "4rkNjveyHAF1"
      },
      "execution_count": null,
      "outputs": []
    },
    {
      "cell_type": "code",
      "source": [
        "acc_score_xg1 = accuracy_score(y_test, res_xg1)\n",
        "print(\"Accuracy Score for GradientBoosting: \\n\", acc_score_xg1*100)"
      ],
      "metadata": {
        "colab": {
          "base_uri": "https://localhost:8080/"
        },
        "id": "q1O60m3vHEtr",
        "outputId": "b9fd4ce6-f781-4c24-d9fb-25dd624fa2e1"
      },
      "execution_count": null,
      "outputs": [
        {
          "output_type": "stream",
          "name": "stdout",
          "text": [
            "Accuracy Score for GradientBoosting: \n",
            " 99.24072944207172\n"
          ]
        }
      ]
    },
    {
      "cell_type": "code",
      "source": [
        "acc=[]\n",
        "for i in range(1,50):\n",
        "  gradient_boost1 = GradientBoostingClassifier(n_estimators=100, learning_rate=0.1,\n",
        "max_depth=i, random_state=0)\n",
        "  gradient_boost1.fit(X_train_std, y_train)\n",
        "  res_xg1=gradient_boost1.predict(X_test_std)\n",
        "  acc.append(accuracy_score(y_test, res_xg1))\n",
        "  if accuracy_score(y_test,res)==100:\n",
        "    break\n"
      ],
      "metadata": {
        "id": "U9w5fEFymyRz"
      },
      "execution_count": null,
      "outputs": []
    },
    {
      "cell_type": "code",
      "source": [
        "y=[k for k in range(1,i+1)]\n",
        "plt.plot(y,acc, label='Training accuracy') \n",
        "plt.xlabel('Max Depth') # Label x-axis\n",
        "plt.ylabel('Training Accuracy') # Label y-axis\n",
        "plt.legend() # Show plot labels as legend\n",
        "plt.show() # Show graph"
      ],
      "metadata": {
        "id": "cPHwIFCdHKgm"
      },
      "execution_count": null,
      "outputs": []
    },
    {
      "cell_type": "markdown",
      "source": [
        "FEATURE SELECTION"
      ],
      "metadata": {
        "id": "IaBRVekPmMZi"
      }
    },
    {
      "cell_type": "code",
      "source": [
        "from sklearn.feature_selection import chi2 \n",
        "from sklearn.feature_selection import SelectKBest \n",
        "from sklearn.ensemble import ExtraTreesClassifier"
      ],
      "metadata": {
        "id": "7gJBMcms7025"
      },
      "execution_count": null,
      "outputs": []
    },
    {
      "cell_type": "code",
      "source": [
        "model = ExtraTreesClassifier(bootstrap=False, ccp_alpha=0.0, class_weight=None,\n",
        "                     criterion='gini', max_depth=None, max_features='auto',\n",
        "                     max_leaf_nodes=None, max_samples=None,\n",
        "                     min_impurity_decrease=0.0, \n",
        "                     min_samples_leaf=1, min_samples_split=2,\n",
        "                     min_weight_fraction_leaf=0.0, n_estimators=100,\n",
        "                     n_jobs=None, oob_score=False, random_state=42, verbose=0,\n",
        "                     warm_start=False)\n",
        "\n",
        "model.fit(data_X, data_y_trans)"
      ],
      "metadata": {
        "colab": {
          "base_uri": "https://localhost:8080/"
        },
        "id": "n9IAlJzu72GW",
        "outputId": "53e15101-8a87-480b-9579-9ffe5edb3ffc"
      },
      "execution_count": null,
      "outputs": [
        {
          "output_type": "execute_result",
          "data": {
            "text/plain": [
              "ExtraTreesClassifier(random_state=42)"
            ]
          },
          "metadata": {},
          "execution_count": 40
        }
      ]
    },
    {
      "cell_type": "code",
      "source": [
        "model.feature_importances_"
      ],
      "metadata": {
        "colab": {
          "base_uri": "https://localhost:8080/"
        },
        "id": "_MeL3rQC8lNp",
        "outputId": "d86ae701-05c2-416b-8600-cca750e6076d"
      },
      "execution_count": null,
      "outputs": [
        {
          "output_type": "execute_result",
          "data": {
            "text/plain": [
              "array([5.02646174e-02, 5.82616301e-02, 1.59789822e-02, 6.66670701e-02,\n",
              "       5.46797511e-03, 9.75087719e-03, 1.70424620e-02, 2.32791900e-01,\n",
              "       3.47666699e-03, 5.04367483e-03, 2.70791092e-04, 2.13186165e-02,\n",
              "       5.63925711e-04, 2.80217740e-02, 3.80497934e-02, 2.86211744e-02,\n",
              "       3.65747754e-03, 9.50808392e-04, 1.23556504e-04, 8.92234643e-04,\n",
              "       4.95626444e-04, 2.41245326e-02, 1.53291488e-02, 3.27540873e-03,\n",
              "       2.16143547e-03, 4.23839832e-03, 3.06630626e-03, 6.67856341e-03,\n",
              "       3.42059037e-03, 1.74897176e-03, 3.82038425e-03, 2.46854108e-03,\n",
              "       4.46053465e-04, 1.55918729e-04, 1.07371664e-04, 1.31421723e-04,\n",
              "       1.82242082e-04, 4.44320336e-04, 0.00000000e+00, 0.00000000e+00,\n",
              "       0.00000000e+00, 7.02285203e-03, 5.45800012e-04, 1.78019939e-02,\n",
              "       7.88298832e-04, 4.40929160e-02, 1.93297607e-02, 3.48568584e-02,\n",
              "       2.35324512e-03, 2.33987992e-03, 0.00000000e+00, 2.70831966e-05,\n",
              "       4.07946645e-04, 0.00000000e+00, 2.91691735e-02, 6.03142437e-03,\n",
              "       3.81943063e-03, 0.00000000e+00, 2.85572383e-03, 3.84848422e-02,\n",
              "       3.78276268e-02, 8.29698409e-04, 6.79625074e-03, 0.00000000e+00,\n",
              "       0.00000000e+00, 0.00000000e+00, 0.00000000e+00, 0.00000000e+00,\n",
              "       0.00000000e+00, 3.32241756e-03, 2.33325411e-02, 4.91266439e-04,\n",
              "       4.44323445e-04, 6.45595855e-03, 5.62377733e-04, 1.15386010e-02,\n",
              "       1.19261919e-02, 4.97929463e-05, 9.57930951e-06, 3.42245742e-05,\n",
              "       9.21632634e-05, 7.73314738e-04, 6.31363801e-05, 4.16708068e-04,\n",
              "       9.68544741e-05, 2.54984997e-02])"
            ]
          },
          "metadata": {},
          "execution_count": 41
        }
      ]
    },
    {
      "cell_type": "code",
      "source": [
        "feature_importance_std = pd.Series(model.feature_importances_, index=data_X.columns)\n",
        "feature_importance_std.nlargest(20).plot(kind='bar', title='Standardised Dataset Feature Selection using ExtraTreesClassifier')"
      ],
      "metadata": {
        "colab": {
          "base_uri": "https://localhost:8080/",
          "height": 426
        },
        "id": "Z8ty4qs584ae",
        "outputId": "c4319cde-4efa-4f5e-8867-cc9e38941401"
      },
      "execution_count": null,
      "outputs": [
        {
          "output_type": "execute_result",
          "data": {
            "text/plain": [
              "<matplotlib.axes._subplots.AxesSubplot at 0x7fb67c308590>"
            ]
          },
          "metadata": {},
          "execution_count": 42
        },
        {
          "output_type": "display_data",
          "data": {
            "text/plain": [
              "<Figure size 432x288 with 1 Axes>"
            ],
            "image/png": "[encoded data removed]"
          },
          "metadata": {
            "needs_background": "light"
          }
        }
      ]
    },
    {
      "cell_type": "code",
      "source": [
        "data_new_20features_X = data_X[[' Timestamp', ' Source Port', ' Min Packet Length', ' Fwd Packet Length Min', 'Flow ID', ' Packet Length Mean', ' Fwd Packet Length Max', ' Average Packet Size', ' ACK Flag Count', ' Avg Fwd Segment Size', ' Fwd Packet Length Mean', 'Flow Bytes/s', ' Max Packet Length', ' Protocol', 'Fwd Packets/s', ' Flow Packets/s', 'Total Length of Fwd Packets', ' Subflow Fwd Bytes', ' Destination Port', ' act_data_pkt_fwd']]"
      ],
      "metadata": {
        "id": "IOCY4W5x9E7e"
      },
      "execution_count": null,
      "outputs": []
    },
    {
      "cell_type": "code",
      "source": [
        "data_new_20features_X"
      ],
      "metadata": {
        "colab": {
          "base_uri": "https://localhost:8080/",
          "height": 540
        },
        "id": "Z3ovz_PH9Tiy",
        "outputId": "f769efdf-d3d5-4554-94ba-f739ee9edb95"
      },
      "execution_count": null,
      "outputs": [
        {
          "output_type": "execute_result",
          "data": {
            "text/plain": [
              "        Timestamp   Source Port   Min Packet Length   Fwd Packet Length Min  \\\n",
              "0            4985           634               440.0                   440.0   \n",
              "1            4986           634               440.0                   440.0   \n",
              "2            4987           634               440.0                   440.0   \n",
              "3            4988           634               440.0                   440.0   \n",
              "4            4989           634               440.0                   440.0   \n",
              "...           ...           ...                 ...                     ...   \n",
              "49995       44580         52292               383.0                   383.0   \n",
              "49996       44581         35780               383.0                   383.0   \n",
              "49997       44582         43479               330.0                   330.0   \n",
              "49998       44583         56855               321.0                   321.0   \n",
              "49999       44584         33366               321.0                   321.0   \n",
              "\n",
              "       Flow ID   Packet Length Mean   Fwd Packet Length Max  \\\n",
              "0        26494           440.000000                   440.0   \n",
              "1        19087           440.000000                   440.0   \n",
              "2        25668           440.000000                   440.0   \n",
              "3        23796           440.000000                   440.0   \n",
              "4        24670           440.000000                   440.0   \n",
              "...        ...                  ...                     ...   \n",
              "49995    13193           383.000000                   383.0   \n",
              "49996     4170           383.000000                   383.0   \n",
              "49997     9442           345.600000                   369.0   \n",
              "49998    16684           344.142857                   393.0   \n",
              "49999     1655           344.142857                   393.0   \n",
              "\n",
              "        Average Packet Size   ACK Flag Count   Avg Fwd Segment Size  \\\n",
              "0                444.536082                0                  440.0   \n",
              "1                660.000000                0                  440.0   \n",
              "2                442.200000                0                  440.0   \n",
              "3                442.200000                0                  440.0   \n",
              "4                442.200000                0                  440.0   \n",
              "...                     ...              ...                    ...   \n",
              "49995            574.500000                0                  383.0   \n",
              "49996            574.500000                0                  383.0   \n",
              "49997            432.000000                0                  349.5   \n",
              "49998            401.500000                0                  348.0   \n",
              "49999            401.500000                0                  348.0   \n",
              "\n",
              "        Fwd Packet Length Mean  Flow Bytes/s   Max Packet Length   Protocol  \\\n",
              "0                        440.0  1.502024e+06               440.0         17   \n",
              "1                        440.0  4.400000e+08               440.0         17   \n",
              "2                        440.0  1.812602e+06               440.0         17   \n",
              "3                        440.0  1.820552e+06               440.0         17   \n",
              "4                        440.0  2.747767e+06               440.0         17   \n",
              "...                        ...           ...                 ...        ...   \n",
              "49995                    383.0  7.660000e+08               383.0         17   \n",
              "49996                    383.0  7.660000e+08               383.0         17   \n",
              "49997                    349.5  1.313280e+04               369.0         17   \n",
              "49998                    348.0  9.675088e+03               393.0         17   \n",
              "49999                    348.0  9.754457e+03               393.0         17   \n",
              "\n",
              "       Fwd Packets/s   Flow Packets/s  Total Length of Fwd Packets  \\\n",
              "0       3.413690e+03     3.413690e+03                      42680.0   \n",
              "1       1.000000e+06     1.000000e+06                        880.0   \n",
              "2       4.119549e+03     4.119549e+03                      88000.0   \n",
              "3       4.137617e+03     4.137617e+03                      88000.0   \n",
              "4       6.244926e+03     6.244926e+03                      88000.0   \n",
              "...              ...              ...                          ...   \n",
              "49995   2.000000e+06     2.000000e+06                        766.0   \n",
              "49996   2.000000e+06     2.000000e+06                        766.0   \n",
              "49997   3.757597e+01     3.757597e+01                       1398.0   \n",
              "49998   2.780198e+01     2.780198e+01                       2088.0   \n",
              "49999   2.803005e+01     2.803005e+01                       2088.0   \n",
              "\n",
              "        Subflow Fwd Bytes   Destination Port   act_data_pkt_fwd  \n",
              "0                   42680              60495                 96  \n",
              "1                     880              60495                  1  \n",
              "2                   88000              46391                199  \n",
              "3                   88000              11894                199  \n",
              "4                   88000              27878                199  \n",
              "...                   ...                ...                ...  \n",
              "49995                 766              39139                  1  \n",
              "49996                 766              28095                  1  \n",
              "49997                1398              64437                  3  \n",
              "49998                2088              19645                  5  \n",
              "49999                2088              50958                  5  \n",
              "\n",
              "[49167 rows x 20 columns]"
            ],
            "text/html": [
              "\n",
              "  <div id=\"df-e71c6a48-7f26-4a6a-afee-24aaca29c015\">\n",
              "    <div class=\"colab-df-container\">\n",
              "      <div>\n",
              "<style scoped>\n",
              "    .dataframe tbody tr th:only-of-type {\n",
              "        vertical-align: middle;\n",
              "    }\n",
              "\n",
              "    .dataframe tbody tr th {\n",
              "        vertical-align: top;\n",
              "    }\n",
              "\n",
              "    .dataframe thead th {\n",
              "        text-align: right;\n",
              "    }\n",
              "</style>\n",
              "<table border=\"1\" class=\"dataframe\">\n",
              "  <thead>\n",
              "    <tr style=\"text-align: right;\">\n",
              "      <th></th>\n",
              "      <th>Timestamp</th>\n",
              "      <th>Source Port</th>\n",
              "      <th>Min Packet Length</th>\n",
              "      <th>Fwd Packet Length Min</th>\n",
              "      <th>Flow ID</th>\n",
              "      <th>Packet Length Mean</th>\n",
              "      <th>Fwd Packet Length Max</th>\n",
              "      <th>Average Packet Size</th>\n",
              "      <th>ACK Flag Count</th>\n",
              "      <th>Avg Fwd Segment Size</th>\n",
              "      <th>Fwd Packet Length Mean</th>\n",
              "      <th>Flow Bytes/s</th>\n",
              "      <th>Max Packet Length</th>\n",
              "      <th>Protocol</th>\n",
              "      <th>Fwd Packets/s</th>\n",
              "      <th>Flow Packets/s</th>\n",
              "      <th>Total Length of Fwd Packets</th>\n",
              "      <th>Subflow Fwd Bytes</th>\n",
              "      <th>Destination Port</th>\n",
              "      <th>act_data_pkt_fwd</th>\n",
              "    </tr>\n",
              "  </thead>\n",
              "  <tbody>\n",
              "    <tr>\n",
              "      <th>0</th>\n",
              "      <td>4985</td>\n",
              "      <td>634</td>\n",
              "      <td>440.0</td>\n",
              "      <td>440.0</td>\n",
              "      <td>26494</td>\n",
              "      <td>440.000000</td>\n",
              "      <td>440.0</td>\n",
              "      <td>444.536082</td>\n",
              "      <td>0</td>\n",
              "      <td>440.0</td>\n",
              "      <td>440.0</td>\n",
              "      <td>1.502024e+06</td>\n",
              "      <td>440.0</td>\n",
              "      <td>17</td>\n",
              "      <td>3.413690e+03</td>\n",
              "      <td>3.413690e+03</td>\n",
              "      <td>42680.0</td>\n",
              "      <td>42680</td>\n",
              "      <td>60495</td>\n",
              "      <td>96</td>\n",
              "    </tr>\n",
              "    <tr>\n",
              "      <th>1</th>\n",
              "      <td>4986</td>\n",
              "      <td>634</td>\n",
              "      <td>440.0</td>\n",
              "      <td>440.0</td>\n",
              "      <td>19087</td>\n",
              "      <td>440.000000</td>\n",
              "      <td>440.0</td>\n",
              "      <td>660.000000</td>\n",
              "      <td>0</td>\n",
              "      <td>440.0</td>\n",
              "      <td>440.0</td>\n",
              "      <td>4.400000e+08</td>\n",
              "      <td>440.0</td>\n",
              "      <td>17</td>\n",
              "      <td>1.000000e+06</td>\n",
              "      <td>1.000000e+06</td>\n",
              "      <td>880.0</td>\n",
              "      <td>880</td>\n",
              "      <td>60495</td>\n",
              "      <td>1</td>\n",
              "    </tr>\n",
              "    <tr>\n",
              "      <th>2</th>\n",
              "      <td>4987</td>\n",
              "      <td>634</td>\n",
              "      <td>440.0</td>\n",
              "      <td>440.0</td>\n",
              "      <td>25668</td>\n",
              "      <td>440.000000</td>\n",
              "      <td>440.0</td>\n",
              "      <td>442.200000</td>\n",
              "      <td>0</td>\n",
              "      <td>440.0</td>\n",
              "      <td>440.0</td>\n",
              "      <td>1.812602e+06</td>\n",
              "      <td>440.0</td>\n",
              "      <td>17</td>\n",
              "      <td>4.119549e+03</td>\n",
              "      <td>4.119549e+03</td>\n",
              "      <td>88000.0</td>\n",
              "      <td>88000</td>\n",
              "      <td>46391</td>\n",
              "      <td>199</td>\n",
              "    </tr>\n",
              "    <tr>\n",
              "      <th>3</th>\n",
              "      <td>4988</td>\n",
              "      <td>634</td>\n",
              "      <td>440.0</td>\n",
              "      <td>440.0</td>\n",
              "      <td>23796</td>\n",
              "      <td>440.000000</td>\n",
              "      <td>440.0</td>\n",
              "      <td>442.200000</td>\n",
              "      <td>0</td>\n",
              "      <td>440.0</td>\n",
              "      <td>440.0</td>\n",
              "      <td>1.820552e+06</td>\n",
              "      <td>440.0</td>\n",
              "      <td>17</td>\n",
              "      <td>4.137617e+03</td>\n",
              "      <td>4.137617e+03</td>\n",
              "      <td>88000.0</td>\n",
              "      <td>88000</td>\n",
              "      <td>11894</td>\n",
              "      <td>199</td>\n",
              "    </tr>\n",
              "    <tr>\n",
              "      <th>4</th>\n",
              "      <td>4989</td>\n",
              "      <td>634</td>\n",
              "      <td>440.0</td>\n",
              "      <td>440.0</td>\n",
              "      <td>24670</td>\n",
              "      <td>440.000000</td>\n",
              "      <td>440.0</td>\n",
              "      <td>442.200000</td>\n",
              "      <td>0</td>\n",
              "      <td>440.0</td>\n",
              "      <td>440.0</td>\n",
              "      <td>2.747767e+06</td>\n",
              "      <td>440.0</td>\n",
              "      <td>17</td>\n",
              "      <td>6.244926e+03</td>\n",
              "      <td>6.244926e+03</td>\n",
              "      <td>88000.0</td>\n",
              "      <td>88000</td>\n",
              "      <td>27878</td>\n",
              "      <td>199</td>\n",
              "    </tr>\n",
              "    <tr>\n",
              "      <th>...</th>\n",
              "      <td>...</td>\n",
              "      <td>...</td>\n",
              "      <td>...</td>\n",
              "      <td>...</td>\n",
              "      <td>...</td>\n",
              "      <td>...</td>\n",
              "      <td>...</td>\n",
              "      <td>...</td>\n",
              "      <td>...</td>\n",
              "      <td>...</td>\n",
              "      <td>...</td>\n",
              "      <td>...</td>\n",
              "      <td>...</td>\n",
              "      <td>...</td>\n",
              "      <td>...</td>\n",
              "      <td>...</td>\n",
              "      <td>...</td>\n",
              "      <td>...</td>\n",
              "      <td>...</td>\n",
              "      <td>...</td>\n",
              "    </tr>\n",
              "    <tr>\n",
              "      <th>49995</th>\n",
              "      <td>44580</td>\n",
              "      <td>52292</td>\n",
              "      <td>383.0</td>\n",
              "      <td>383.0</td>\n",
              "      <td>13193</td>\n",
              "      <td>383.000000</td>\n",
              "      <td>383.0</td>\n",
              "      <td>574.500000</td>\n",
              "      <td>0</td>\n",
              "      <td>383.0</td>\n",
              "      <td>383.0</td>\n",
              "      <td>7.660000e+08</td>\n",
              "      <td>383.0</td>\n",
              "      <td>17</td>\n",
              "      <td>2.000000e+06</td>\n",
              "      <td>2.000000e+06</td>\n",
              "      <td>766.0</td>\n",
              "      <td>766</td>\n",
              "      <td>39139</td>\n",
              "      <td>1</td>\n",
              "    </tr>\n",
              "    <tr>\n",
              "      <th>49996</th>\n",
              "      <td>44581</td>\n",
              "      <td>35780</td>\n",
              "      <td>383.0</td>\n",
              "      <td>383.0</td>\n",
              "      <td>4170</td>\n",
              "      <td>383.000000</td>\n",
              "      <td>383.0</td>\n",
              "      <td>574.500000</td>\n",
              "      <td>0</td>\n",
              "      <td>383.0</td>\n",
              "      <td>383.0</td>\n",
              "      <td>7.660000e+08</td>\n",
              "      <td>383.0</td>\n",
              "      <td>17</td>\n",
              "      <td>2.000000e+06</td>\n",
              "      <td>2.000000e+06</td>\n",
              "      <td>766.0</td>\n",
              "      <td>766</td>\n",
              "      <td>28095</td>\n",
              "      <td>1</td>\n",
              "    </tr>\n",
              "    <tr>\n",
              "      <th>49997</th>\n",
              "      <td>44582</td>\n",
              "      <td>43479</td>\n",
              "      <td>330.0</td>\n",
              "      <td>330.0</td>\n",
              "      <td>9442</td>\n",
              "      <td>345.600000</td>\n",
              "      <td>369.0</td>\n",
              "      <td>432.000000</td>\n",
              "      <td>0</td>\n",
              "      <td>349.5</td>\n",
              "      <td>349.5</td>\n",
              "      <td>1.313280e+04</td>\n",
              "      <td>369.0</td>\n",
              "      <td>17</td>\n",
              "      <td>3.757597e+01</td>\n",
              "      <td>3.757597e+01</td>\n",
              "      <td>1398.0</td>\n",
              "      <td>1398</td>\n",
              "      <td>64437</td>\n",
              "      <td>3</td>\n",
              "    </tr>\n",
              "    <tr>\n",
              "      <th>49998</th>\n",
              "      <td>44583</td>\n",
              "      <td>56855</td>\n",
              "      <td>321.0</td>\n",
              "      <td>321.0</td>\n",
              "      <td>16684</td>\n",
              "      <td>344.142857</td>\n",
              "      <td>393.0</td>\n",
              "      <td>401.500000</td>\n",
              "      <td>0</td>\n",
              "      <td>348.0</td>\n",
              "      <td>348.0</td>\n",
              "      <td>9.675088e+03</td>\n",
              "      <td>393.0</td>\n",
              "      <td>17</td>\n",
              "      <td>2.780198e+01</td>\n",
              "      <td>2.780198e+01</td>\n",
              "      <td>2088.0</td>\n",
              "      <td>2088</td>\n",
              "      <td>19645</td>\n",
              "      <td>5</td>\n",
              "    </tr>\n",
              "    <tr>\n",
              "      <th>49999</th>\n",
              "      <td>44584</td>\n",
              "      <td>33366</td>\n",
              "      <td>321.0</td>\n",
              "      <td>321.0</td>\n",
              "      <td>1655</td>\n",
              "      <td>344.142857</td>\n",
              "      <td>393.0</td>\n",
              "      <td>401.500000</td>\n",
              "      <td>0</td>\n",
              "      <td>348.0</td>\n",
              "      <td>348.0</td>\n",
              "      <td>9.754457e+03</td>\n",
              "      <td>393.0</td>\n",
              "      <td>17</td>\n",
              "      <td>2.803005e+01</td>\n",
              "      <td>2.803005e+01</td>\n",
              "      <td>2088.0</td>\n",
              "      <td>2088</td>\n",
              "      <td>50958</td>\n",
              "      <td>5</td>\n",
              "    </tr>\n",
              "  </tbody>\n",
              "</table>\n",
              "<p>49167 rows × 20 columns</p>\n",
              "</div>\n",
              "      <button class=\"colab-df-convert\" onclick=\"convertToInteractive('df-e71c6a48-7f26-4a6a-afee-24aaca29c015')\"\n",
              "              title=\"Convert this dataframe to an interactive table.\"\n",
              "              style=\"display:none;\">\n",
              "        \n",
              "  <svg xmlns=\"http://www.w3.org/2000/svg\" height=\"24px\"viewBox=\"0 0 24 24\"\n",
              "       width=\"24px\">\n",
              "    <path d=\"M0 0h24v24H0V0z\" fill=\"none\"/>\n",
              "    <path d=\"M18.56 5.44l.94 2.06.94-2.06 2.06-.94-2.06-.94-.94-2.06-.94 2.06-2.06.94zm-11 1L8.5 8.5l.94-2.06 2.06-.94-2.06-.94L8.5 2.5l-.94 2.06-2.06.94zm10 10l.94 2.06.94-2.06 2.06-.94-2.06-.94-.94-2.06-.94 2.06-2.06.94z\"/><path d=\"M17.41 7.96l-1.37-1.37c-.4-.4-.92-.59-1.43-.59-.52 0-1.04.2-1.43.59L10.3 9.45l-7.72 7.72c-.78.78-.78 2.05 0 2.83L4 21.41c.39.39.9.59 1.41.59.51 0 1.02-.2 1.41-.59l7.78-7.78 2.81-2.81c.8-.78.8-2.07 0-2.86zM5.41 20L4 18.59l7.72-7.72 1.47 1.35L5.41 20z\"/>\n",
              "  </svg>\n",
              "      </button>\n",
              "      \n",
              "  <style>\n",
              "    .colab-df-container {\n",
              "      display:flex;\n",
              "      flex-wrap:wrap;\n",
              "      gap: 12px;\n",
              "    }\n",
              "\n",
              "    .colab-df-convert {\n",
              "      background-color: #E8F0FE;\n",
              "      border: none;\n",
              "      border-radius: 50%;\n",
              "      cursor: pointer;\n",
              "      display: none;\n",
              "      fill: #1967D2;\n",
              "      height: 32px;\n",
              "      padding: 0 0 0 0;\n",
              "      width: 32px;\n",
              "    }\n",
              "\n",
              "    .colab-df-convert:hover {\n",
              "      background-color: #E2EBFA;\n",
              "      box-shadow: 0px 1px 2px rgba(60, 64, 67, 0.3), 0px 1px 3px 1px rgba(60, 64, 67, 0.15);\n",
              "      fill: #174EA6;\n",
              "    }\n",
              "\n",
              "    [theme=dark] .colab-df-convert {\n",
              "      background-color: #3B4455;\n",
              "      fill: #D2E3FC;\n",
              "    }\n",
              "\n",
              "    [theme=dark] .colab-df-convert:hover {\n",
              "      background-color: #434B5C;\n",
              "      box-shadow: 0px 1px 3px 1px rgba(0, 0, 0, 0.15);\n",
              "      filter: drop-shadow(0px 1px 2px rgba(0, 0, 0, 0.3));\n",
              "      fill: #FFFFFF;\n",
              "    }\n",
              "  </style>\n",
              "\n",
              "      <script>\n",
              "        const buttonEl =\n",
              "          document.querySelector('#df-e71c6a48-7f26-4a6a-afee-24aaca29c015 button.colab-df-convert');\n",
              "        buttonEl.style.display =\n",
              "          google.colab.kernel.accessAllowed ? 'block' : 'none';\n",
              "\n",
              "        async function convertToInteractive(key) {\n",
              "          const element = document.querySelector('#df-e71c6a48-7f26-4a6a-afee-24aaca29c015');\n",
              "          const dataTable =\n",
              "            await google.colab.kernel.invokeFunction('convertToInteractive',\n",
              "                                                     [key], {});\n",
              "          if (!dataTable) return;\n",
              "\n",
              "          const docLinkHtml = 'Like what you see? Visit the ' +\n",
              "            '<a target=\"_blank\" href=https://colab.research.google.com/notebooks/data_table.ipynb>data table notebook</a>'\n",
              "            + ' to learn more about interactive tables.';\n",
              "          element.innerHTML = '';\n",
              "          dataTable['output_type'] = 'display_data';\n",
              "          await google.colab.output.renderOutput(dataTable, element);\n",
              "          const docLink = document.createElement('div');\n",
              "          docLink.innerHTML = docLinkHtml;\n",
              "          element.appendChild(docLink);\n",
              "        }\n",
              "      </script>\n",
              "    </div>\n",
              "  </div>\n",
              "  "
            ]
          },
          "metadata": {},
          "execution_count": 44
        }
      ]
    },
    {
      "cell_type": "code",
      "source": [
        "from sklearn.model_selection import train_test_split\n",
        "X_train_20, X_test_20, y_train_20, y_test_20 = train_test_split(data_new_20features_X, data_y_trans, test_size = 0.30, random_state = 42)"
      ],
      "metadata": {
        "id": "gyDp8nmb9YO5"
      },
      "execution_count": null,
      "outputs": []
    },
    {
      "cell_type": "code",
      "source": [
        "from sklearn.preprocessing import StandardScaler \n",
        "ss_20 = StandardScaler()\n",
        "X_train_std_20 = ss_20.fit_transform(X_train_20)\n",
        "X_test_std_20 = ss_20.fit_transform(X_test_20)"
      ],
      "metadata": {
        "id": "XR8nf1hpeMYN"
      },
      "execution_count": null,
      "outputs": []
    },
    {
      "cell_type": "markdown",
      "source": [
        "Random forest"
      ],
      "metadata": {
        "id": "VGYijZvKeZSN"
      }
    },
    {
      "cell_type": "code",
      "source": [
        "from sklearn.ensemble import RandomForestClassifier\n",
        "rf = RandomForestClassifier(max_depth=None, random_state=0)\n",
        "rf.fit(X_train_std_20, y_train_20)"
      ],
      "metadata": {
        "colab": {
          "base_uri": "https://localhost:8080/"
        },
        "id": "M0Nu1SSleghf",
        "outputId": "48e481eb-3aea-42b8-f32a-89412f4e306a"
      },
      "execution_count": null,
      "outputs": [
        {
          "output_type": "execute_result",
          "data": {
            "text/plain": [
              "RandomForestClassifier(random_state=0)"
            ]
          },
          "metadata": {},
          "execution_count": 116
        }
      ]
    },
    {
      "cell_type": "code",
      "source": [
        "rf_y_pred = rf.predict(X_test_std_20)"
      ],
      "metadata": {
        "id": "H4tDkDLkfbO8"
      },
      "execution_count": null,
      "outputs": []
    },
    {
      "cell_type": "code",
      "source": [
        "from sklearn.metrics import accuracy_score \n",
        "from sklearn.metrics import classification_report "
      ],
      "metadata": {
        "id": "t7cAA8_wfi0W"
      },
      "execution_count": null,
      "outputs": []
    },
    {
      "cell_type": "code",
      "source": [
        "print(\"Classification Report for Random Forest: \\n\", classification_report(le.inverse_transform(y_test_20), le.inverse_transform(rf_y_pred)))"
      ],
      "metadata": {
        "colab": {
          "base_uri": "https://localhost:8080/"
        },
        "id": "TUkGRTbifuOv",
        "outputId": "36e928b3-6414-49a7-fee1-3b3379131c11"
      },
      "execution_count": null,
      "outputs": [
        {
          "output_type": "stream",
          "name": "stdout",
          "text": [
            "Classification Report for Random Forest: \n",
            "                precision    recall  f1-score   support\n",
            "\n",
            "       BENIGN       1.00      1.00      1.00      1412\n",
            "    DrDoS_DNS       0.99      0.98      0.99      1339\n",
            "   DrDoS_LDAP       0.99      1.00      0.99      1507\n",
            "  DrDoS_MSSQL       1.00      1.00      1.00      1483\n",
            "    DrDoS_NTP       0.99      1.00      0.99       242\n",
            "DrDoS_NetBIOS       1.00      1.00      1.00      1424\n",
            "   DrDoS_SNMP       1.00      1.00      1.00      1505\n",
            "   DrDoS_SSDP       1.00      1.00      1.00      1554\n",
            "    DrDoS_UDP       1.00      0.99      0.99      1414\n",
            "          Syn       1.00      1.00      1.00      1335\n",
            "      UDP-lag       0.99      1.00      1.00      1536\n",
            "\n",
            "     accuracy                           1.00     14751\n",
            "    macro avg       1.00      1.00      1.00     14751\n",
            " weighted avg       1.00      1.00      1.00     14751\n",
            "\n"
          ]
        }
      ]
    },
    {
      "cell_type": "code",
      "source": [
        "acc_score = accuracy_score(y_test_20, rf_y_pred)\n",
        "print(\"Accuracy Score for Random_Forest: \\n\", acc_score*100)"
      ],
      "metadata": {
        "colab": {
          "base_uri": "https://localhost:8080/"
        },
        "id": "N10OwgYmfRWa",
        "outputId": "fd7257a5-46db-4cfa-daf9-0820a5a6110f"
      },
      "execution_count": null,
      "outputs": [
        {
          "output_type": "stream",
          "name": "stdout",
          "text": [
            "Accuracy Score for Random_Forest: \n",
            " 99.66103992949631\n"
          ]
        }
      ]
    },
    {
      "cell_type": "markdown",
      "source": [
        "XGBoost"
      ],
      "metadata": {
        "id": "TWAGTg7BgdhI"
      }
    },
    {
      "cell_type": "code",
      "source": [
        "from sklearn.ensemble import GradientBoostingClassifier"
      ],
      "metadata": {
        "id": "eNUHwu8Dgj9Y"
      },
      "execution_count": null,
      "outputs": []
    },
    {
      "cell_type": "code",
      "source": [
        "gradient_boost = GradientBoostingClassifier(n_estimators=100, learning_rate=0.1,\n",
        "max_depth=3, random_state=0)\n",
        "gradient_boost.fit(X_train_std_20, y_train_20)"
      ],
      "metadata": {
        "colab": {
          "base_uri": "https://localhost:8080/"
        },
        "id": "3TGum262gnyN",
        "outputId": "1f4879fa-069e-4eea-e02d-4fbac770eba6"
      },
      "execution_count": null,
      "outputs": [
        {
          "output_type": "execute_result",
          "data": {
            "text/plain": [
              "GradientBoostingClassifier(random_state=0)"
            ]
          },
          "metadata": {},
          "execution_count": 59
        }
      ]
    },
    {
      "cell_type": "code",
      "source": [
        "res_xg=gradient_boost.predict(X_test_std_20)"
      ],
      "metadata": {
        "id": "dDHOcefVi16X"
      },
      "execution_count": null,
      "outputs": []
    },
    {
      "cell_type": "code",
      "source": [
        "acc_score_xg = accuracy_score(y_test_20, res_xg)\n",
        "print(\"Accuracy Score for GradientBoosting: \\n\", acc_score_xg*100)"
      ],
      "metadata": {
        "colab": {
          "base_uri": "https://localhost:8080/"
        },
        "id": "7kTg2fCqizN0",
        "outputId": "0c13460f-210a-4c4b-e0ec-baac6f173768"
      },
      "execution_count": null,
      "outputs": [
        {
          "output_type": "stream",
          "name": "stdout",
          "text": [
            "Accuracy Score for GradientBoosting: \n",
            " 99.28818385194225\n"
          ]
        }
      ]
    },
    {
      "cell_type": "markdown",
      "source": [
        "Decision Tree"
      ],
      "metadata": {
        "id": "MIcHeuNpCor9"
      }
    },
    {
      "cell_type": "code",
      "source": [
        "from sklearn.tree import DecisionTreeClassifier\n",
        "ml_dec = DecisionTreeClassifier(random_state=0)"
      ],
      "metadata": {
        "id": "g9rrWg6ECtvb"
      },
      "execution_count": null,
      "outputs": []
    },
    {
      "cell_type": "code",
      "source": [
        "ml_dec.fit(X_train_std_20, y_train_20)"
      ],
      "metadata": {
        "colab": {
          "base_uri": "https://localhost:8080/"
        },
        "id": "OJH-8SXRCyw8",
        "outputId": "76d80cd1-0ac4-4686-b870-9540ef8b2108"
      },
      "execution_count": null,
      "outputs": [
        {
          "output_type": "execute_result",
          "data": {
            "text/plain": [
              "DecisionTreeClassifier(random_state=0)"
            ]
          },
          "metadata": {},
          "execution_count": 89
        }
      ]
    },
    {
      "cell_type": "code",
      "source": [
        "res_dec=ml_dec.predict(X_test_std_20)"
      ],
      "metadata": {
        "id": "l89NY0gMC3P6"
      },
      "execution_count": null,
      "outputs": []
    },
    {
      "cell_type": "code",
      "source": [
        "accuracy_1=accuracy_score(y_test_20,res_dec)\n",
        "print(\"Decision tree :\",accuracy_1*100)"
      ],
      "metadata": {
        "colab": {
          "base_uri": "https://localhost:8080/"
        },
        "id": "ThpUAbdsC8P8",
        "outputId": "0164a0f2-2a90-4ec0-d4d8-968d48e7878c"
      },
      "execution_count": null,
      "outputs": [
        {
          "output_type": "stream",
          "name": "stdout",
          "text": [
            "Decision tree : 99.16615822656091\n"
          ]
        }
      ]
    }
  ]
}
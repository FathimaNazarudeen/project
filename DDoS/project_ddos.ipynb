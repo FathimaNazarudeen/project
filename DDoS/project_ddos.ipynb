{
  "nbformat": 4,
  "nbformat_minor": 0,
  "metadata": {
    "colab": {
      "name": "Copy of project ddos.ipynb",
      "provenance": [],
      "collapsed_sections": [],
      "mount_file_id": "https://github.com/FathimaNazarudeen/project/blob/main/DDoS/project_ddos.ipynb",
      "authorship_tag": "ABX9TyOcxgykC0orRUpE1X1lfTOa",
      "include_colab_link": true
    },
    "kernelspec": {
      "name": "python3",
      "display_name": "Python 3"
    },
    "language_info": {
      "name": "python"
    }
  },
  "cells": [
    {
      "cell_type": "markdown",
      "metadata": {
        "id": "view-in-github",
        "colab_type": "text"
      },
      "source": [
        "<a href=\"https://colab.research.google.com/github/FathimaNazarudeen/project/blob/main/DDoS/project_ddos.ipynb\" target=\"_parent\"><img src=\"https://colab.research.google.com/assets/colab-badge.svg\" alt=\"Open In Colab\"/></a>"
      ]
    },
    {
      "cell_type": "code",
      "execution_count": 1,
      "metadata": {
        "id": "Yt-0FxcaIn1b"
      },
      "outputs": [],
      "source": [
        "import pandas as pd \n",
        "import numpy as np"
      ]
    },
    {
      "cell_type": "code",
      "source": [
        "from google.colab import drive\n",
        "drive.mount('/content/drive')"
      ],
      "metadata": {
        "colab": {
          "base_uri": "https://localhost:8080/"
        },
        "id": "zsuNv7oiItou",
        "outputId": "cede1258-6298-4379-8ac2-16a5b260cc62"
      },
      "execution_count": 2,
      "outputs": [
        {
          "output_type": "stream",
          "name": "stdout",
          "text": [
            "Drive already mounted at /content/drive; to attempt to forcibly remount, call drive.mount(\"/content/drive\", force_remount=True).\n"
          ]
        }
      ]
    },
    {
      "cell_type": "code",
      "source": [
        "DrDoS_DNS_data = pd.read_csv('/content/drive/MyDrive/new dataset/DrDoS_DNS.csv')\n",
        "DrDoS_LDAP_data = pd.read_csv('/content/drive/MyDrive/new dataset/DrDoS_LDAP.csv')\n",
        "DrDoS_MSSQL_data = pd.read_csv('/content/drive/MyDrive/new dataset/DrDoS_MSSQL.csv')\n",
        "DrDoS_NetBIOS_data = pd.read_csv('/content/drive/MyDrive/new dataset/DrDoS_NetBIOS.csv')\n",
        "DrDoS_NTP_data_data= pd.read_csv('/content/drive/MyDrive/new dataset/DrDoS_NTP.csv')\n",
        "DrDoS_SNMP_data = pd.read_csv('/content/drive/MyDrive/new dataset/DrDoS_SNMP.csv')\n",
        "DrDoS_SSDP_data= pd.read_csv('/content/drive/MyDrive/new dataset/DrDoS_SSDP.csv')\n",
        "DrDoS_UDP_data = pd.read_csv('/content/drive/MyDrive/new dataset/DrDoS_UDP.csv')\n",
        "Syn_data= pd.read_csv('/content/drive/MyDrive/new dataset/DrDoS_Syn.csv')\n",
        "UDPLag_data= pd.read_csv('/content/drive/MyDrive/new dataset/DrDoS_UDPLag.csv')"
      ],
      "metadata": {
        "id": "oyKCe_oHM_3r",
        "outputId": "40fbce99-dce0-4ea9-8a61-cc6eebb5de5f",
        "colab": {
          "base_uri": "https://localhost:8080/"
        }
      },
      "execution_count": 3,
      "outputs": [
        {
          "output_type": "stream",
          "name": "stderr",
          "text": [
            "/usr/local/lib/python3.7/dist-packages/IPython/core/interactiveshell.py:2882: DtypeWarning: Columns (86) have mixed types.Specify dtype option on import or set low_memory=False.\n",
            "  exec(code_obj, self.user_global_ns, self.user_ns)\n"
          ]
        }
      ]
    },
    {
      "cell_type": "code",
      "source": [
        "data = pd.concat([DrDoS_DNS_data, DrDoS_LDAP_data, DrDoS_MSSQL_data, DrDoS_NetBIOS_data, DrDoS_NTP_data_data, DrDoS_SNMP_data, DrDoS_SSDP_data, DrDoS_UDP_data, Syn_data, UDPLag_data], ignore_index = True)"
      ],
      "metadata": {
        "id": "g92SDH9JQFlm"
      },
      "execution_count": 4,
      "outputs": []
    },
    {
      "cell_type": "code",
      "source": [
        "data[' Label'].value_counts()"
      ],
      "metadata": {
        "colab": {
          "base_uri": "https://localhost:8080/"
        },
        "id": "77U6Co_WQOBW",
        "outputId": "bcb5e3c7-280a-4a52-cf0f-4975d36b7c61"
      },
      "execution_count": 6,
      "outputs": [
        {
          "output_type": "execute_result",
          "data": {
            "text/plain": [
              "DrDoS_SSDP       49989\n",
              "DrDoS_SNMP       49979\n",
              "DrDoS_MSSQL      49973\n",
              "DrDoS_LDAP       49970\n",
              "DrDoS_NetBIOS    49964\n",
              "DrDoS_UDP        49963\n",
              "DrDoS_DNS        49948\n",
              "Syn              34505\n",
              "DrDoS_NTP        30058\n",
              "UDP-lag           8266\n",
              "BENIGN             675\n",
              "WebDDoS              8\n",
              "Name:  Label, dtype: int64"
            ]
          },
          "metadata": {},
          "execution_count": 6
        }
      ]
    },
    {
      "cell_type": "code",
      "source": [
        "data.columns "
      ],
      "metadata": {
        "colab": {
          "base_uri": "https://localhost:8080/"
        },
        "id": "KoaSe4-wRwK0",
        "outputId": "87d80cfd-c649-4d65-d20a-5c5b02f2cd78"
      },
      "execution_count": 5,
      "outputs": [
        {
          "output_type": "execute_result",
          "data": {
            "text/plain": [
              "Index(['Unnamed: 0', 'Unnamed: 0.1', 'Flow ID', ' Source IP', ' Source Port',\n",
              "       ' Destination IP', ' Destination Port', ' Protocol', ' Timestamp',\n",
              "       ' Flow Duration', ' Total Fwd Packets', ' Total Backward Packets',\n",
              "       'Total Length of Fwd Packets', ' Total Length of Bwd Packets',\n",
              "       ' Fwd Packet Length Max', ' Fwd Packet Length Min',\n",
              "       ' Fwd Packet Length Mean', ' Fwd Packet Length Std',\n",
              "       'Bwd Packet Length Max', ' Bwd Packet Length Min',\n",
              "       ' Bwd Packet Length Mean', ' Bwd Packet Length Std', 'Flow Bytes/s',\n",
              "       ' Flow Packets/s', ' Flow IAT Mean', ' Flow IAT Std', ' Flow IAT Max',\n",
              "       ' Flow IAT Min', 'Fwd IAT Total', ' Fwd IAT Mean', ' Fwd IAT Std',\n",
              "       ' Fwd IAT Max', ' Fwd IAT Min', 'Bwd IAT Total', ' Bwd IAT Mean',\n",
              "       ' Bwd IAT Std', ' Bwd IAT Max', ' Bwd IAT Min', 'Fwd PSH Flags',\n",
              "       ' Bwd PSH Flags', ' Fwd URG Flags', ' Bwd URG Flags',\n",
              "       ' Fwd Header Length', ' Bwd Header Length', 'Fwd Packets/s',\n",
              "       ' Bwd Packets/s', ' Min Packet Length', ' Max Packet Length',\n",
              "       ' Packet Length Mean', ' Packet Length Std', ' Packet Length Variance',\n",
              "       'FIN Flag Count', ' SYN Flag Count', ' RST Flag Count',\n",
              "       ' PSH Flag Count', ' ACK Flag Count', ' URG Flag Count',\n",
              "       ' CWE Flag Count', ' ECE Flag Count', ' Down/Up Ratio',\n",
              "       ' Average Packet Size', ' Avg Fwd Segment Size',\n",
              "       ' Avg Bwd Segment Size', ' Fwd Header Length.1', 'Fwd Avg Bytes/Bulk',\n",
              "       ' Fwd Avg Packets/Bulk', ' Fwd Avg Bulk Rate', ' Bwd Avg Bytes/Bulk',\n",
              "       ' Bwd Avg Packets/Bulk', 'Bwd Avg Bulk Rate', 'Subflow Fwd Packets',\n",
              "       ' Subflow Fwd Bytes', ' Subflow Bwd Packets', ' Subflow Bwd Bytes',\n",
              "       'Init_Win_bytes_forward', ' Init_Win_bytes_backward',\n",
              "       ' act_data_pkt_fwd', ' min_seg_size_forward', 'Active Mean',\n",
              "       ' Active Std', ' Active Max', ' Active Min', 'Idle Mean', ' Idle Std',\n",
              "       ' Idle Max', ' Idle Min', 'SimillarHTTP', ' Inbound', ' Label'],\n",
              "      dtype='object')"
            ]
          },
          "metadata": {},
          "execution_count": 5
        }
      ]
    },
    {
      "cell_type": "code",
      "source": [
        "data_real = data.replace(np.inf, np.nan)"
      ],
      "metadata": {
        "id": "q4h6KjggRxfq"
      },
      "execution_count": 6,
      "outputs": []
    },
    {
      "cell_type": "code",
      "source": [
        "data_real.isnull().sum().sum()"
      ],
      "metadata": {
        "colab": {
          "base_uri": "https://localhost:8080/"
        },
        "id": "_F7n3UJCR2MO",
        "outputId": "bdc2ad58-2950-4cc9-e7ad-92c1d3560793"
      },
      "execution_count": 7,
      "outputs": [
        {
          "output_type": "execute_result",
          "data": {
            "text/plain": [
              "15778"
            ]
          },
          "metadata": {},
          "execution_count": 7
        }
      ]
    },
    {
      "cell_type": "code",
      "source": [
        "data_df = data_real.dropna(axis=0)"
      ],
      "metadata": {
        "id": "og_p85LcR6bO"
      },
      "execution_count": 9,
      "outputs": []
    },
    {
      "cell_type": "code",
      "source": [
        "data_df.isnull().sum().sum()"
      ],
      "metadata": {
        "colab": {
          "base_uri": "https://localhost:8080/"
        },
        "id": "-p1_6MARR92v",
        "outputId": "9c8fe68b-1f68-4fe8-8f36-7c5414a12599"
      },
      "execution_count": 10,
      "outputs": [
        {
          "output_type": "execute_result",
          "data": {
            "text/plain": [
              "0"
            ]
          },
          "metadata": {},
          "execution_count": 10
        }
      ]
    },
    {
      "cell_type": "code",
      "source": [
        "data_df"
      ],
      "metadata": {
        "colab": {
          "base_uri": "https://localhost:8080/",
          "height": 1000
        },
        "id": "ejydE7xGSAw4",
        "outputId": "903ea2ef-0471-43fa-b01c-18f74868f59a"
      },
      "execution_count": 11,
      "outputs": [
        {
          "output_type": "execute_result",
          "data": {
            "text/plain": [
              "        Unnamed: 0  Unnamed: 0.1                                 Flow ID  \\\n",
              "0           145202         19750   172.16.0.5-192.168.50.1-1019-53011-17   \n",
              "1           599782          5254   172.16.0.5-192.168.50.1-1014-39193-17   \n",
              "2           534651         24763    172.16.0.5-192.168.50.1-809-18887-17   \n",
              "3          1163919          4238    172.16.0.5-192.168.50.1-618-54740-17   \n",
              "4           260838         10511    172.16.0.5-192.168.50.1-636-51238-17   \n",
              "...            ...           ...                                     ...   \n",
              "423293       46160        340411  172.16.0.5-192.168.50.1-59112-59112-17   \n",
              "423294      210388        129388   172.16.0.5-192.168.50.1-45040-22860-6   \n",
              "423295      272635         88760   172.16.0.5-192.168.50.1-36575-18862-6   \n",
              "423296      190259        225104   172.16.0.5-192.168.50.1-63440-63440-6   \n",
              "423297      334091         68407   172.16.0.5-192.168.50.1-30072-41561-6   \n",
              "\n",
              "         Source IP   Source Port  Destination IP   Destination Port  \\\n",
              "0       172.16.0.5          1019    192.168.50.1              53011   \n",
              "1       172.16.0.5          1014    192.168.50.1              39193   \n",
              "2       172.16.0.5           809    192.168.50.1              18887   \n",
              "3       172.16.0.5           618    192.168.50.1              54740   \n",
              "4       172.16.0.5           636    192.168.50.1              51238   \n",
              "...            ...           ...             ...                ...   \n",
              "423293  172.16.0.5         59112    192.168.50.1              59112   \n",
              "423294  172.16.0.5         45040    192.168.50.1              22860   \n",
              "423295  172.16.0.5         36575    192.168.50.1              18862   \n",
              "423296  172.16.0.5         63440    192.168.50.1              63440   \n",
              "423297  172.16.0.5         30072    192.168.50.1              41561   \n",
              "\n",
              "         Protocol                   Timestamp   Flow Duration  ...  \\\n",
              "0              17  2018-12-01 11:06:19.759738             228  ...   \n",
              "1              17  2018-12-01 11:07:13.739303               1  ...   \n",
              "2              17  2018-12-01 11:07:06.212149               4  ...   \n",
              "3              17  2018-12-01 11:08:20.024670              48  ...   \n",
              "4              17  2018-12-01 11:06:33.512877               1  ...   \n",
              "...           ...                         ...             ...  ...   \n",
              "423293         17  2018-12-01 13:11:27.719229             122  ...   \n",
              "423294          6  2018-12-01 13:30:03.415687               1  ...   \n",
              "423295          6  2018-12-01 13:30:13.838633               1  ...   \n",
              "423296          6  2018-12-01 13:30:00.104494               2  ...   \n",
              "423297          6  2018-12-01 13:30:24.691098               1  ...   \n",
              "\n",
              "         Active Std   Active Max   Active Min  Idle Mean   Idle Std  \\\n",
              "0               0.0          0.0          0.0        0.0        0.0   \n",
              "1               0.0          0.0          0.0        0.0        0.0   \n",
              "2               0.0          0.0          0.0        0.0        0.0   \n",
              "3               0.0          0.0          0.0        0.0        0.0   \n",
              "4               0.0          0.0          0.0        0.0        0.0   \n",
              "...             ...          ...          ...        ...        ...   \n",
              "423293          0.0          0.0          0.0        0.0        0.0   \n",
              "423294          0.0          0.0          0.0        0.0        0.0   \n",
              "423295          0.0          0.0          0.0        0.0        0.0   \n",
              "423296          0.0          0.0          0.0        0.0        0.0   \n",
              "423297          0.0          0.0          0.0        0.0        0.0   \n",
              "\n",
              "         Idle Max   Idle Min  SimillarHTTP   Inbound      Label  \n",
              "0             0.0        0.0             0         1  DrDoS_DNS  \n",
              "1             0.0        0.0             0         1  DrDoS_DNS  \n",
              "2             0.0        0.0             0         1  DrDoS_DNS  \n",
              "3             0.0        0.0             0         1  DrDoS_DNS  \n",
              "4             0.0        0.0             0         1  DrDoS_DNS  \n",
              "...           ...        ...           ...       ...        ...  \n",
              "423293        0.0        0.0             0         1    UDP-lag  \n",
              "423294        0.0        0.0             0         1    UDP-lag  \n",
              "423295        0.0        0.0             0         1    UDP-lag  \n",
              "423296        0.0        0.0             0         1    UDP-lag  \n",
              "423297        0.0        0.0             0         1    UDP-lag  \n",
              "\n",
              "[415409 rows x 89 columns]"
            ],
            "text/html": [
              "\n",
              "  <div id=\"df-178cbb55-d407-4baa-905f-95fbf317ec70\">\n",
              "    <div class=\"colab-df-container\">\n",
              "      <div>\n",
              "<style scoped>\n",
              "    .dataframe tbody tr th:only-of-type {\n",
              "        vertical-align: middle;\n",
              "    }\n",
              "\n",
              "    .dataframe tbody tr th {\n",
              "        vertical-align: top;\n",
              "    }\n",
              "\n",
              "    .dataframe thead th {\n",
              "        text-align: right;\n",
              "    }\n",
              "</style>\n",
              "<table border=\"1\" class=\"dataframe\">\n",
              "  <thead>\n",
              "    <tr style=\"text-align: right;\">\n",
              "      <th></th>\n",
              "      <th>Unnamed: 0</th>\n",
              "      <th>Unnamed: 0.1</th>\n",
              "      <th>Flow ID</th>\n",
              "      <th>Source IP</th>\n",
              "      <th>Source Port</th>\n",
              "      <th>Destination IP</th>\n",
              "      <th>Destination Port</th>\n",
              "      <th>Protocol</th>\n",
              "      <th>Timestamp</th>\n",
              "      <th>Flow Duration</th>\n",
              "      <th>...</th>\n",
              "      <th>Active Std</th>\n",
              "      <th>Active Max</th>\n",
              "      <th>Active Min</th>\n",
              "      <th>Idle Mean</th>\n",
              "      <th>Idle Std</th>\n",
              "      <th>Idle Max</th>\n",
              "      <th>Idle Min</th>\n",
              "      <th>SimillarHTTP</th>\n",
              "      <th>Inbound</th>\n",
              "      <th>Label</th>\n",
              "    </tr>\n",
              "  </thead>\n",
              "  <tbody>\n",
              "    <tr>\n",
              "      <th>0</th>\n",
              "      <td>145202</td>\n",
              "      <td>19750</td>\n",
              "      <td>172.16.0.5-192.168.50.1-1019-53011-17</td>\n",
              "      <td>172.16.0.5</td>\n",
              "      <td>1019</td>\n",
              "      <td>192.168.50.1</td>\n",
              "      <td>53011</td>\n",
              "      <td>17</td>\n",
              "      <td>2018-12-01 11:06:19.759738</td>\n",
              "      <td>228</td>\n",
              "      <td>...</td>\n",
              "      <td>0.0</td>\n",
              "      <td>0.0</td>\n",
              "      <td>0.0</td>\n",
              "      <td>0.0</td>\n",
              "      <td>0.0</td>\n",
              "      <td>0.0</td>\n",
              "      <td>0.0</td>\n",
              "      <td>0</td>\n",
              "      <td>1</td>\n",
              "      <td>DrDoS_DNS</td>\n",
              "    </tr>\n",
              "    <tr>\n",
              "      <th>1</th>\n",
              "      <td>599782</td>\n",
              "      <td>5254</td>\n",
              "      <td>172.16.0.5-192.168.50.1-1014-39193-17</td>\n",
              "      <td>172.16.0.5</td>\n",
              "      <td>1014</td>\n",
              "      <td>192.168.50.1</td>\n",
              "      <td>39193</td>\n",
              "      <td>17</td>\n",
              "      <td>2018-12-01 11:07:13.739303</td>\n",
              "      <td>1</td>\n",
              "      <td>...</td>\n",
              "      <td>0.0</td>\n",
              "      <td>0.0</td>\n",
              "      <td>0.0</td>\n",
              "      <td>0.0</td>\n",
              "      <td>0.0</td>\n",
              "      <td>0.0</td>\n",
              "      <td>0.0</td>\n",
              "      <td>0</td>\n",
              "      <td>1</td>\n",
              "      <td>DrDoS_DNS</td>\n",
              "    </tr>\n",
              "    <tr>\n",
              "      <th>2</th>\n",
              "      <td>534651</td>\n",
              "      <td>24763</td>\n",
              "      <td>172.16.0.5-192.168.50.1-809-18887-17</td>\n",
              "      <td>172.16.0.5</td>\n",
              "      <td>809</td>\n",
              "      <td>192.168.50.1</td>\n",
              "      <td>18887</td>\n",
              "      <td>17</td>\n",
              "      <td>2018-12-01 11:07:06.212149</td>\n",
              "      <td>4</td>\n",
              "      <td>...</td>\n",
              "      <td>0.0</td>\n",
              "      <td>0.0</td>\n",
              "      <td>0.0</td>\n",
              "      <td>0.0</td>\n",
              "      <td>0.0</td>\n",
              "      <td>0.0</td>\n",
              "      <td>0.0</td>\n",
              "      <td>0</td>\n",
              "      <td>1</td>\n",
              "      <td>DrDoS_DNS</td>\n",
              "    </tr>\n",
              "    <tr>\n",
              "      <th>3</th>\n",
              "      <td>1163919</td>\n",
              "      <td>4238</td>\n",
              "      <td>172.16.0.5-192.168.50.1-618-54740-17</td>\n",
              "      <td>172.16.0.5</td>\n",
              "      <td>618</td>\n",
              "      <td>192.168.50.1</td>\n",
              "      <td>54740</td>\n",
              "      <td>17</td>\n",
              "      <td>2018-12-01 11:08:20.024670</td>\n",
              "      <td>48</td>\n",
              "      <td>...</td>\n",
              "      <td>0.0</td>\n",
              "      <td>0.0</td>\n",
              "      <td>0.0</td>\n",
              "      <td>0.0</td>\n",
              "      <td>0.0</td>\n",
              "      <td>0.0</td>\n",
              "      <td>0.0</td>\n",
              "      <td>0</td>\n",
              "      <td>1</td>\n",
              "      <td>DrDoS_DNS</td>\n",
              "    </tr>\n",
              "    <tr>\n",
              "      <th>4</th>\n",
              "      <td>260838</td>\n",
              "      <td>10511</td>\n",
              "      <td>172.16.0.5-192.168.50.1-636-51238-17</td>\n",
              "      <td>172.16.0.5</td>\n",
              "      <td>636</td>\n",
              "      <td>192.168.50.1</td>\n",
              "      <td>51238</td>\n",
              "      <td>17</td>\n",
              "      <td>2018-12-01 11:06:33.512877</td>\n",
              "      <td>1</td>\n",
              "      <td>...</td>\n",
              "      <td>0.0</td>\n",
              "      <td>0.0</td>\n",
              "      <td>0.0</td>\n",
              "      <td>0.0</td>\n",
              "      <td>0.0</td>\n",
              "      <td>0.0</td>\n",
              "      <td>0.0</td>\n",
              "      <td>0</td>\n",
              "      <td>1</td>\n",
              "      <td>DrDoS_DNS</td>\n",
              "    </tr>\n",
              "    <tr>\n",
              "      <th>...</th>\n",
              "      <td>...</td>\n",
              "      <td>...</td>\n",
              "      <td>...</td>\n",
              "      <td>...</td>\n",
              "      <td>...</td>\n",
              "      <td>...</td>\n",
              "      <td>...</td>\n",
              "      <td>...</td>\n",
              "      <td>...</td>\n",
              "      <td>...</td>\n",
              "      <td>...</td>\n",
              "      <td>...</td>\n",
              "      <td>...</td>\n",
              "      <td>...</td>\n",
              "      <td>...</td>\n",
              "      <td>...</td>\n",
              "      <td>...</td>\n",
              "      <td>...</td>\n",
              "      <td>...</td>\n",
              "      <td>...</td>\n",
              "      <td>...</td>\n",
              "    </tr>\n",
              "    <tr>\n",
              "      <th>423293</th>\n",
              "      <td>46160</td>\n",
              "      <td>340411</td>\n",
              "      <td>172.16.0.5-192.168.50.1-59112-59112-17</td>\n",
              "      <td>172.16.0.5</td>\n",
              "      <td>59112</td>\n",
              "      <td>192.168.50.1</td>\n",
              "      <td>59112</td>\n",
              "      <td>17</td>\n",
              "      <td>2018-12-01 13:11:27.719229</td>\n",
              "      <td>122</td>\n",
              "      <td>...</td>\n",
              "      <td>0.0</td>\n",
              "      <td>0.0</td>\n",
              "      <td>0.0</td>\n",
              "      <td>0.0</td>\n",
              "      <td>0.0</td>\n",
              "      <td>0.0</td>\n",
              "      <td>0.0</td>\n",
              "      <td>0</td>\n",
              "      <td>1</td>\n",
              "      <td>UDP-lag</td>\n",
              "    </tr>\n",
              "    <tr>\n",
              "      <th>423294</th>\n",
              "      <td>210388</td>\n",
              "      <td>129388</td>\n",
              "      <td>172.16.0.5-192.168.50.1-45040-22860-6</td>\n",
              "      <td>172.16.0.5</td>\n",
              "      <td>45040</td>\n",
              "      <td>192.168.50.1</td>\n",
              "      <td>22860</td>\n",
              "      <td>6</td>\n",
              "      <td>2018-12-01 13:30:03.415687</td>\n",
              "      <td>1</td>\n",
              "      <td>...</td>\n",
              "      <td>0.0</td>\n",
              "      <td>0.0</td>\n",
              "      <td>0.0</td>\n",
              "      <td>0.0</td>\n",
              "      <td>0.0</td>\n",
              "      <td>0.0</td>\n",
              "      <td>0.0</td>\n",
              "      <td>0</td>\n",
              "      <td>1</td>\n",
              "      <td>UDP-lag</td>\n",
              "    </tr>\n",
              "    <tr>\n",
              "      <th>423295</th>\n",
              "      <td>272635</td>\n",
              "      <td>88760</td>\n",
              "      <td>172.16.0.5-192.168.50.1-36575-18862-6</td>\n",
              "      <td>172.16.0.5</td>\n",
              "      <td>36575</td>\n",
              "      <td>192.168.50.1</td>\n",
              "      <td>18862</td>\n",
              "      <td>6</td>\n",
              "      <td>2018-12-01 13:30:13.838633</td>\n",
              "      <td>1</td>\n",
              "      <td>...</td>\n",
              "      <td>0.0</td>\n",
              "      <td>0.0</td>\n",
              "      <td>0.0</td>\n",
              "      <td>0.0</td>\n",
              "      <td>0.0</td>\n",
              "      <td>0.0</td>\n",
              "      <td>0.0</td>\n",
              "      <td>0</td>\n",
              "      <td>1</td>\n",
              "      <td>UDP-lag</td>\n",
              "    </tr>\n",
              "    <tr>\n",
              "      <th>423296</th>\n",
              "      <td>190259</td>\n",
              "      <td>225104</td>\n",
              "      <td>172.16.0.5-192.168.50.1-63440-63440-6</td>\n",
              "      <td>172.16.0.5</td>\n",
              "      <td>63440</td>\n",
              "      <td>192.168.50.1</td>\n",
              "      <td>63440</td>\n",
              "      <td>6</td>\n",
              "      <td>2018-12-01 13:30:00.104494</td>\n",
              "      <td>2</td>\n",
              "      <td>...</td>\n",
              "      <td>0.0</td>\n",
              "      <td>0.0</td>\n",
              "      <td>0.0</td>\n",
              "      <td>0.0</td>\n",
              "      <td>0.0</td>\n",
              "      <td>0.0</td>\n",
              "      <td>0.0</td>\n",
              "      <td>0</td>\n",
              "      <td>1</td>\n",
              "      <td>UDP-lag</td>\n",
              "    </tr>\n",
              "    <tr>\n",
              "      <th>423297</th>\n",
              "      <td>334091</td>\n",
              "      <td>68407</td>\n",
              "      <td>172.16.0.5-192.168.50.1-30072-41561-6</td>\n",
              "      <td>172.16.0.5</td>\n",
              "      <td>30072</td>\n",
              "      <td>192.168.50.1</td>\n",
              "      <td>41561</td>\n",
              "      <td>6</td>\n",
              "      <td>2018-12-01 13:30:24.691098</td>\n",
              "      <td>1</td>\n",
              "      <td>...</td>\n",
              "      <td>0.0</td>\n",
              "      <td>0.0</td>\n",
              "      <td>0.0</td>\n",
              "      <td>0.0</td>\n",
              "      <td>0.0</td>\n",
              "      <td>0.0</td>\n",
              "      <td>0.0</td>\n",
              "      <td>0</td>\n",
              "      <td>1</td>\n",
              "      <td>UDP-lag</td>\n",
              "    </tr>\n",
              "  </tbody>\n",
              "</table>\n",
              "<p>415409 rows × 89 columns</p>\n",
              "</div>\n",
              "      <button class=\"colab-df-convert\" onclick=\"convertToInteractive('df-178cbb55-d407-4baa-905f-95fbf317ec70')\"\n",
              "              title=\"Convert this dataframe to an interactive table.\"\n",
              "              style=\"display:none;\">\n",
              "        \n",
              "  <svg xmlns=\"http://www.w3.org/2000/svg\" height=\"24px\"viewBox=\"0 0 24 24\"\n",
              "       width=\"24px\">\n",
              "    <path d=\"M0 0h24v24H0V0z\" fill=\"none\"/>\n",
              "    <path d=\"M18.56 5.44l.94 2.06.94-2.06 2.06-.94-2.06-.94-.94-2.06-.94 2.06-2.06.94zm-11 1L8.5 8.5l.94-2.06 2.06-.94-2.06-.94L8.5 2.5l-.94 2.06-2.06.94zm10 10l.94 2.06.94-2.06 2.06-.94-2.06-.94-.94-2.06-.94 2.06-2.06.94z\"/><path d=\"M17.41 7.96l-1.37-1.37c-.4-.4-.92-.59-1.43-.59-.52 0-1.04.2-1.43.59L10.3 9.45l-7.72 7.72c-.78.78-.78 2.05 0 2.83L4 21.41c.39.39.9.59 1.41.59.51 0 1.02-.2 1.41-.59l7.78-7.78 2.81-2.81c.8-.78.8-2.07 0-2.86zM5.41 20L4 18.59l7.72-7.72 1.47 1.35L5.41 20z\"/>\n",
              "  </svg>\n",
              "      </button>\n",
              "      \n",
              "  <style>\n",
              "    .colab-df-container {\n",
              "      display:flex;\n",
              "      flex-wrap:wrap;\n",
              "      gap: 12px;\n",
              "    }\n",
              "\n",
              "    .colab-df-convert {\n",
              "      background-color: #E8F0FE;\n",
              "      border: none;\n",
              "      border-radius: 50%;\n",
              "      cursor: pointer;\n",
              "      display: none;\n",
              "      fill: #1967D2;\n",
              "      height: 32px;\n",
              "      padding: 0 0 0 0;\n",
              "      width: 32px;\n",
              "    }\n",
              "\n",
              "    .colab-df-convert:hover {\n",
              "      background-color: #E2EBFA;\n",
              "      box-shadow: 0px 1px 2px rgba(60, 64, 67, 0.3), 0px 1px 3px 1px rgba(60, 64, 67, 0.15);\n",
              "      fill: #174EA6;\n",
              "    }\n",
              "\n",
              "    [theme=dark] .colab-df-convert {\n",
              "      background-color: #3B4455;\n",
              "      fill: #D2E3FC;\n",
              "    }\n",
              "\n",
              "    [theme=dark] .colab-df-convert:hover {\n",
              "      background-color: #434B5C;\n",
              "      box-shadow: 0px 1px 3px 1px rgba(0, 0, 0, 0.15);\n",
              "      filter: drop-shadow(0px 1px 2px rgba(0, 0, 0, 0.3));\n",
              "      fill: #FFFFFF;\n",
              "    }\n",
              "  </style>\n",
              "\n",
              "      <script>\n",
              "        const buttonEl =\n",
              "          document.querySelector('#df-178cbb55-d407-4baa-905f-95fbf317ec70 button.colab-df-convert');\n",
              "        buttonEl.style.display =\n",
              "          google.colab.kernel.accessAllowed ? 'block' : 'none';\n",
              "\n",
              "        async function convertToInteractive(key) {\n",
              "          const element = document.querySelector('#df-178cbb55-d407-4baa-905f-95fbf317ec70');\n",
              "          const dataTable =\n",
              "            await google.colab.kernel.invokeFunction('convertToInteractive',\n",
              "                                                     [key], {});\n",
              "          if (!dataTable) return;\n",
              "\n",
              "          const docLinkHtml = 'Like what you see? Visit the ' +\n",
              "            '<a target=\"_blank\" href=https://colab.research.google.com/notebooks/data_table.ipynb>data table notebook</a>'\n",
              "            + ' to learn more about interactive tables.';\n",
              "          element.innerHTML = '';\n",
              "          dataTable['output_type'] = 'display_data';\n",
              "          await google.colab.output.renderOutput(dataTable, element);\n",
              "          const docLink = document.createElement('div');\n",
              "          docLink.innerHTML = docLinkHtml;\n",
              "          element.appendChild(docLink);\n",
              "        }\n",
              "      </script>\n",
              "    </div>\n",
              "  </div>\n",
              "  "
            ]
          },
          "metadata": {},
          "execution_count": 11
        }
      ]
    },
    {
      "cell_type": "code",
      "source": [
        "data_X = data_df.drop([' Label', 'SimillarHTTP'], axis = 1)"
      ],
      "metadata": {
        "id": "xY7x8ocvSH4J"
      },
      "execution_count": 12,
      "outputs": []
    },
    {
      "cell_type": "code",
      "source": [
        "data_X.columns "
      ],
      "metadata": {
        "colab": {
          "base_uri": "https://localhost:8080/"
        },
        "id": "m0Z66Mw1SXU0",
        "outputId": "0b0a267e-d1fc-45f3-a101-51e33855a840"
      },
      "execution_count": 13,
      "outputs": [
        {
          "output_type": "execute_result",
          "data": {
            "text/plain": [
              "Index(['Unnamed: 0', 'Unnamed: 0.1', 'Flow ID', ' Source IP', ' Source Port',\n",
              "       ' Destination IP', ' Destination Port', ' Protocol', ' Timestamp',\n",
              "       ' Flow Duration', ' Total Fwd Packets', ' Total Backward Packets',\n",
              "       'Total Length of Fwd Packets', ' Total Length of Bwd Packets',\n",
              "       ' Fwd Packet Length Max', ' Fwd Packet Length Min',\n",
              "       ' Fwd Packet Length Mean', ' Fwd Packet Length Std',\n",
              "       'Bwd Packet Length Max', ' Bwd Packet Length Min',\n",
              "       ' Bwd Packet Length Mean', ' Bwd Packet Length Std', 'Flow Bytes/s',\n",
              "       ' Flow Packets/s', ' Flow IAT Mean', ' Flow IAT Std', ' Flow IAT Max',\n",
              "       ' Flow IAT Min', 'Fwd IAT Total', ' Fwd IAT Mean', ' Fwd IAT Std',\n",
              "       ' Fwd IAT Max', ' Fwd IAT Min', 'Bwd IAT Total', ' Bwd IAT Mean',\n",
              "       ' Bwd IAT Std', ' Bwd IAT Max', ' Bwd IAT Min', 'Fwd PSH Flags',\n",
              "       ' Bwd PSH Flags', ' Fwd URG Flags', ' Bwd URG Flags',\n",
              "       ' Fwd Header Length', ' Bwd Header Length', 'Fwd Packets/s',\n",
              "       ' Bwd Packets/s', ' Min Packet Length', ' Max Packet Length',\n",
              "       ' Packet Length Mean', ' Packet Length Std', ' Packet Length Variance',\n",
              "       'FIN Flag Count', ' SYN Flag Count', ' RST Flag Count',\n",
              "       ' PSH Flag Count', ' ACK Flag Count', ' URG Flag Count',\n",
              "       ' CWE Flag Count', ' ECE Flag Count', ' Down/Up Ratio',\n",
              "       ' Average Packet Size', ' Avg Fwd Segment Size',\n",
              "       ' Avg Bwd Segment Size', ' Fwd Header Length.1', 'Fwd Avg Bytes/Bulk',\n",
              "       ' Fwd Avg Packets/Bulk', ' Fwd Avg Bulk Rate', ' Bwd Avg Bytes/Bulk',\n",
              "       ' Bwd Avg Packets/Bulk', 'Bwd Avg Bulk Rate', 'Subflow Fwd Packets',\n",
              "       ' Subflow Fwd Bytes', ' Subflow Bwd Packets', ' Subflow Bwd Bytes',\n",
              "       'Init_Win_bytes_forward', ' Init_Win_bytes_backward',\n",
              "       ' act_data_pkt_fwd', ' min_seg_size_forward', 'Active Mean',\n",
              "       ' Active Std', ' Active Max', ' Active Min', 'Idle Mean', ' Idle Std',\n",
              "       ' Idle Max', ' Idle Min', ' Inbound'],\n",
              "      dtype='object')"
            ]
          },
          "metadata": {},
          "execution_count": 13
        }
      ]
    },
    {
      "cell_type": "code",
      "source": [
        "data_X.shape "
      ],
      "metadata": {
        "colab": {
          "base_uri": "https://localhost:8080/"
        },
        "id": "i1NsbDmKSYne",
        "outputId": "4a2f5c5c-5a73-4d06-a85d-2137afe575ed"
      },
      "execution_count": 14,
      "outputs": [
        {
          "output_type": "execute_result",
          "data": {
            "text/plain": [
              "(415409, 87)"
            ]
          },
          "metadata": {},
          "execution_count": 14
        }
      ]
    },
    {
      "cell_type": "code",
      "source": [
        "data_y = data_df[' Label']"
      ],
      "metadata": {
        "id": "Kg-YAsI4Sduw"
      },
      "execution_count": 15,
      "outputs": []
    },
    {
      "cell_type": "code",
      "source": [
        "data_y.shape "
      ],
      "metadata": {
        "colab": {
          "base_uri": "https://localhost:8080/"
        },
        "id": "zQwhaFrBSgjc",
        "outputId": "15ed8b61-b030-4944-d4ce-ed4eb55ebdec"
      },
      "execution_count": 16,
      "outputs": [
        {
          "output_type": "execute_result",
          "data": {
            "text/plain": [
              "(415409,)"
            ]
          },
          "metadata": {},
          "execution_count": 16
        }
      ]
    },
    {
      "cell_type": "code",
      "source": [
        "data_df.isnull().sum().sum()"
      ],
      "metadata": {
        "colab": {
          "base_uri": "https://localhost:8080/"
        },
        "id": "IZKfuHyKSilb",
        "outputId": "45dfa6bf-ccc9-4d5e-a199-bd1518ed303c"
      },
      "execution_count": 17,
      "outputs": [
        {
          "output_type": "execute_result",
          "data": {
            "text/plain": [
              "0"
            ]
          },
          "metadata": {},
          "execution_count": 17
        }
      ]
    },
    {
      "cell_type": "code",
      "source": [
        "data_y.unique()"
      ],
      "metadata": {
        "colab": {
          "base_uri": "https://localhost:8080/"
        },
        "id": "zYYZQ-WjSl0H",
        "outputId": "0806f60a-8e42-4350-cbd6-427b773f69a8"
      },
      "execution_count": 18,
      "outputs": [
        {
          "output_type": "execute_result",
          "data": {
            "text/plain": [
              "array(['DrDoS_DNS', 'BENIGN', 'DrDoS_LDAP', 'DrDoS_MSSQL',\n",
              "       'DrDoS_NetBIOS', 'DrDoS_NTP', 'DrDoS_SNMP', 'DrDoS_SSDP',\n",
              "       'DrDoS_UDP', 'Syn', 'UDP-lag', 'WebDDoS'], dtype=object)"
            ]
          },
          "metadata": {},
          "execution_count": 18
        }
      ]
    },
    {
      "cell_type": "code",
      "source": [
        "data_X "
      ],
      "metadata": {
        "colab": {
          "base_uri": "https://localhost:8080/",
          "height": 1000
        },
        "id": "_cW362R8Sp46",
        "outputId": "6eb569d5-b0e1-4805-87ef-3a92c21c7ede"
      },
      "execution_count": 19,
      "outputs": [
        {
          "output_type": "execute_result",
          "data": {
            "text/plain": [
              "        Unnamed: 0  Unnamed: 0.1                                 Flow ID  \\\n",
              "0           145202         19750   172.16.0.5-192.168.50.1-1019-53011-17   \n",
              "1           599782          5254   172.16.0.5-192.168.50.1-1014-39193-17   \n",
              "2           534651         24763    172.16.0.5-192.168.50.1-809-18887-17   \n",
              "3          1163919          4238    172.16.0.5-192.168.50.1-618-54740-17   \n",
              "4           260838         10511    172.16.0.5-192.168.50.1-636-51238-17   \n",
              "...            ...           ...                                     ...   \n",
              "423293       46160        340411  172.16.0.5-192.168.50.1-59112-59112-17   \n",
              "423294      210388        129388   172.16.0.5-192.168.50.1-45040-22860-6   \n",
              "423295      272635         88760   172.16.0.5-192.168.50.1-36575-18862-6   \n",
              "423296      190259        225104   172.16.0.5-192.168.50.1-63440-63440-6   \n",
              "423297      334091         68407   172.16.0.5-192.168.50.1-30072-41561-6   \n",
              "\n",
              "         Source IP   Source Port  Destination IP   Destination Port  \\\n",
              "0       172.16.0.5          1019    192.168.50.1              53011   \n",
              "1       172.16.0.5          1014    192.168.50.1              39193   \n",
              "2       172.16.0.5           809    192.168.50.1              18887   \n",
              "3       172.16.0.5           618    192.168.50.1              54740   \n",
              "4       172.16.0.5           636    192.168.50.1              51238   \n",
              "...            ...           ...             ...                ...   \n",
              "423293  172.16.0.5         59112    192.168.50.1              59112   \n",
              "423294  172.16.0.5         45040    192.168.50.1              22860   \n",
              "423295  172.16.0.5         36575    192.168.50.1              18862   \n",
              "423296  172.16.0.5         63440    192.168.50.1              63440   \n",
              "423297  172.16.0.5         30072    192.168.50.1              41561   \n",
              "\n",
              "         Protocol                   Timestamp   Flow Duration  ...  \\\n",
              "0              17  2018-12-01 11:06:19.759738             228  ...   \n",
              "1              17  2018-12-01 11:07:13.739303               1  ...   \n",
              "2              17  2018-12-01 11:07:06.212149               4  ...   \n",
              "3              17  2018-12-01 11:08:20.024670              48  ...   \n",
              "4              17  2018-12-01 11:06:33.512877               1  ...   \n",
              "...           ...                         ...             ...  ...   \n",
              "423293         17  2018-12-01 13:11:27.719229             122  ...   \n",
              "423294          6  2018-12-01 13:30:03.415687               1  ...   \n",
              "423295          6  2018-12-01 13:30:13.838633               1  ...   \n",
              "423296          6  2018-12-01 13:30:00.104494               2  ...   \n",
              "423297          6  2018-12-01 13:30:24.691098               1  ...   \n",
              "\n",
              "         min_seg_size_forward  Active Mean   Active Std   Active Max  \\\n",
              "0                           0          0.0          0.0          0.0   \n",
              "1                          -1          0.0          0.0          0.0   \n",
              "2                          -1          0.0          0.0          0.0   \n",
              "3                           0          0.0          0.0          0.0   \n",
              "4                           0          0.0          0.0          0.0   \n",
              "...                       ...          ...          ...          ...   \n",
              "423293                     20          0.0          0.0          0.0   \n",
              "423294                     20          0.0          0.0          0.0   \n",
              "423295                     20          0.0          0.0          0.0   \n",
              "423296                     20          0.0          0.0          0.0   \n",
              "423297                     20          0.0          0.0          0.0   \n",
              "\n",
              "         Active Min  Idle Mean   Idle Std   Idle Max   Idle Min   Inbound  \n",
              "0               0.0        0.0        0.0        0.0        0.0         1  \n",
              "1               0.0        0.0        0.0        0.0        0.0         1  \n",
              "2               0.0        0.0        0.0        0.0        0.0         1  \n",
              "3               0.0        0.0        0.0        0.0        0.0         1  \n",
              "4               0.0        0.0        0.0        0.0        0.0         1  \n",
              "...             ...        ...        ...        ...        ...       ...  \n",
              "423293          0.0        0.0        0.0        0.0        0.0         1  \n",
              "423294          0.0        0.0        0.0        0.0        0.0         1  \n",
              "423295          0.0        0.0        0.0        0.0        0.0         1  \n",
              "423296          0.0        0.0        0.0        0.0        0.0         1  \n",
              "423297          0.0        0.0        0.0        0.0        0.0         1  \n",
              "\n",
              "[415409 rows x 87 columns]"
            ],
            "text/html": [
              "\n",
              "  <div id=\"df-d8ac191b-d0c7-457c-af10-94a7ccd91e58\">\n",
              "    <div class=\"colab-df-container\">\n",
              "      <div>\n",
              "<style scoped>\n",
              "    .dataframe tbody tr th:only-of-type {\n",
              "        vertical-align: middle;\n",
              "    }\n",
              "\n",
              "    .dataframe tbody tr th {\n",
              "        vertical-align: top;\n",
              "    }\n",
              "\n",
              "    .dataframe thead th {\n",
              "        text-align: right;\n",
              "    }\n",
              "</style>\n",
              "<table border=\"1\" class=\"dataframe\">\n",
              "  <thead>\n",
              "    <tr style=\"text-align: right;\">\n",
              "      <th></th>\n",
              "      <th>Unnamed: 0</th>\n",
              "      <th>Unnamed: 0.1</th>\n",
              "      <th>Flow ID</th>\n",
              "      <th>Source IP</th>\n",
              "      <th>Source Port</th>\n",
              "      <th>Destination IP</th>\n",
              "      <th>Destination Port</th>\n",
              "      <th>Protocol</th>\n",
              "      <th>Timestamp</th>\n",
              "      <th>Flow Duration</th>\n",
              "      <th>...</th>\n",
              "      <th>min_seg_size_forward</th>\n",
              "      <th>Active Mean</th>\n",
              "      <th>Active Std</th>\n",
              "      <th>Active Max</th>\n",
              "      <th>Active Min</th>\n",
              "      <th>Idle Mean</th>\n",
              "      <th>Idle Std</th>\n",
              "      <th>Idle Max</th>\n",
              "      <th>Idle Min</th>\n",
              "      <th>Inbound</th>\n",
              "    </tr>\n",
              "  </thead>\n",
              "  <tbody>\n",
              "    <tr>\n",
              "      <th>0</th>\n",
              "      <td>145202</td>\n",
              "      <td>19750</td>\n",
              "      <td>172.16.0.5-192.168.50.1-1019-53011-17</td>\n",
              "      <td>172.16.0.5</td>\n",
              "      <td>1019</td>\n",
              "      <td>192.168.50.1</td>\n",
              "      <td>53011</td>\n",
              "      <td>17</td>\n",
              "      <td>2018-12-01 11:06:19.759738</td>\n",
              "      <td>228</td>\n",
              "      <td>...</td>\n",
              "      <td>0</td>\n",
              "      <td>0.0</td>\n",
              "      <td>0.0</td>\n",
              "      <td>0.0</td>\n",
              "      <td>0.0</td>\n",
              "      <td>0.0</td>\n",
              "      <td>0.0</td>\n",
              "      <td>0.0</td>\n",
              "      <td>0.0</td>\n",
              "      <td>1</td>\n",
              "    </tr>\n",
              "    <tr>\n",
              "      <th>1</th>\n",
              "      <td>599782</td>\n",
              "      <td>5254</td>\n",
              "      <td>172.16.0.5-192.168.50.1-1014-39193-17</td>\n",
              "      <td>172.16.0.5</td>\n",
              "      <td>1014</td>\n",
              "      <td>192.168.50.1</td>\n",
              "      <td>39193</td>\n",
              "      <td>17</td>\n",
              "      <td>2018-12-01 11:07:13.739303</td>\n",
              "      <td>1</td>\n",
              "      <td>...</td>\n",
              "      <td>-1</td>\n",
              "      <td>0.0</td>\n",
              "      <td>0.0</td>\n",
              "      <td>0.0</td>\n",
              "      <td>0.0</td>\n",
              "      <td>0.0</td>\n",
              "      <td>0.0</td>\n",
              "      <td>0.0</td>\n",
              "      <td>0.0</td>\n",
              "      <td>1</td>\n",
              "    </tr>\n",
              "    <tr>\n",
              "      <th>2</th>\n",
              "      <td>534651</td>\n",
              "      <td>24763</td>\n",
              "      <td>172.16.0.5-192.168.50.1-809-18887-17</td>\n",
              "      <td>172.16.0.5</td>\n",
              "      <td>809</td>\n",
              "      <td>192.168.50.1</td>\n",
              "      <td>18887</td>\n",
              "      <td>17</td>\n",
              "      <td>2018-12-01 11:07:06.212149</td>\n",
              "      <td>4</td>\n",
              "      <td>...</td>\n",
              "      <td>-1</td>\n",
              "      <td>0.0</td>\n",
              "      <td>0.0</td>\n",
              "      <td>0.0</td>\n",
              "      <td>0.0</td>\n",
              "      <td>0.0</td>\n",
              "      <td>0.0</td>\n",
              "      <td>0.0</td>\n",
              "      <td>0.0</td>\n",
              "      <td>1</td>\n",
              "    </tr>\n",
              "    <tr>\n",
              "      <th>3</th>\n",
              "      <td>1163919</td>\n",
              "      <td>4238</td>\n",
              "      <td>172.16.0.5-192.168.50.1-618-54740-17</td>\n",
              "      <td>172.16.0.5</td>\n",
              "      <td>618</td>\n",
              "      <td>192.168.50.1</td>\n",
              "      <td>54740</td>\n",
              "      <td>17</td>\n",
              "      <td>2018-12-01 11:08:20.024670</td>\n",
              "      <td>48</td>\n",
              "      <td>...</td>\n",
              "      <td>0</td>\n",
              "      <td>0.0</td>\n",
              "      <td>0.0</td>\n",
              "      <td>0.0</td>\n",
              "      <td>0.0</td>\n",
              "      <td>0.0</td>\n",
              "      <td>0.0</td>\n",
              "      <td>0.0</td>\n",
              "      <td>0.0</td>\n",
              "      <td>1</td>\n",
              "    </tr>\n",
              "    <tr>\n",
              "      <th>4</th>\n",
              "      <td>260838</td>\n",
              "      <td>10511</td>\n",
              "      <td>172.16.0.5-192.168.50.1-636-51238-17</td>\n",
              "      <td>172.16.0.5</td>\n",
              "      <td>636</td>\n",
              "      <td>192.168.50.1</td>\n",
              "      <td>51238</td>\n",
              "      <td>17</td>\n",
              "      <td>2018-12-01 11:06:33.512877</td>\n",
              "      <td>1</td>\n",
              "      <td>...</td>\n",
              "      <td>0</td>\n",
              "      <td>0.0</td>\n",
              "      <td>0.0</td>\n",
              "      <td>0.0</td>\n",
              "      <td>0.0</td>\n",
              "      <td>0.0</td>\n",
              "      <td>0.0</td>\n",
              "      <td>0.0</td>\n",
              "      <td>0.0</td>\n",
              "      <td>1</td>\n",
              "    </tr>\n",
              "    <tr>\n",
              "      <th>...</th>\n",
              "      <td>...</td>\n",
              "      <td>...</td>\n",
              "      <td>...</td>\n",
              "      <td>...</td>\n",
              "      <td>...</td>\n",
              "      <td>...</td>\n",
              "      <td>...</td>\n",
              "      <td>...</td>\n",
              "      <td>...</td>\n",
              "      <td>...</td>\n",
              "      <td>...</td>\n",
              "      <td>...</td>\n",
              "      <td>...</td>\n",
              "      <td>...</td>\n",
              "      <td>...</td>\n",
              "      <td>...</td>\n",
              "      <td>...</td>\n",
              "      <td>...</td>\n",
              "      <td>...</td>\n",
              "      <td>...</td>\n",
              "      <td>...</td>\n",
              "    </tr>\n",
              "    <tr>\n",
              "      <th>423293</th>\n",
              "      <td>46160</td>\n",
              "      <td>340411</td>\n",
              "      <td>172.16.0.5-192.168.50.1-59112-59112-17</td>\n",
              "      <td>172.16.0.5</td>\n",
              "      <td>59112</td>\n",
              "      <td>192.168.50.1</td>\n",
              "      <td>59112</td>\n",
              "      <td>17</td>\n",
              "      <td>2018-12-01 13:11:27.719229</td>\n",
              "      <td>122</td>\n",
              "      <td>...</td>\n",
              "      <td>20</td>\n",
              "      <td>0.0</td>\n",
              "      <td>0.0</td>\n",
              "      <td>0.0</td>\n",
              "      <td>0.0</td>\n",
              "      <td>0.0</td>\n",
              "      <td>0.0</td>\n",
              "      <td>0.0</td>\n",
              "      <td>0.0</td>\n",
              "      <td>1</td>\n",
              "    </tr>\n",
              "    <tr>\n",
              "      <th>423294</th>\n",
              "      <td>210388</td>\n",
              "      <td>129388</td>\n",
              "      <td>172.16.0.5-192.168.50.1-45040-22860-6</td>\n",
              "      <td>172.16.0.5</td>\n",
              "      <td>45040</td>\n",
              "      <td>192.168.50.1</td>\n",
              "      <td>22860</td>\n",
              "      <td>6</td>\n",
              "      <td>2018-12-01 13:30:03.415687</td>\n",
              "      <td>1</td>\n",
              "      <td>...</td>\n",
              "      <td>20</td>\n",
              "      <td>0.0</td>\n",
              "      <td>0.0</td>\n",
              "      <td>0.0</td>\n",
              "      <td>0.0</td>\n",
              "      <td>0.0</td>\n",
              "      <td>0.0</td>\n",
              "      <td>0.0</td>\n",
              "      <td>0.0</td>\n",
              "      <td>1</td>\n",
              "    </tr>\n",
              "    <tr>\n",
              "      <th>423295</th>\n",
              "      <td>272635</td>\n",
              "      <td>88760</td>\n",
              "      <td>172.16.0.5-192.168.50.1-36575-18862-6</td>\n",
              "      <td>172.16.0.5</td>\n",
              "      <td>36575</td>\n",
              "      <td>192.168.50.1</td>\n",
              "      <td>18862</td>\n",
              "      <td>6</td>\n",
              "      <td>2018-12-01 13:30:13.838633</td>\n",
              "      <td>1</td>\n",
              "      <td>...</td>\n",
              "      <td>20</td>\n",
              "      <td>0.0</td>\n",
              "      <td>0.0</td>\n",
              "      <td>0.0</td>\n",
              "      <td>0.0</td>\n",
              "      <td>0.0</td>\n",
              "      <td>0.0</td>\n",
              "      <td>0.0</td>\n",
              "      <td>0.0</td>\n",
              "      <td>1</td>\n",
              "    </tr>\n",
              "    <tr>\n",
              "      <th>423296</th>\n",
              "      <td>190259</td>\n",
              "      <td>225104</td>\n",
              "      <td>172.16.0.5-192.168.50.1-63440-63440-6</td>\n",
              "      <td>172.16.0.5</td>\n",
              "      <td>63440</td>\n",
              "      <td>192.168.50.1</td>\n",
              "      <td>63440</td>\n",
              "      <td>6</td>\n",
              "      <td>2018-12-01 13:30:00.104494</td>\n",
              "      <td>2</td>\n",
              "      <td>...</td>\n",
              "      <td>20</td>\n",
              "      <td>0.0</td>\n",
              "      <td>0.0</td>\n",
              "      <td>0.0</td>\n",
              "      <td>0.0</td>\n",
              "      <td>0.0</td>\n",
              "      <td>0.0</td>\n",
              "      <td>0.0</td>\n",
              "      <td>0.0</td>\n",
              "      <td>1</td>\n",
              "    </tr>\n",
              "    <tr>\n",
              "      <th>423297</th>\n",
              "      <td>334091</td>\n",
              "      <td>68407</td>\n",
              "      <td>172.16.0.5-192.168.50.1-30072-41561-6</td>\n",
              "      <td>172.16.0.5</td>\n",
              "      <td>30072</td>\n",
              "      <td>192.168.50.1</td>\n",
              "      <td>41561</td>\n",
              "      <td>6</td>\n",
              "      <td>2018-12-01 13:30:24.691098</td>\n",
              "      <td>1</td>\n",
              "      <td>...</td>\n",
              "      <td>20</td>\n",
              "      <td>0.0</td>\n",
              "      <td>0.0</td>\n",
              "      <td>0.0</td>\n",
              "      <td>0.0</td>\n",
              "      <td>0.0</td>\n",
              "      <td>0.0</td>\n",
              "      <td>0.0</td>\n",
              "      <td>0.0</td>\n",
              "      <td>1</td>\n",
              "    </tr>\n",
              "  </tbody>\n",
              "</table>\n",
              "<p>415409 rows × 87 columns</p>\n",
              "</div>\n",
              "      <button class=\"colab-df-convert\" onclick=\"convertToInteractive('df-d8ac191b-d0c7-457c-af10-94a7ccd91e58')\"\n",
              "              title=\"Convert this dataframe to an interactive table.\"\n",
              "              style=\"display:none;\">\n",
              "        \n",
              "  <svg xmlns=\"http://www.w3.org/2000/svg\" height=\"24px\"viewBox=\"0 0 24 24\"\n",
              "       width=\"24px\">\n",
              "    <path d=\"M0 0h24v24H0V0z\" fill=\"none\"/>\n",
              "    <path d=\"M18.56 5.44l.94 2.06.94-2.06 2.06-.94-2.06-.94-.94-2.06-.94 2.06-2.06.94zm-11 1L8.5 8.5l.94-2.06 2.06-.94-2.06-.94L8.5 2.5l-.94 2.06-2.06.94zm10 10l.94 2.06.94-2.06 2.06-.94-2.06-.94-.94-2.06-.94 2.06-2.06.94z\"/><path d=\"M17.41 7.96l-1.37-1.37c-.4-.4-.92-.59-1.43-.59-.52 0-1.04.2-1.43.59L10.3 9.45l-7.72 7.72c-.78.78-.78 2.05 0 2.83L4 21.41c.39.39.9.59 1.41.59.51 0 1.02-.2 1.41-.59l7.78-7.78 2.81-2.81c.8-.78.8-2.07 0-2.86zM5.41 20L4 18.59l7.72-7.72 1.47 1.35L5.41 20z\"/>\n",
              "  </svg>\n",
              "      </button>\n",
              "      \n",
              "  <style>\n",
              "    .colab-df-container {\n",
              "      display:flex;\n",
              "      flex-wrap:wrap;\n",
              "      gap: 12px;\n",
              "    }\n",
              "\n",
              "    .colab-df-convert {\n",
              "      background-color: #E8F0FE;\n",
              "      border: none;\n",
              "      border-radius: 50%;\n",
              "      cursor: pointer;\n",
              "      display: none;\n",
              "      fill: #1967D2;\n",
              "      height: 32px;\n",
              "      padding: 0 0 0 0;\n",
              "      width: 32px;\n",
              "    }\n",
              "\n",
              "    .colab-df-convert:hover {\n",
              "      background-color: #E2EBFA;\n",
              "      box-shadow: 0px 1px 2px rgba(60, 64, 67, 0.3), 0px 1px 3px 1px rgba(60, 64, 67, 0.15);\n",
              "      fill: #174EA6;\n",
              "    }\n",
              "\n",
              "    [theme=dark] .colab-df-convert {\n",
              "      background-color: #3B4455;\n",
              "      fill: #D2E3FC;\n",
              "    }\n",
              "\n",
              "    [theme=dark] .colab-df-convert:hover {\n",
              "      background-color: #434B5C;\n",
              "      box-shadow: 0px 1px 3px 1px rgba(0, 0, 0, 0.15);\n",
              "      filter: drop-shadow(0px 1px 2px rgba(0, 0, 0, 0.3));\n",
              "      fill: #FFFFFF;\n",
              "    }\n",
              "  </style>\n",
              "\n",
              "      <script>\n",
              "        const buttonEl =\n",
              "          document.querySelector('#df-d8ac191b-d0c7-457c-af10-94a7ccd91e58 button.colab-df-convert');\n",
              "        buttonEl.style.display =\n",
              "          google.colab.kernel.accessAllowed ? 'block' : 'none';\n",
              "\n",
              "        async function convertToInteractive(key) {\n",
              "          const element = document.querySelector('#df-d8ac191b-d0c7-457c-af10-94a7ccd91e58');\n",
              "          const dataTable =\n",
              "            await google.colab.kernel.invokeFunction('convertToInteractive',\n",
              "                                                     [key], {});\n",
              "          if (!dataTable) return;\n",
              "\n",
              "          const docLinkHtml = 'Like what you see? Visit the ' +\n",
              "            '<a target=\"_blank\" href=https://colab.research.google.com/notebooks/data_table.ipynb>data table notebook</a>'\n",
              "            + ' to learn more about interactive tables.';\n",
              "          element.innerHTML = '';\n",
              "          dataTable['output_type'] = 'display_data';\n",
              "          await google.colab.output.renderOutput(dataTable, element);\n",
              "          const docLink = document.createElement('div');\n",
              "          docLink.innerHTML = docLinkHtml;\n",
              "          element.appendChild(docLink);\n",
              "        }\n",
              "      </script>\n",
              "    </div>\n",
              "  </div>\n",
              "  "
            ]
          },
          "metadata": {},
          "execution_count": 19
        }
      ]
    },
    {
      "cell_type": "markdown",
      "source": [
        "Label encoding"
      ],
      "metadata": {
        "id": "m_33cVtBpNrv"
      }
    },
    {
      "cell_type": "code",
      "source": [
        "from sklearn.preprocessing import LabelEncoder "
      ],
      "metadata": {
        "id": "ZtLQo0xTSuKP"
      },
      "execution_count": 20,
      "outputs": []
    },
    {
      "cell_type": "code",
      "source": [
        "le = LabelEncoder()"
      ],
      "metadata": {
        "id": "9Lr1-HvcV8-V"
      },
      "execution_count": 21,
      "outputs": []
    },
    {
      "cell_type": "code",
      "source": [
        "data_y_trans = le.fit_transform(data_y)\n",
        "le_fid = LabelEncoder()\n"
      ],
      "metadata": {
        "id": "l32ds-KaWBEt"
      },
      "execution_count": 22,
      "outputs": []
    },
    {
      "cell_type": "code",
      "source": [
        "le_fid.fit(data_X['Flow ID'])\n",
        "data_X['Flow ID'] = le_fid.fit_transform(data_X['Flow ID'])"
      ],
      "metadata": {
        "id": "m8c34GfESkQn"
      },
      "execution_count": 23,
      "outputs": []
    },
    {
      "cell_type": "code",
      "source": [
        "le_SIP = LabelEncoder()"
      ],
      "metadata": {
        "id": "ys1mXb7rSlQx"
      },
      "execution_count": 24,
      "outputs": []
    },
    {
      "cell_type": "code",
      "source": [
        "le_SIP.fit(data_X[' Source IP'])\n",
        "data_X[' Source IP'] = le_SIP.fit_transform(data_X[' Source IP'])"
      ],
      "metadata": {
        "id": "xqioA4XZSpBh"
      },
      "execution_count": 25,
      "outputs": []
    },
    {
      "cell_type": "code",
      "source": [
        "le_DIP = LabelEncoder()\n"
      ],
      "metadata": {
        "id": "FOlIpGskSwFZ"
      },
      "execution_count": 26,
      "outputs": []
    },
    {
      "cell_type": "code",
      "source": [
        "le_DIP.fit(data_X[' Destination IP'])\n",
        "data_X[' Destination IP'] = le_DIP.fit_transform(data_X[' Destination IP'])"
      ],
      "metadata": {
        "id": "WjcFQm4SS0e1"
      },
      "execution_count": 27,
      "outputs": []
    },
    {
      "cell_type": "code",
      "source": [
        "le_timestamp = LabelEncoder()\n",
        "le_timestamp.fit(data_X[' Timestamp'])\n",
        "data_X[' Timestamp'] = le_timestamp.fit_transform(data_X[' Timestamp'])"
      ],
      "metadata": {
        "id": "wl80JE9MWEGS"
      },
      "execution_count": 28,
      "outputs": []
    },
    {
      "cell_type": "code",
      "source": [
        "data_X"
      ],
      "metadata": {
        "colab": {
          "base_uri": "https://localhost:8080/",
          "height": 505
        },
        "id": "bGQlGNLBWGsd",
        "outputId": "db900a28-a1c2-45e0-d4ea-a99810163802"
      },
      "execution_count": 29,
      "outputs": [
        {
          "output_type": "execute_result",
          "data": {
            "text/plain": [
              "        Unnamed: 0  Unnamed: 0.1  Flow ID   Source IP   Source Port  \\\n",
              "0           145202         19750     7866           4          1019   \n",
              "1           599782          5254     5806           4          1014   \n",
              "2           534651         24763   328957           4           809   \n",
              "3          1163919          4238   223354           4           618   \n",
              "4           260838         10511   245033           4           636   \n",
              "...            ...           ...      ...         ...           ...   \n",
              "423293       46160        340411   200596           4         59112   \n",
              "423294      210388        129388    97584           4         45040   \n",
              "423295      272635         88760    56827           4         36575   \n",
              "423296      190259        225104   243958           4         63440   \n",
              "423297      334091         68407    35076           4         30072   \n",
              "\n",
              "         Destination IP   Destination Port   Protocol   Timestamp  \\\n",
              "0                    69              53011         17       33719   \n",
              "1                    69              39193         17       44507   \n",
              "2                    69              18887         17       42954   \n",
              "3                    69              54740         17       58089   \n",
              "4                    69              51238         17       36396   \n",
              "...                 ...                ...        ...         ...   \n",
              "423293               69              59112         17      373675   \n",
              "423294               69              22860          6      377462   \n",
              "423295               69              18862          6      378771   \n",
              "423296               69              63440          6      377015   \n",
              "423297               69              41561          6      380114   \n",
              "\n",
              "         Flow Duration  ...   min_seg_size_forward  Active Mean   Active Std  \\\n",
              "0                  228  ...                      0          0.0          0.0   \n",
              "1                    1  ...                     -1          0.0          0.0   \n",
              "2                    4  ...                     -1          0.0          0.0   \n",
              "3                   48  ...                      0          0.0          0.0   \n",
              "4                    1  ...                      0          0.0          0.0   \n",
              "...                ...  ...                    ...          ...          ...   \n",
              "423293             122  ...                     20          0.0          0.0   \n",
              "423294               1  ...                     20          0.0          0.0   \n",
              "423295               1  ...                     20          0.0          0.0   \n",
              "423296               2  ...                     20          0.0          0.0   \n",
              "423297               1  ...                     20          0.0          0.0   \n",
              "\n",
              "         Active Max   Active Min  Idle Mean   Idle Std   Idle Max   Idle Min  \\\n",
              "0               0.0          0.0        0.0        0.0        0.0        0.0   \n",
              "1               0.0          0.0        0.0        0.0        0.0        0.0   \n",
              "2               0.0          0.0        0.0        0.0        0.0        0.0   \n",
              "3               0.0          0.0        0.0        0.0        0.0        0.0   \n",
              "4               0.0          0.0        0.0        0.0        0.0        0.0   \n",
              "...             ...          ...        ...        ...        ...        ...   \n",
              "423293          0.0          0.0        0.0        0.0        0.0        0.0   \n",
              "423294          0.0          0.0        0.0        0.0        0.0        0.0   \n",
              "423295          0.0          0.0        0.0        0.0        0.0        0.0   \n",
              "423296          0.0          0.0        0.0        0.0        0.0        0.0   \n",
              "423297          0.0          0.0        0.0        0.0        0.0        0.0   \n",
              "\n",
              "         Inbound  \n",
              "0              1  \n",
              "1              1  \n",
              "2              1  \n",
              "3              1  \n",
              "4              1  \n",
              "...          ...  \n",
              "423293         1  \n",
              "423294         1  \n",
              "423295         1  \n",
              "423296         1  \n",
              "423297         1  \n",
              "\n",
              "[415409 rows x 87 columns]"
            ],
            "text/html": [
              "\n",
              "  <div id=\"df-7aa8fdce-795e-4c3f-9bc9-33f5d49af1a4\">\n",
              "    <div class=\"colab-df-container\">\n",
              "      <div>\n",
              "<style scoped>\n",
              "    .dataframe tbody tr th:only-of-type {\n",
              "        vertical-align: middle;\n",
              "    }\n",
              "\n",
              "    .dataframe tbody tr th {\n",
              "        vertical-align: top;\n",
              "    }\n",
              "\n",
              "    .dataframe thead th {\n",
              "        text-align: right;\n",
              "    }\n",
              "</style>\n",
              "<table border=\"1\" class=\"dataframe\">\n",
              "  <thead>\n",
              "    <tr style=\"text-align: right;\">\n",
              "      <th></th>\n",
              "      <th>Unnamed: 0</th>\n",
              "      <th>Unnamed: 0.1</th>\n",
              "      <th>Flow ID</th>\n",
              "      <th>Source IP</th>\n",
              "      <th>Source Port</th>\n",
              "      <th>Destination IP</th>\n",
              "      <th>Destination Port</th>\n",
              "      <th>Protocol</th>\n",
              "      <th>Timestamp</th>\n",
              "      <th>Flow Duration</th>\n",
              "      <th>...</th>\n",
              "      <th>min_seg_size_forward</th>\n",
              "      <th>Active Mean</th>\n",
              "      <th>Active Std</th>\n",
              "      <th>Active Max</th>\n",
              "      <th>Active Min</th>\n",
              "      <th>Idle Mean</th>\n",
              "      <th>Idle Std</th>\n",
              "      <th>Idle Max</th>\n",
              "      <th>Idle Min</th>\n",
              "      <th>Inbound</th>\n",
              "    </tr>\n",
              "  </thead>\n",
              "  <tbody>\n",
              "    <tr>\n",
              "      <th>0</th>\n",
              "      <td>145202</td>\n",
              "      <td>19750</td>\n",
              "      <td>7866</td>\n",
              "      <td>4</td>\n",
              "      <td>1019</td>\n",
              "      <td>69</td>\n",
              "      <td>53011</td>\n",
              "      <td>17</td>\n",
              "      <td>33719</td>\n",
              "      <td>228</td>\n",
              "      <td>...</td>\n",
              "      <td>0</td>\n",
              "      <td>0.0</td>\n",
              "      <td>0.0</td>\n",
              "      <td>0.0</td>\n",
              "      <td>0.0</td>\n",
              "      <td>0.0</td>\n",
              "      <td>0.0</td>\n",
              "      <td>0.0</td>\n",
              "      <td>0.0</td>\n",
              "      <td>1</td>\n",
              "    </tr>\n",
              "    <tr>\n",
              "      <th>1</th>\n",
              "      <td>599782</td>\n",
              "      <td>5254</td>\n",
              "      <td>5806</td>\n",
              "      <td>4</td>\n",
              "      <td>1014</td>\n",
              "      <td>69</td>\n",
              "      <td>39193</td>\n",
              "      <td>17</td>\n",
              "      <td>44507</td>\n",
              "      <td>1</td>\n",
              "      <td>...</td>\n",
              "      <td>-1</td>\n",
              "      <td>0.0</td>\n",
              "      <td>0.0</td>\n",
              "      <td>0.0</td>\n",
              "      <td>0.0</td>\n",
              "      <td>0.0</td>\n",
              "      <td>0.0</td>\n",
              "      <td>0.0</td>\n",
              "      <td>0.0</td>\n",
              "      <td>1</td>\n",
              "    </tr>\n",
              "    <tr>\n",
              "      <th>2</th>\n",
              "      <td>534651</td>\n",
              "      <td>24763</td>\n",
              "      <td>328957</td>\n",
              "      <td>4</td>\n",
              "      <td>809</td>\n",
              "      <td>69</td>\n",
              "      <td>18887</td>\n",
              "      <td>17</td>\n",
              "      <td>42954</td>\n",
              "      <td>4</td>\n",
              "      <td>...</td>\n",
              "      <td>-1</td>\n",
              "      <td>0.0</td>\n",
              "      <td>0.0</td>\n",
              "      <td>0.0</td>\n",
              "      <td>0.0</td>\n",
              "      <td>0.0</td>\n",
              "      <td>0.0</td>\n",
              "      <td>0.0</td>\n",
              "      <td>0.0</td>\n",
              "      <td>1</td>\n",
              "    </tr>\n",
              "    <tr>\n",
              "      <th>3</th>\n",
              "      <td>1163919</td>\n",
              "      <td>4238</td>\n",
              "      <td>223354</td>\n",
              "      <td>4</td>\n",
              "      <td>618</td>\n",
              "      <td>69</td>\n",
              "      <td>54740</td>\n",
              "      <td>17</td>\n",
              "      <td>58089</td>\n",
              "      <td>48</td>\n",
              "      <td>...</td>\n",
              "      <td>0</td>\n",
              "      <td>0.0</td>\n",
              "      <td>0.0</td>\n",
              "      <td>0.0</td>\n",
              "      <td>0.0</td>\n",
              "      <td>0.0</td>\n",
              "      <td>0.0</td>\n",
              "      <td>0.0</td>\n",
              "      <td>0.0</td>\n",
              "      <td>1</td>\n",
              "    </tr>\n",
              "    <tr>\n",
              "      <th>4</th>\n",
              "      <td>260838</td>\n",
              "      <td>10511</td>\n",
              "      <td>245033</td>\n",
              "      <td>4</td>\n",
              "      <td>636</td>\n",
              "      <td>69</td>\n",
              "      <td>51238</td>\n",
              "      <td>17</td>\n",
              "      <td>36396</td>\n",
              "      <td>1</td>\n",
              "      <td>...</td>\n",
              "      <td>0</td>\n",
              "      <td>0.0</td>\n",
              "      <td>0.0</td>\n",
              "      <td>0.0</td>\n",
              "      <td>0.0</td>\n",
              "      <td>0.0</td>\n",
              "      <td>0.0</td>\n",
              "      <td>0.0</td>\n",
              "      <td>0.0</td>\n",
              "      <td>1</td>\n",
              "    </tr>\n",
              "    <tr>\n",
              "      <th>...</th>\n",
              "      <td>...</td>\n",
              "      <td>...</td>\n",
              "      <td>...</td>\n",
              "      <td>...</td>\n",
              "      <td>...</td>\n",
              "      <td>...</td>\n",
              "      <td>...</td>\n",
              "      <td>...</td>\n",
              "      <td>...</td>\n",
              "      <td>...</td>\n",
              "      <td>...</td>\n",
              "      <td>...</td>\n",
              "      <td>...</td>\n",
              "      <td>...</td>\n",
              "      <td>...</td>\n",
              "      <td>...</td>\n",
              "      <td>...</td>\n",
              "      <td>...</td>\n",
              "      <td>...</td>\n",
              "      <td>...</td>\n",
              "      <td>...</td>\n",
              "    </tr>\n",
              "    <tr>\n",
              "      <th>423293</th>\n",
              "      <td>46160</td>\n",
              "      <td>340411</td>\n",
              "      <td>200596</td>\n",
              "      <td>4</td>\n",
              "      <td>59112</td>\n",
              "      <td>69</td>\n",
              "      <td>59112</td>\n",
              "      <td>17</td>\n",
              "      <td>373675</td>\n",
              "      <td>122</td>\n",
              "      <td>...</td>\n",
              "      <td>20</td>\n",
              "      <td>0.0</td>\n",
              "      <td>0.0</td>\n",
              "      <td>0.0</td>\n",
              "      <td>0.0</td>\n",
              "      <td>0.0</td>\n",
              "      <td>0.0</td>\n",
              "      <td>0.0</td>\n",
              "      <td>0.0</td>\n",
              "      <td>1</td>\n",
              "    </tr>\n",
              "    <tr>\n",
              "      <th>423294</th>\n",
              "      <td>210388</td>\n",
              "      <td>129388</td>\n",
              "      <td>97584</td>\n",
              "      <td>4</td>\n",
              "      <td>45040</td>\n",
              "      <td>69</td>\n",
              "      <td>22860</td>\n",
              "      <td>6</td>\n",
              "      <td>377462</td>\n",
              "      <td>1</td>\n",
              "      <td>...</td>\n",
              "      <td>20</td>\n",
              "      <td>0.0</td>\n",
              "      <td>0.0</td>\n",
              "      <td>0.0</td>\n",
              "      <td>0.0</td>\n",
              "      <td>0.0</td>\n",
              "      <td>0.0</td>\n",
              "      <td>0.0</td>\n",
              "      <td>0.0</td>\n",
              "      <td>1</td>\n",
              "    </tr>\n",
              "    <tr>\n",
              "      <th>423295</th>\n",
              "      <td>272635</td>\n",
              "      <td>88760</td>\n",
              "      <td>56827</td>\n",
              "      <td>4</td>\n",
              "      <td>36575</td>\n",
              "      <td>69</td>\n",
              "      <td>18862</td>\n",
              "      <td>6</td>\n",
              "      <td>378771</td>\n",
              "      <td>1</td>\n",
              "      <td>...</td>\n",
              "      <td>20</td>\n",
              "      <td>0.0</td>\n",
              "      <td>0.0</td>\n",
              "      <td>0.0</td>\n",
              "      <td>0.0</td>\n",
              "      <td>0.0</td>\n",
              "      <td>0.0</td>\n",
              "      <td>0.0</td>\n",
              "      <td>0.0</td>\n",
              "      <td>1</td>\n",
              "    </tr>\n",
              "    <tr>\n",
              "      <th>423296</th>\n",
              "      <td>190259</td>\n",
              "      <td>225104</td>\n",
              "      <td>243958</td>\n",
              "      <td>4</td>\n",
              "      <td>63440</td>\n",
              "      <td>69</td>\n",
              "      <td>63440</td>\n",
              "      <td>6</td>\n",
              "      <td>377015</td>\n",
              "      <td>2</td>\n",
              "      <td>...</td>\n",
              "      <td>20</td>\n",
              "      <td>0.0</td>\n",
              "      <td>0.0</td>\n",
              "      <td>0.0</td>\n",
              "      <td>0.0</td>\n",
              "      <td>0.0</td>\n",
              "      <td>0.0</td>\n",
              "      <td>0.0</td>\n",
              "      <td>0.0</td>\n",
              "      <td>1</td>\n",
              "    </tr>\n",
              "    <tr>\n",
              "      <th>423297</th>\n",
              "      <td>334091</td>\n",
              "      <td>68407</td>\n",
              "      <td>35076</td>\n",
              "      <td>4</td>\n",
              "      <td>30072</td>\n",
              "      <td>69</td>\n",
              "      <td>41561</td>\n",
              "      <td>6</td>\n",
              "      <td>380114</td>\n",
              "      <td>1</td>\n",
              "      <td>...</td>\n",
              "      <td>20</td>\n",
              "      <td>0.0</td>\n",
              "      <td>0.0</td>\n",
              "      <td>0.0</td>\n",
              "      <td>0.0</td>\n",
              "      <td>0.0</td>\n",
              "      <td>0.0</td>\n",
              "      <td>0.0</td>\n",
              "      <td>0.0</td>\n",
              "      <td>1</td>\n",
              "    </tr>\n",
              "  </tbody>\n",
              "</table>\n",
              "<p>415409 rows × 87 columns</p>\n",
              "</div>\n",
              "      <button class=\"colab-df-convert\" onclick=\"convertToInteractive('df-7aa8fdce-795e-4c3f-9bc9-33f5d49af1a4')\"\n",
              "              title=\"Convert this dataframe to an interactive table.\"\n",
              "              style=\"display:none;\">\n",
              "        \n",
              "  <svg xmlns=\"http://www.w3.org/2000/svg\" height=\"24px\"viewBox=\"0 0 24 24\"\n",
              "       width=\"24px\">\n",
              "    <path d=\"M0 0h24v24H0V0z\" fill=\"none\"/>\n",
              "    <path d=\"M18.56 5.44l.94 2.06.94-2.06 2.06-.94-2.06-.94-.94-2.06-.94 2.06-2.06.94zm-11 1L8.5 8.5l.94-2.06 2.06-.94-2.06-.94L8.5 2.5l-.94 2.06-2.06.94zm10 10l.94 2.06.94-2.06 2.06-.94-2.06-.94-.94-2.06-.94 2.06-2.06.94z\"/><path d=\"M17.41 7.96l-1.37-1.37c-.4-.4-.92-.59-1.43-.59-.52 0-1.04.2-1.43.59L10.3 9.45l-7.72 7.72c-.78.78-.78 2.05 0 2.83L4 21.41c.39.39.9.59 1.41.59.51 0 1.02-.2 1.41-.59l7.78-7.78 2.81-2.81c.8-.78.8-2.07 0-2.86zM5.41 20L4 18.59l7.72-7.72 1.47 1.35L5.41 20z\"/>\n",
              "  </svg>\n",
              "      </button>\n",
              "      \n",
              "  <style>\n",
              "    .colab-df-container {\n",
              "      display:flex;\n",
              "      flex-wrap:wrap;\n",
              "      gap: 12px;\n",
              "    }\n",
              "\n",
              "    .colab-df-convert {\n",
              "      background-color: #E8F0FE;\n",
              "      border: none;\n",
              "      border-radius: 50%;\n",
              "      cursor: pointer;\n",
              "      display: none;\n",
              "      fill: #1967D2;\n",
              "      height: 32px;\n",
              "      padding: 0 0 0 0;\n",
              "      width: 32px;\n",
              "    }\n",
              "\n",
              "    .colab-df-convert:hover {\n",
              "      background-color: #E2EBFA;\n",
              "      box-shadow: 0px 1px 2px rgba(60, 64, 67, 0.3), 0px 1px 3px 1px rgba(60, 64, 67, 0.15);\n",
              "      fill: #174EA6;\n",
              "    }\n",
              "\n",
              "    [theme=dark] .colab-df-convert {\n",
              "      background-color: #3B4455;\n",
              "      fill: #D2E3FC;\n",
              "    }\n",
              "\n",
              "    [theme=dark] .colab-df-convert:hover {\n",
              "      background-color: #434B5C;\n",
              "      box-shadow: 0px 1px 3px 1px rgba(0, 0, 0, 0.15);\n",
              "      filter: drop-shadow(0px 1px 2px rgba(0, 0, 0, 0.3));\n",
              "      fill: #FFFFFF;\n",
              "    }\n",
              "  </style>\n",
              "\n",
              "      <script>\n",
              "        const buttonEl =\n",
              "          document.querySelector('#df-7aa8fdce-795e-4c3f-9bc9-33f5d49af1a4 button.colab-df-convert');\n",
              "        buttonEl.style.display =\n",
              "          google.colab.kernel.accessAllowed ? 'block' : 'none';\n",
              "\n",
              "        async function convertToInteractive(key) {\n",
              "          const element = document.querySelector('#df-7aa8fdce-795e-4c3f-9bc9-33f5d49af1a4');\n",
              "          const dataTable =\n",
              "            await google.colab.kernel.invokeFunction('convertToInteractive',\n",
              "                                                     [key], {});\n",
              "          if (!dataTable) return;\n",
              "\n",
              "          const docLinkHtml = 'Like what you see? Visit the ' +\n",
              "            '<a target=\"_blank\" href=https://colab.research.google.com/notebooks/data_table.ipynb>data table notebook</a>'\n",
              "            + ' to learn more about interactive tables.';\n",
              "          element.innerHTML = '';\n",
              "          dataTable['output_type'] = 'display_data';\n",
              "          await google.colab.output.renderOutput(dataTable, element);\n",
              "          const docLink = document.createElement('div');\n",
              "          docLink.innerHTML = docLinkHtml;\n",
              "          element.appendChild(docLink);\n",
              "        }\n",
              "      </script>\n",
              "    </div>\n",
              "  </div>\n",
              "  "
            ]
          },
          "metadata": {},
          "execution_count": 29
        }
      ]
    },
    {
      "cell_type": "code",
      "source": [
        "df2 = pd.DataFrame(data_X)  "
      ],
      "metadata": {
        "id": "AQmLs5oZZBJX"
      },
      "execution_count": 30,
      "outputs": []
    },
    {
      "cell_type": "code",
      "source": [
        "df2.to_csv(r'my_data.csv', index=False)"
      ],
      "metadata": {
        "id": "inC1c6myZ658"
      },
      "execution_count": 31,
      "outputs": []
    },
    {
      "cell_type": "code",
      "source": [
        "from sklearn.model_selection import train_test_split\n",
        "X_train, X_test,y_train, y_test = train_test_split(data_X, data_y_trans, train_size = 0.7)"
      ],
      "metadata": {
        "id": "mrdZHJ0WOGAW"
      },
      "execution_count": 32,
      "outputs": []
    },
    {
      "cell_type": "code",
      "source": [
        "from sklearn.preprocessing import StandardScaler \n",
        "ss = StandardScaler()\n",
        "X_train_std = ss.fit_transform(X_train)\n",
        "X_test_std = ss.fit_transform(X_test)"
      ],
      "metadata": {
        "id": "ZaY6hGTXcDt4"
      },
      "execution_count": 33,
      "outputs": []
    },
    {
      "cell_type": "markdown",
      "source": [
        "Decision Tree"
      ],
      "metadata": {
        "id": "2vHlMDxXowa1"
      }
    },
    {
      "cell_type": "code",
      "source": [
        "from sklearn.tree import DecisionTreeClassifier\n",
        "ml = DecisionTreeClassifier()"
      ],
      "metadata": {
        "id": "SJ4WKaoVPxev"
      },
      "execution_count": 34,
      "outputs": []
    },
    {
      "cell_type": "code",
      "source": [
        "ml.fit(X_train_std,y_train)"
      ],
      "metadata": {
        "colab": {
          "base_uri": "https://localhost:8080/"
        },
        "id": "1Z4HvV8FQRbe",
        "outputId": "693a0a24-a63e-401e-edab-604f6881bad5"
      },
      "execution_count": 35,
      "outputs": [
        {
          "output_type": "execute_result",
          "data": {
            "text/plain": [
              "DecisionTreeClassifier()"
            ]
          },
          "metadata": {},
          "execution_count": 35
        }
      ]
    },
    {
      "cell_type": "code",
      "source": [
        "res=ml.predict(X_test_std)"
      ],
      "metadata": {
        "id": "HJWE9p5kTO9h"
      },
      "execution_count": 36,
      "outputs": []
    },
    {
      "cell_type": "code",
      "source": [
        "from sklearn.metrics import accuracy_score"
      ],
      "metadata": {
        "id": "RjurjiWoTSqT"
      },
      "execution_count": 37,
      "outputs": []
    },
    {
      "cell_type": "code",
      "source": [
        "accuracy_1=accuracy_score(y_test,res)\n",
        "print(\"Decision tree :\",accuracy_1*100)"
      ],
      "metadata": {
        "colab": {
          "base_uri": "https://localhost:8080/"
        },
        "id": "EpXTdmKgTWpJ",
        "outputId": "a5789907-afe5-4550-e1b4-79675a59a8a9"
      },
      "execution_count": 38,
      "outputs": [
        {
          "output_type": "stream",
          "name": "stdout",
          "text": [
            "Decision tree : 99.07159994543542\n"
          ]
        }
      ]
    },
    {
      "cell_type": "code",
      "source": [
        "ress=ml.predict(X_train_std)\n",
        "acc11=accuracy_score(y_train,ress)\n",
        "print(\"Decision tree :\",acc11*100)"
      ],
      "metadata": {
        "colab": {
          "base_uri": "https://localhost:8080/"
        },
        "id": "7LmwWKRve1Wd",
        "outputId": "a490d6a2-1fe6-4e8d-f3bd-d5e3e806b15d"
      },
      "execution_count": 39,
      "outputs": [
        {
          "output_type": "stream",
          "name": "stdout",
          "text": [
            "Decision tree : 100.0\n"
          ]
        }
      ]
    },
    {
      "cell_type": "code",
      "source": [
        "import matplotlib.pyplot as plt\n",
        "acc=[]\n",
        "for i in range(1,50):\n",
        "  ml = DecisionTreeClassifier(max_depth=i)\n",
        "  ml.fit(X_train_std,y_train)\n",
        "  res=ml.predict(X_test_std)\n",
        "  acc.append(accuracy_score(y_test,res))\n",
        "  if accuracy_score(y_test,res)==100:\n",
        "    break\n",
        "\n"
      ],
      "metadata": {
        "id": "opVp92MBg6Gc"
      },
      "execution_count": 40,
      "outputs": []
    },
    {
      "cell_type": "code",
      "source": [
        "print(acc)"
      ],
      "metadata": {
        "colab": {
          "base_uri": "https://localhost:8080/",
          "height": 165
        },
        "id": "l8IuJ3N6jRRS",
        "outputId": "e57e8626-6301-4b42-fe22-9fa9836c350c"
      },
      "execution_count": 40,
      "outputs": [
        {
          "output_type": "error",
          "ename": "NameError",
          "evalue": "ignored",
          "traceback": [
            "\u001b[0;31m---------------------------------------------------------------------------\u001b[0m",
            "\u001b[0;31mNameError\u001b[0m                                 Traceback (most recent call last)",
            "\u001b[0;32m<ipython-input-40-89480caa3f84>\u001b[0m in \u001b[0;36m<module>\u001b[0;34m()\u001b[0m\n\u001b[0;32m----> 1\u001b[0;31m \u001b[0mprint\u001b[0m\u001b[0;34m(\u001b[0m\u001b[0macc\u001b[0m\u001b[0;34m)\u001b[0m\u001b[0;34m\u001b[0m\u001b[0;34m\u001b[0m\u001b[0m\n\u001b[0m",
            "\u001b[0;31mNameError\u001b[0m: name 'acc' is not defined"
          ]
        }
      ]
    },
    {
      "cell_type": "code",
      "source": [
        "print(i)"
      ],
      "metadata": {
        "colab": {
          "base_uri": "https://localhost:8080/"
        },
        "id": "KLKzrq2ajpzZ",
        "outputId": "9e244ecd-8230-4a77-ab1d-6c640198cf21"
      },
      "execution_count": 42,
      "outputs": [
        {
          "output_type": "stream",
          "name": "stdout",
          "text": [
            "49\n"
          ]
        }
      ]
    },
    {
      "cell_type": "code",
      "source": [
        "y=[k for k in range(1,i+1)]\n",
        "plt.plot(y,acc, label='validation accuracy') \n",
        "plt.xlabel('Max Depth') # Label x-axis\n",
        "plt.ylabel('Training Accuracy') # Label y-axis\n",
        "plt.legend() # Show plot labels as legend\n",
        "plt.show() # Show graph"
      ],
      "metadata": {
        "colab": {
          "base_uri": "https://localhost:8080/",
          "height": 279
        },
        "id": "HRtz5V1WjZCc",
        "outputId": "6b0a4561-6448-4c02-804f-83eb4083ee61"
      },
      "execution_count": 43,
      "outputs": [
        {
          "output_type": "display_data",
          "data": {
            "text/plain": [
              "<Figure size 432x288 with 1 Axes>"
            ],
            "image/png": "[encoded data removed]"
          },
          "metadata": {
            "needs_background": "light"
          }
        }
      ]
    },
    {
      "cell_type": "markdown",
      "source": [
        "Random Forest"
      ],
      "metadata": {
        "id": "MvD4zpNzGqbD"
      }
    },
    {
      "cell_type": "code",
      "source": [
        "from sklearn.ensemble import RandomForestClassifier\n",
        "rf1 = RandomForestClassifier()\n",
        "rf1.fit(X_train_std, y_train)"
      ],
      "metadata": {
        "colab": {
          "base_uri": "https://localhost:8080/"
        },
        "id": "2KElpT6DF7_b",
        "outputId": "0e776acf-979c-4629-ee1e-f43bd2f2e381"
      },
      "execution_count": 41,
      "outputs": [
        {
          "output_type": "execute_result",
          "data": {
            "text/plain": [
              "RandomForestClassifier()"
            ]
          },
          "metadata": {},
          "execution_count": 41
        }
      ]
    },
    {
      "cell_type": "code",
      "source": [
        "rf_y_pred1 = rf1.predict(X_test_std)"
      ],
      "metadata": {
        "id": "Vq5UCIrHGC9z"
      },
      "execution_count": 42,
      "outputs": []
    },
    {
      "cell_type": "code",
      "source": [
        "acc_score1 = accuracy_score(y_test, rf_y_pred1)\n",
        "print(\"Accuracy Score for Random_Forest: \\n\", acc_score1*100)"
      ],
      "metadata": {
        "colab": {
          "base_uri": "https://localhost:8080/"
        },
        "id": "7V9RTimUGHL4",
        "outputId": "db7d3d63-a283-4dab-9021-b27c5d30e597"
      },
      "execution_count": 43,
      "outputs": [
        {
          "output_type": "stream",
          "name": "stdout",
          "text": [
            "Accuracy Score for Random_Forest: \n",
            " 99.17190245781276\n"
          ]
        }
      ]
    },
    {
      "cell_type": "code",
      "source": [
        "ress_rf=rf1.predict(X_train_std)\n",
        "acc_rf=accuracy_score(y_train,ress_rf)\n",
        "print(\"Accuracy Score for Random_Forest:\",acc_rf*100)"
      ],
      "metadata": {
        "colab": {
          "base_uri": "https://localhost:8080/"
        },
        "id": "HdZqngBLhkxv",
        "outputId": "ecc883b1-7d3a-4dde-9647-b2bfce256c30"
      },
      "execution_count": 46,
      "outputs": [
        {
          "output_type": "stream",
          "name": "stdout",
          "text": [
            "Accuracy Score for Random_Forest: 100.0\n"
          ]
        }
      ]
    },
    {
      "cell_type": "code",
      "source": [
        "import matplotlib.pyplot as plt\n",
        "acc=[]\n",
        "for i in range(1,50):\n",
        "  rf1 = RandomForestClassifier(max_depth=i, random_state=0)\n",
        "  rf1.fit(X_train_std, y_train)\n",
        "  rf_y_pred1 = rf1.predict(X_test_std)\n",
        "  acc_score1 = accuracy_score(y_test, rf_y_pred1)\n",
        "  acc.append(acc_score1)\n",
        "  if accuracy_score(y_test,res)==100:\n",
        "    break"
      ],
      "metadata": {
        "id": "oAxyhNrWkNtw"
      },
      "execution_count": 48,
      "outputs": []
    },
    {
      "cell_type": "code",
      "source": [
        "i"
      ],
      "metadata": {
        "colab": {
          "base_uri": "https://localhost:8080/"
        },
        "id": "4aHtcZ9tlIFM",
        "outputId": "fd5bd334-8e5d-4ef3-f3d6-07995d27ef1a"
      },
      "execution_count": 49,
      "outputs": [
        {
          "data": {
            "text/plain": [
              "49"
            ]
          },
          "execution_count": null,
          "metadata": {},
          "output_type": "execute_result"
        }
      ]
    },
    {
      "cell_type": "code",
      "source": [
        "y=[k for k in range(1,i+1)]\n",
        "plt.plot(y,acc, label='validation accuracy') \n",
        "plt.xlabel('Max Depth') # Label x-axis\n",
        "plt.ylabel('Training Accuracy') # Label y-axis\n",
        "plt.legend() # Show plot labels as legend\n",
        "plt.show() # Show graph"
      ],
      "metadata": {
        "colab": {
          "base_uri": "https://localhost:8080/",
          "height": 279
        },
        "id": "8dUYZT4ek4AO",
        "outputId": "1e6b9bef-ba4e-409b-81d9-ba85f32b9a81"
      },
      "execution_count": 50,
      "outputs": [
        {
          "data": {
            "image/png": "[encoded data removed]",
            "text/plain": [
              "<Figure size 432x288 with 1 Axes>"
            ]
          },
          "metadata": {},
          "output_type": "display_data"
        }
      ]
    },
    {
      "cell_type": "markdown",
      "source": [
        "XG boost"
      ],
      "metadata": {
        "id": "ZLtBDzJkGvMO"
      }
    },
    {
      "cell_type": "code",
      "source": [
        "from sklearn.ensemble import GradientBoostingClassifier"
      ],
      "metadata": {
        "id": "IazN100DGzXZ"
      },
      "execution_count": 47,
      "outputs": []
    },
    {
      "cell_type": "code",
      "source": [
        "gradient_boost1 = GradientBoostingClassifier()\n",
        "gradient_boost1.fit(X_train_std, y_train)"
      ],
      "metadata": {
        "colab": {
          "base_uri": "https://localhost:8080/"
        },
        "id": "sNlmfrzIG5HB",
        "outputId": "0a95cc3f-3a04-42c0-a780-f85961363f63"
      },
      "execution_count": 48,
      "outputs": [
        {
          "output_type": "execute_result",
          "data": {
            "text/plain": [
              "GradientBoostingClassifier()"
            ]
          },
          "metadata": {},
          "execution_count": 48
        }
      ]
    },
    {
      "cell_type": "code",
      "source": [
        "res_xg1=gradient_boost1.predict(X_test_std)"
      ],
      "metadata": {
        "id": "4rkNjveyHAF1"
      },
      "execution_count": 49,
      "outputs": []
    },
    {
      "cell_type": "code",
      "source": [
        "acc_score_xg1 = accuracy_score(y_test, res_xg1)\n",
        "print(\"Accuracy Score for GradientBoosting: \\n\", acc_score_xg1*100)"
      ],
      "metadata": {
        "colab": {
          "base_uri": "https://localhost:8080/"
        },
        "id": "q1O60m3vHEtr",
        "outputId": "af9a192d-2329-4b00-a602-71df03cada0a"
      },
      "execution_count": 50,
      "outputs": [
        {
          "output_type": "stream",
          "name": "stdout",
          "text": [
            "Accuracy Score for GradientBoosting: \n",
            " 99.02746683998942\n"
          ]
        }
      ]
    },
    {
      "cell_type": "code",
      "source": [
        "ress_xg=gradient_boost1.predict(X_train_std)\n",
        "acc_xg=accuracy_score(y_train,ress_xg)\n",
        "print(\"Accuracy Score for GradientBoosting:\",acc_xg*100)"
      ],
      "metadata": {
        "colab": {
          "base_uri": "https://localhost:8080/"
        },
        "id": "wnjmB6P4kHkk",
        "outputId": "27d8e846-bc35-469b-93de-ecc8d3ada399"
      },
      "execution_count": 51,
      "outputs": [
        {
          "output_type": "stream",
          "name": "stdout",
          "text": [
            "Accuracy Score for GradientBoosting: 100.0\n"
          ]
        }
      ]
    },
    {
      "cell_type": "code",
      "source": [
        "acc=[]\n",
        "for i in range(1,5):\n",
        "  gradient_boost1 = GradientBoostingClassifier(n_estimators=100, learning_rate=0.1,\n",
        "max_depth=i, random_state=0)\n",
        "  gradient_boost1.fit(X_train_std, y_train)\n",
        "  res_xg1=gradient_boost1.predict(X_test_std)\n",
        "  acc.append(accuracy_score(y_test, res_xg1))\n",
        "  if accuracy_score(y_test,res)==100:\n",
        "    break\n"
      ],
      "metadata": {
        "id": "U9w5fEFymyRz"
      },
      "execution_count": null,
      "outputs": []
    },
    {
      "cell_type": "code",
      "source": [
        "y=[k for k in range(1,i+1)]\n",
        "plt.plot(y,acc, label='validation Accuracy') \n",
        "plt.xlabel('Max Depth') # Label x-axis\n",
        "plt.ylabel('validation Accuracy') # Label y-axis\n",
        "plt.legend() # Show plot labels as legend\n",
        "plt.show() # Show graph"
      ],
      "metadata": {
        "id": "cPHwIFCdHKgm"
      },
      "execution_count": null,
      "outputs": []
    },
    {
      "cell_type": "markdown",
      "source": [
        "FEATURE SELECTION"
      ],
      "metadata": {
        "id": "IaBRVekPmMZi"
      }
    },
    {
      "cell_type": "code",
      "source": [
        "from sklearn.feature_selection import chi2 \n",
        "from sklearn.feature_selection import SelectKBest \n",
        "from sklearn.ensemble import ExtraTreesClassifier"
      ],
      "metadata": {
        "id": "7gJBMcms7025"
      },
      "execution_count": 52,
      "outputs": []
    },
    {
      "cell_type": "code",
      "source": [
        "model = ExtraTreesClassifier(bootstrap=False, ccp_alpha=0.0, class_weight=None,\n",
        "                     criterion='gini', max_depth=None, max_features='auto',\n",
        "                     max_leaf_nodes=None, max_samples=None,\n",
        "                     min_impurity_decrease=0.0, \n",
        "                     min_samples_leaf=1, min_samples_split=2,\n",
        "                     min_weight_fraction_leaf=0.0, n_estimators=100,\n",
        "                     n_jobs=None, oob_score=False, random_state=42, verbose=0,\n",
        "                     warm_start=False)\n",
        "\n",
        "model.fit(data_X, data_y_trans)"
      ],
      "metadata": {
        "id": "n9IAlJzu72GW",
        "outputId": "2baa6e41-c3b3-4aa9-d309-02460bc273ac",
        "colab": {
          "base_uri": "https://localhost:8080/"
        }
      },
      "execution_count": 53,
      "outputs": [
        {
          "output_type": "execute_result",
          "data": {
            "text/plain": [
              "ExtraTreesClassifier(random_state=42)"
            ]
          },
          "metadata": {},
          "execution_count": 53
        }
      ]
    },
    {
      "cell_type": "code",
      "source": [
        "model.feature_importances_"
      ],
      "metadata": {
        "id": "_MeL3rQC8lNp",
        "outputId": "ba62912c-eb1b-4af6-cd26-0614e537ee2e",
        "colab": {
          "base_uri": "https://localhost:8080/"
        }
      },
      "execution_count": 54,
      "outputs": [
        {
          "output_type": "execute_result",
          "data": {
            "text/plain": [
              "array([4.88964438e-02, 2.87092966e-02, 2.39204125e-02, 6.02336951e-04,\n",
              "       5.14212727e-02, 1.91466692e-04, 6.50533336e-03, 1.28716430e-02,\n",
              "       3.35321003e-01, 2.77025270e-03, 4.11050179e-03, 4.16602839e-05,\n",
              "       1.15725024e-02, 1.18320686e-05, 3.19599893e-02, 4.03544682e-02,\n",
              "       4.40717270e-02, 2.39292298e-03, 2.87020613e-05, 4.16203525e-05,\n",
              "       1.46322534e-05, 6.51833077e-06, 3.83156166e-02, 1.70522740e-02,\n",
              "       3.18551863e-03, 2.02006808e-03, 2.24532140e-03, 4.00967169e-03,\n",
              "       3.49683374e-03, 3.21992616e-03, 8.92544623e-04, 3.04090508e-03,\n",
              "       3.92886353e-03, 4.65396926e-05, 4.62736307e-05, 1.55314103e-05,\n",
              "       4.61476722e-05, 6.67607154e-05, 1.48646580e-05, 0.00000000e+00,\n",
              "       0.00000000e+00, 0.00000000e+00, 5.77840704e-03, 6.21952569e-05,\n",
              "       1.97990177e-02, 1.09685439e-04, 3.65401108e-02, 3.00421304e-02,\n",
              "       3.74935276e-02, 2.29774578e-03, 1.15336002e-03, 0.00000000e+00,\n",
              "       7.91696755e-06, 1.66684752e-05, 0.00000000e+00, 2.30305070e-02,\n",
              "       2.13800567e-04, 6.50032215e-05, 0.00000000e+00, 2.29285352e-04,\n",
              "       3.95442549e-02, 3.85381640e-02, 5.06000387e-05, 5.51066012e-03,\n",
              "       0.00000000e+00, 0.00000000e+00, 0.00000000e+00, 0.00000000e+00,\n",
              "       0.00000000e+00, 0.00000000e+00, 2.96819755e-03, 1.09049313e-02,\n",
              "       4.78317738e-05, 1.05632744e-05, 3.15713644e-03, 3.33680731e-05,\n",
              "       7.72824320e-03, 5.81997908e-03, 8.16851917e-06, 4.65346632e-06,\n",
              "       8.05914384e-06, 9.93426976e-06, 1.58921607e-04, 6.08879247e-05,\n",
              "       2.23828764e-04, 3.55844805e-04, 5.56210795e-04])"
            ]
          },
          "metadata": {},
          "execution_count": 54
        }
      ]
    },
    {
      "cell_type": "code",
      "source": [
        "feature_importance_std = pd.Series(model.feature_importances_, index=data_X.columns)\n",
        "feature_importance_std.nlargest(20).plot(kind='bar', title='Standardised Dataset Feature Selection using ExtraTreesClassifier')"
      ],
      "metadata": {
        "id": "Z8ty4qs584ae",
        "outputId": "379c7331-5ba4-43ce-9bd7-b53f9cc726aa",
        "colab": {
          "base_uri": "https://localhost:8080/",
          "height": 426
        }
      },
      "execution_count": 55,
      "outputs": [
        {
          "output_type": "execute_result",
          "data": {
            "text/plain": [
              "<matplotlib.axes._subplots.AxesSubplot at 0x7f7c7281cad0>"
            ]
          },
          "metadata": {},
          "execution_count": 55
        },
        {
          "output_type": "display_data",
          "data": {
            "text/plain": [
              "<Figure size 432x288 with 1 Axes>"
            ],
            "image/png": "[encoded data removed]"
          },
          "metadata": {
            "needs_background": "light"
          }
        }
      ]
    },
    {
      "cell_type": "code",
      "source": [
        "data_new_20features_X = data_X[[' Timestamp', ' Source Port', ' Min Packet Length', ' Fwd Packet Length Min', 'Flow ID', ' Packet Length Mean', ' Fwd Packet Length Max', ' Average Packet Size', ' ACK Flag Count', ' Avg Fwd Segment Size', ' Fwd Packet Length Mean', 'Flow Bytes/s', ' Max Packet Length', ' Protocol', 'Fwd Packets/s', ' Flow Packets/s', 'Total Length of Fwd Packets', ' Subflow Fwd Bytes', ' Destination Port', ' act_data_pkt_fwd']]"
      ],
      "metadata": {
        "id": "IOCY4W5x9E7e"
      },
      "execution_count": 56,
      "outputs": []
    },
    {
      "cell_type": "code",
      "source": [
        "data_new_20features_X"
      ],
      "metadata": {
        "id": "Z3ovz_PH9Tiy",
        "outputId": "359667c8-cca8-4b0f-8785-2bd7545986ad",
        "colab": {
          "base_uri": "https://localhost:8080/",
          "height": 540
        }
      },
      "execution_count": 57,
      "outputs": [
        {
          "output_type": "execute_result",
          "data": {
            "text/plain": [
              "         Timestamp   Source Port   Min Packet Length   Fwd Packet Length Min  \\\n",
              "0            33719          1019              1448.0                  1448.0   \n",
              "1            44507          1014              1448.0                  1448.0   \n",
              "2            42954           809              1472.0                  1472.0   \n",
              "3            58089           618              1200.0                  1200.0   \n",
              "4            36396           636              1472.0                  1472.0   \n",
              "...            ...           ...                 ...                     ...   \n",
              "423293      373675         59112               520.0                  1472.0   \n",
              "423294      377462         45040                 0.0                     0.0   \n",
              "423295      378771         36575                 0.0                     0.0   \n",
              "423296      377015         63440                 0.0                     0.0   \n",
              "423297      380114         30072                 0.0                     0.0   \n",
              "\n",
              "        Flow ID   Packet Length Mean   Fwd Packet Length Max  \\\n",
              "0          7866               1448.0                  1448.0   \n",
              "1          5806               1448.0                  1448.0   \n",
              "2        328957               1472.0                  1472.0   \n",
              "3        223354               1200.0                  1200.0   \n",
              "4        245033               1472.0                  1472.0   \n",
              "...         ...                  ...                     ...   \n",
              "423293   200596               1091.2                  1472.0   \n",
              "423294    97584                  0.0                     0.0   \n",
              "423295    56827                  0.0                     0.0   \n",
              "423296   243958                  0.0                     0.0   \n",
              "423297    35076                  0.0                     0.0   \n",
              "\n",
              "         Average Packet Size   ACK Flag Count   Avg Fwd Segment Size  \\\n",
              "0                     2172.0                0                 1448.0   \n",
              "1                     2172.0                0                 1448.0   \n",
              "2                     2208.0                0                 1472.0   \n",
              "3                     1800.0                0                 1200.0   \n",
              "4                     2208.0                0                 1472.0   \n",
              "...                      ...              ...                    ...   \n",
              "423293                1364.0                0                 1472.0   \n",
              "423294                   0.0                1                    0.0   \n",
              "423295                   0.0                1                    0.0   \n",
              "423296                   0.0                1                    0.0   \n",
              "423297                   0.0                1                    0.0   \n",
              "\n",
              "         Fwd Packet Length Mean  Flow Bytes/s   Max Packet Length   Protocol  \\\n",
              "0                        1448.0  1.270175e+07              1448.0         17   \n",
              "1                        1448.0  2.896000e+09              1448.0         17   \n",
              "2                        1472.0  7.360000e+08              1472.0         17   \n",
              "3                        1200.0  5.000000e+07              1200.0         17   \n",
              "4                        1472.0  2.944000e+09              1472.0         17   \n",
              "...                         ...           ...                 ...        ...   \n",
              "423293                   1472.0  3.265574e+07              1472.0         17   \n",
              "423294                      0.0  0.000000e+00                 0.0          6   \n",
              "423295                      0.0  0.000000e+00                 0.0          6   \n",
              "423296                      0.0  0.000000e+00                 0.0          6   \n",
              "423297                      0.0  0.000000e+00                 0.0          6   \n",
              "\n",
              "        Fwd Packets/s   Flow Packets/s  Total Length of Fwd Packets  \\\n",
              "0        8.771930e+03     8.771930e+03                       2896.0   \n",
              "1        2.000000e+06     2.000000e+06                       2896.0   \n",
              "2        5.000000e+05     5.000000e+05                       2944.0   \n",
              "3        4.166667e+04     4.166667e+04                       2400.0   \n",
              "4        2.000000e+06     2.000000e+06                       2944.0   \n",
              "...               ...              ...                          ...   \n",
              "423293   1.639344e+04     3.278689e+04                       2944.0   \n",
              "423294   2.000000e+06     2.000000e+06                          0.0   \n",
              "423295   2.000000e+06     2.000000e+06                          0.0   \n",
              "423296   1.000000e+06     1.000000e+06                          0.0   \n",
              "423297   2.000000e+06     2.000000e+06                          0.0   \n",
              "\n",
              "         Subflow Fwd Bytes   Destination Port   act_data_pkt_fwd  \n",
              "0                     2896              53011                  1  \n",
              "1                     2896              39193                  1  \n",
              "2                     2944              18887                  1  \n",
              "3                     2400              54740                  1  \n",
              "4                     2944              51238                  1  \n",
              "...                    ...                ...                ...  \n",
              "423293                2944              59112                  1  \n",
              "423294                   0              22860                  0  \n",
              "423295                   0              18862                  0  \n",
              "423296                   0              63440                  0  \n",
              "423297                   0              41561                  0  \n",
              "\n",
              "[415409 rows x 20 columns]"
            ],
            "text/html": [
              "\n",
              "  <div id=\"df-9eec185e-94e7-41b4-9ab4-03e1a87dc9d3\">\n",
              "    <div class=\"colab-df-container\">\n",
              "      <div>\n",
              "<style scoped>\n",
              "    .dataframe tbody tr th:only-of-type {\n",
              "        vertical-align: middle;\n",
              "    }\n",
              "\n",
              "    .dataframe tbody tr th {\n",
              "        vertical-align: top;\n",
              "    }\n",
              "\n",
              "    .dataframe thead th {\n",
              "        text-align: right;\n",
              "    }\n",
              "</style>\n",
              "<table border=\"1\" class=\"dataframe\">\n",
              "  <thead>\n",
              "    <tr style=\"text-align: right;\">\n",
              "      <th></th>\n",
              "      <th>Timestamp</th>\n",
              "      <th>Source Port</th>\n",
              "      <th>Min Packet Length</th>\n",
              "      <th>Fwd Packet Length Min</th>\n",
              "      <th>Flow ID</th>\n",
              "      <th>Packet Length Mean</th>\n",
              "      <th>Fwd Packet Length Max</th>\n",
              "      <th>Average Packet Size</th>\n",
              "      <th>ACK Flag Count</th>\n",
              "      <th>Avg Fwd Segment Size</th>\n",
              "      <th>Fwd Packet Length Mean</th>\n",
              "      <th>Flow Bytes/s</th>\n",
              "      <th>Max Packet Length</th>\n",
              "      <th>Protocol</th>\n",
              "      <th>Fwd Packets/s</th>\n",
              "      <th>Flow Packets/s</th>\n",
              "      <th>Total Length of Fwd Packets</th>\n",
              "      <th>Subflow Fwd Bytes</th>\n",
              "      <th>Destination Port</th>\n",
              "      <th>act_data_pkt_fwd</th>\n",
              "    </tr>\n",
              "  </thead>\n",
              "  <tbody>\n",
              "    <tr>\n",
              "      <th>0</th>\n",
              "      <td>33719</td>\n",
              "      <td>1019</td>\n",
              "      <td>1448.0</td>\n",
              "      <td>1448.0</td>\n",
              "      <td>7866</td>\n",
              "      <td>1448.0</td>\n",
              "      <td>1448.0</td>\n",
              "      <td>2172.0</td>\n",
              "      <td>0</td>\n",
              "      <td>1448.0</td>\n",
              "      <td>1448.0</td>\n",
              "      <td>1.270175e+07</td>\n",
              "      <td>1448.0</td>\n",
              "      <td>17</td>\n",
              "      <td>8.771930e+03</td>\n",
              "      <td>8.771930e+03</td>\n",
              "      <td>2896.0</td>\n",
              "      <td>2896</td>\n",
              "      <td>53011</td>\n",
              "      <td>1</td>\n",
              "    </tr>\n",
              "    <tr>\n",
              "      <th>1</th>\n",
              "      <td>44507</td>\n",
              "      <td>1014</td>\n",
              "      <td>1448.0</td>\n",
              "      <td>1448.0</td>\n",
              "      <td>5806</td>\n",
              "      <td>1448.0</td>\n",
              "      <td>1448.0</td>\n",
              "      <td>2172.0</td>\n",
              "      <td>0</td>\n",
              "      <td>1448.0</td>\n",
              "      <td>1448.0</td>\n",
              "      <td>2.896000e+09</td>\n",
              "      <td>1448.0</td>\n",
              "      <td>17</td>\n",
              "      <td>2.000000e+06</td>\n",
              "      <td>2.000000e+06</td>\n",
              "      <td>2896.0</td>\n",
              "      <td>2896</td>\n",
              "      <td>39193</td>\n",
              "      <td>1</td>\n",
              "    </tr>\n",
              "    <tr>\n",
              "      <th>2</th>\n",
              "      <td>42954</td>\n",
              "      <td>809</td>\n",
              "      <td>1472.0</td>\n",
              "      <td>1472.0</td>\n",
              "      <td>328957</td>\n",
              "      <td>1472.0</td>\n",
              "      <td>1472.0</td>\n",
              "      <td>2208.0</td>\n",
              "      <td>0</td>\n",
              "      <td>1472.0</td>\n",
              "      <td>1472.0</td>\n",
              "      <td>7.360000e+08</td>\n",
              "      <td>1472.0</td>\n",
              "      <td>17</td>\n",
              "      <td>5.000000e+05</td>\n",
              "      <td>5.000000e+05</td>\n",
              "      <td>2944.0</td>\n",
              "      <td>2944</td>\n",
              "      <td>18887</td>\n",
              "      <td>1</td>\n",
              "    </tr>\n",
              "    <tr>\n",
              "      <th>3</th>\n",
              "      <td>58089</td>\n",
              "      <td>618</td>\n",
              "      <td>1200.0</td>\n",
              "      <td>1200.0</td>\n",
              "      <td>223354</td>\n",
              "      <td>1200.0</td>\n",
              "      <td>1200.0</td>\n",
              "      <td>1800.0</td>\n",
              "      <td>0</td>\n",
              "      <td>1200.0</td>\n",
              "      <td>1200.0</td>\n",
              "      <td>5.000000e+07</td>\n",
              "      <td>1200.0</td>\n",
              "      <td>17</td>\n",
              "      <td>4.166667e+04</td>\n",
              "      <td>4.166667e+04</td>\n",
              "      <td>2400.0</td>\n",
              "      <td>2400</td>\n",
              "      <td>54740</td>\n",
              "      <td>1</td>\n",
              "    </tr>\n",
              "    <tr>\n",
              "      <th>4</th>\n",
              "      <td>36396</td>\n",
              "      <td>636</td>\n",
              "      <td>1472.0</td>\n",
              "      <td>1472.0</td>\n",
              "      <td>245033</td>\n",
              "      <td>1472.0</td>\n",
              "      <td>1472.0</td>\n",
              "      <td>2208.0</td>\n",
              "      <td>0</td>\n",
              "      <td>1472.0</td>\n",
              "      <td>1472.0</td>\n",
              "      <td>2.944000e+09</td>\n",
              "      <td>1472.0</td>\n",
              "      <td>17</td>\n",
              "      <td>2.000000e+06</td>\n",
              "      <td>2.000000e+06</td>\n",
              "      <td>2944.0</td>\n",
              "      <td>2944</td>\n",
              "      <td>51238</td>\n",
              "      <td>1</td>\n",
              "    </tr>\n",
              "    <tr>\n",
              "      <th>...</th>\n",
              "      <td>...</td>\n",
              "      <td>...</td>\n",
              "      <td>...</td>\n",
              "      <td>...</td>\n",
              "      <td>...</td>\n",
              "      <td>...</td>\n",
              "      <td>...</td>\n",
              "      <td>...</td>\n",
              "      <td>...</td>\n",
              "      <td>...</td>\n",
              "      <td>...</td>\n",
              "      <td>...</td>\n",
              "      <td>...</td>\n",
              "      <td>...</td>\n",
              "      <td>...</td>\n",
              "      <td>...</td>\n",
              "      <td>...</td>\n",
              "      <td>...</td>\n",
              "      <td>...</td>\n",
              "      <td>...</td>\n",
              "    </tr>\n",
              "    <tr>\n",
              "      <th>423293</th>\n",
              "      <td>373675</td>\n",
              "      <td>59112</td>\n",
              "      <td>520.0</td>\n",
              "      <td>1472.0</td>\n",
              "      <td>200596</td>\n",
              "      <td>1091.2</td>\n",
              "      <td>1472.0</td>\n",
              "      <td>1364.0</td>\n",
              "      <td>0</td>\n",
              "      <td>1472.0</td>\n",
              "      <td>1472.0</td>\n",
              "      <td>3.265574e+07</td>\n",
              "      <td>1472.0</td>\n",
              "      <td>17</td>\n",
              "      <td>1.639344e+04</td>\n",
              "      <td>3.278689e+04</td>\n",
              "      <td>2944.0</td>\n",
              "      <td>2944</td>\n",
              "      <td>59112</td>\n",
              "      <td>1</td>\n",
              "    </tr>\n",
              "    <tr>\n",
              "      <th>423294</th>\n",
              "      <td>377462</td>\n",
              "      <td>45040</td>\n",
              "      <td>0.0</td>\n",
              "      <td>0.0</td>\n",
              "      <td>97584</td>\n",
              "      <td>0.0</td>\n",
              "      <td>0.0</td>\n",
              "      <td>0.0</td>\n",
              "      <td>1</td>\n",
              "      <td>0.0</td>\n",
              "      <td>0.0</td>\n",
              "      <td>0.000000e+00</td>\n",
              "      <td>0.0</td>\n",
              "      <td>6</td>\n",
              "      <td>2.000000e+06</td>\n",
              "      <td>2.000000e+06</td>\n",
              "      <td>0.0</td>\n",
              "      <td>0</td>\n",
              "      <td>22860</td>\n",
              "      <td>0</td>\n",
              "    </tr>\n",
              "    <tr>\n",
              "      <th>423295</th>\n",
              "      <td>378771</td>\n",
              "      <td>36575</td>\n",
              "      <td>0.0</td>\n",
              "      <td>0.0</td>\n",
              "      <td>56827</td>\n",
              "      <td>0.0</td>\n",
              "      <td>0.0</td>\n",
              "      <td>0.0</td>\n",
              "      <td>1</td>\n",
              "      <td>0.0</td>\n",
              "      <td>0.0</td>\n",
              "      <td>0.000000e+00</td>\n",
              "      <td>0.0</td>\n",
              "      <td>6</td>\n",
              "      <td>2.000000e+06</td>\n",
              "      <td>2.000000e+06</td>\n",
              "      <td>0.0</td>\n",
              "      <td>0</td>\n",
              "      <td>18862</td>\n",
              "      <td>0</td>\n",
              "    </tr>\n",
              "    <tr>\n",
              "      <th>423296</th>\n",
              "      <td>377015</td>\n",
              "      <td>63440</td>\n",
              "      <td>0.0</td>\n",
              "      <td>0.0</td>\n",
              "      <td>243958</td>\n",
              "      <td>0.0</td>\n",
              "      <td>0.0</td>\n",
              "      <td>0.0</td>\n",
              "      <td>1</td>\n",
              "      <td>0.0</td>\n",
              "      <td>0.0</td>\n",
              "      <td>0.000000e+00</td>\n",
              "      <td>0.0</td>\n",
              "      <td>6</td>\n",
              "      <td>1.000000e+06</td>\n",
              "      <td>1.000000e+06</td>\n",
              "      <td>0.0</td>\n",
              "      <td>0</td>\n",
              "      <td>63440</td>\n",
              "      <td>0</td>\n",
              "    </tr>\n",
              "    <tr>\n",
              "      <th>423297</th>\n",
              "      <td>380114</td>\n",
              "      <td>30072</td>\n",
              "      <td>0.0</td>\n",
              "      <td>0.0</td>\n",
              "      <td>35076</td>\n",
              "      <td>0.0</td>\n",
              "      <td>0.0</td>\n",
              "      <td>0.0</td>\n",
              "      <td>1</td>\n",
              "      <td>0.0</td>\n",
              "      <td>0.0</td>\n",
              "      <td>0.000000e+00</td>\n",
              "      <td>0.0</td>\n",
              "      <td>6</td>\n",
              "      <td>2.000000e+06</td>\n",
              "      <td>2.000000e+06</td>\n",
              "      <td>0.0</td>\n",
              "      <td>0</td>\n",
              "      <td>41561</td>\n",
              "      <td>0</td>\n",
              "    </tr>\n",
              "  </tbody>\n",
              "</table>\n",
              "<p>415409 rows × 20 columns</p>\n",
              "</div>\n",
              "      <button class=\"colab-df-convert\" onclick=\"convertToInteractive('df-9eec185e-94e7-41b4-9ab4-03e1a87dc9d3')\"\n",
              "              title=\"Convert this dataframe to an interactive table.\"\n",
              "              style=\"display:none;\">\n",
              "        \n",
              "  <svg xmlns=\"http://www.w3.org/2000/svg\" height=\"24px\"viewBox=\"0 0 24 24\"\n",
              "       width=\"24px\">\n",
              "    <path d=\"M0 0h24v24H0V0z\" fill=\"none\"/>\n",
              "    <path d=\"M18.56 5.44l.94 2.06.94-2.06 2.06-.94-2.06-.94-.94-2.06-.94 2.06-2.06.94zm-11 1L8.5 8.5l.94-2.06 2.06-.94-2.06-.94L8.5 2.5l-.94 2.06-2.06.94zm10 10l.94 2.06.94-2.06 2.06-.94-2.06-.94-.94-2.06-.94 2.06-2.06.94z\"/><path d=\"M17.41 7.96l-1.37-1.37c-.4-.4-.92-.59-1.43-.59-.52 0-1.04.2-1.43.59L10.3 9.45l-7.72 7.72c-.78.78-.78 2.05 0 2.83L4 21.41c.39.39.9.59 1.41.59.51 0 1.02-.2 1.41-.59l7.78-7.78 2.81-2.81c.8-.78.8-2.07 0-2.86zM5.41 20L4 18.59l7.72-7.72 1.47 1.35L5.41 20z\"/>\n",
              "  </svg>\n",
              "      </button>\n",
              "      \n",
              "  <style>\n",
              "    .colab-df-container {\n",
              "      display:flex;\n",
              "      flex-wrap:wrap;\n",
              "      gap: 12px;\n",
              "    }\n",
              "\n",
              "    .colab-df-convert {\n",
              "      background-color: #E8F0FE;\n",
              "      border: none;\n",
              "      border-radius: 50%;\n",
              "      cursor: pointer;\n",
              "      display: none;\n",
              "      fill: #1967D2;\n",
              "      height: 32px;\n",
              "      padding: 0 0 0 0;\n",
              "      width: 32px;\n",
              "    }\n",
              "\n",
              "    .colab-df-convert:hover {\n",
              "      background-color: #E2EBFA;\n",
              "      box-shadow: 0px 1px 2px rgba(60, 64, 67, 0.3), 0px 1px 3px 1px rgba(60, 64, 67, 0.15);\n",
              "      fill: #174EA6;\n",
              "    }\n",
              "\n",
              "    [theme=dark] .colab-df-convert {\n",
              "      background-color: #3B4455;\n",
              "      fill: #D2E3FC;\n",
              "    }\n",
              "\n",
              "    [theme=dark] .colab-df-convert:hover {\n",
              "      background-color: #434B5C;\n",
              "      box-shadow: 0px 1px 3px 1px rgba(0, 0, 0, 0.15);\n",
              "      filter: drop-shadow(0px 1px 2px rgba(0, 0, 0, 0.3));\n",
              "      fill: #FFFFFF;\n",
              "    }\n",
              "  </style>\n",
              "\n",
              "      <script>\n",
              "        const buttonEl =\n",
              "          document.querySelector('#df-9eec185e-94e7-41b4-9ab4-03e1a87dc9d3 button.colab-df-convert');\n",
              "        buttonEl.style.display =\n",
              "          google.colab.kernel.accessAllowed ? 'block' : 'none';\n",
              "\n",
              "        async function convertToInteractive(key) {\n",
              "          const element = document.querySelector('#df-9eec185e-94e7-41b4-9ab4-03e1a87dc9d3');\n",
              "          const dataTable =\n",
              "            await google.colab.kernel.invokeFunction('convertToInteractive',\n",
              "                                                     [key], {});\n",
              "          if (!dataTable) return;\n",
              "\n",
              "          const docLinkHtml = 'Like what you see? Visit the ' +\n",
              "            '<a target=\"_blank\" href=https://colab.research.google.com/notebooks/data_table.ipynb>data table notebook</a>'\n",
              "            + ' to learn more about interactive tables.';\n",
              "          element.innerHTML = '';\n",
              "          dataTable['output_type'] = 'display_data';\n",
              "          await google.colab.output.renderOutput(dataTable, element);\n",
              "          const docLink = document.createElement('div');\n",
              "          docLink.innerHTML = docLinkHtml;\n",
              "          element.appendChild(docLink);\n",
              "        }\n",
              "      </script>\n",
              "    </div>\n",
              "  </div>\n",
              "  "
            ]
          },
          "metadata": {},
          "execution_count": 57
        }
      ]
    },
    {
      "cell_type": "code",
      "source": [
        "from sklearn.model_selection import train_test_split\n",
        "X_train_20, X_test_20, y_train_20, y_test_20 = train_test_split(data_new_20features_X, data_y_trans, test_size = 0.30, random_state = 42)"
      ],
      "metadata": {
        "id": "gyDp8nmb9YO5"
      },
      "execution_count": 58,
      "outputs": []
    },
    {
      "cell_type": "code",
      "source": [
        "from sklearn.preprocessing import StandardScaler \n",
        "ss_20 = StandardScaler()\n",
        "X_train_std_20 = ss_20.fit_transform(X_train_20)\n",
        "X_test_std_20 = ss_20.fit_transform(X_test_20)"
      ],
      "metadata": {
        "id": "XR8nf1hpeMYN"
      },
      "execution_count": 59,
      "outputs": []
    },
    {
      "cell_type": "markdown",
      "source": [
        "Random forest"
      ],
      "metadata": {
        "id": "VGYijZvKeZSN"
      }
    },
    {
      "cell_type": "code",
      "source": [
        "from sklearn.ensemble import RandomForestClassifier\n",
        "rf = RandomForestClassifier(max_depth=None, random_state=0)\n",
        "rf.fit(X_train_std_20, y_train_20)"
      ],
      "metadata": {
        "id": "M0Nu1SSleghf",
        "outputId": "be864a9d-08da-4cb2-fc08-39240705e0be",
        "colab": {
          "base_uri": "https://localhost:8080/"
        }
      },
      "execution_count": 60,
      "outputs": [
        {
          "output_type": "execute_result",
          "data": {
            "text/plain": [
              "RandomForestClassifier(random_state=0)"
            ]
          },
          "metadata": {},
          "execution_count": 60
        }
      ]
    },
    {
      "cell_type": "code",
      "source": [
        "rf_y_pred = rf.predict(X_test_std_20)"
      ],
      "metadata": {
        "id": "H4tDkDLkfbO8"
      },
      "execution_count": 61,
      "outputs": []
    },
    {
      "cell_type": "code",
      "source": [
        "from sklearn.metrics import accuracy_score "
      ],
      "metadata": {
        "id": "t7cAA8_wfi0W"
      },
      "execution_count": 62,
      "outputs": []
    },
    {
      "cell_type": "code",
      "source": [
        "acc_score = accuracy_score(y_test_20, rf_y_pred)\n",
        "print(\"Accuracy Score for Random_Forest: \\n\", acc_score*100)"
      ],
      "metadata": {
        "id": "N10OwgYmfRWa",
        "outputId": "51c9998e-a6fb-4741-8e12-99615f0b9388",
        "colab": {
          "base_uri": "https://localhost:8080/"
        }
      },
      "execution_count": 63,
      "outputs": [
        {
          "output_type": "stream",
          "name": "stdout",
          "text": [
            "Accuracy Score for Random_Forest: \n",
            " 98.71372058127312\n"
          ]
        }
      ]
    },
    {
      "cell_type": "code",
      "source": [
        "ress_rf_f=rf.predict(X_train_std_20)\n",
        "acc_rf_f=accuracy_score(y_train_20,ress_rf_f)\n",
        "print(\"Accuracy Score for Random_Forest:\",acc_rf_f*100)"
      ],
      "metadata": {
        "id": "3PAOd8jdlFAm",
        "outputId": "6c94f9e4-e5b4-4d8d-e9d7-60fae8e05065",
        "colab": {
          "base_uri": "https://localhost:8080/"
        }
      },
      "execution_count": 64,
      "outputs": [
        {
          "output_type": "stream",
          "name": "stdout",
          "text": [
            "Accuracy Score for Random_Forest: 100.0\n"
          ]
        }
      ]
    },
    {
      "cell_type": "markdown",
      "source": [
        "XGBoost"
      ],
      "metadata": {
        "id": "TWAGTg7BgdhI"
      }
    },
    {
      "cell_type": "code",
      "source": [
        "from sklearn.ensemble import GradientBoostingClassifier"
      ],
      "metadata": {
        "id": "eNUHwu8Dgj9Y"
      },
      "execution_count": 65,
      "outputs": []
    },
    {
      "cell_type": "code",
      "source": [
        "gradient_boost = GradientBoostingClassifier(n_estimators=100, learning_rate=0.1,\n",
        "max_depth=3, random_state=0)\n",
        "gradient_boost.fit(X_train_std_20, y_train_20)"
      ],
      "metadata": {
        "id": "3TGum262gnyN",
        "outputId": "146819bc-e292-400e-f7dc-303b058ca9be",
        "colab": {
          "base_uri": "https://localhost:8080/"
        }
      },
      "execution_count": 66,
      "outputs": [
        {
          "output_type": "execute_result",
          "data": {
            "text/plain": [
              "GradientBoostingClassifier(random_state=0)"
            ]
          },
          "metadata": {},
          "execution_count": 66
        }
      ]
    },
    {
      "cell_type": "code",
      "source": [
        "res_xg=gradient_boost.predict(X_test_std_20)"
      ],
      "metadata": {
        "id": "dDHOcefVi16X"
      },
      "execution_count": 67,
      "outputs": []
    },
    {
      "cell_type": "code",
      "source": [
        "acc_score_xg = accuracy_score(y_test_20, res_xg)\n",
        "print(\"Accuracy Score for GradientBoosting: \\n\", acc_score_xg*100)"
      ],
      "metadata": {
        "id": "7kTg2fCqizN0",
        "outputId": "33f5512b-d62e-443e-bae0-b6bd428601eb",
        "colab": {
          "base_uri": "https://localhost:8080/"
        }
      },
      "execution_count": 68,
      "outputs": [
        {
          "output_type": "stream",
          "name": "stdout",
          "text": [
            "Accuracy Score for GradientBoosting: \n",
            " 98.72495446265937\n"
          ]
        }
      ]
    },
    {
      "cell_type": "code",
      "source": [
        "ress_xg_f=gradient_boost.predict(X_train_std_20)\n",
        "acc_xg_f=accuracy_score(y_train_20,ress_xg_f)\n",
        "print(\"Accuracy Score for GradientBoosting:\",acc_xg_f*100)"
      ],
      "metadata": {
        "id": "m15PlbBBlreT",
        "outputId": "b2011322-fb46-4320-cd2a-3c1effb6c803",
        "colab": {
          "base_uri": "https://localhost:8080/"
        }
      },
      "execution_count": 71,
      "outputs": [
        {
          "output_type": "stream",
          "name": "stdout",
          "text": [
            "Accuracy Score for GradientBoosting: 99.99862441795685\n"
          ]
        }
      ]
    },
    {
      "cell_type": "markdown",
      "source": [
        "Decision Tree"
      ],
      "metadata": {
        "id": "MIcHeuNpCor9"
      }
    },
    {
      "cell_type": "code",
      "source": [
        "from sklearn.tree import DecisionTreeClassifier\n",
        "ml_dec = DecisionTreeClassifier(random_state=0)"
      ],
      "metadata": {
        "id": "g9rrWg6ECtvb"
      },
      "execution_count": 72,
      "outputs": []
    },
    {
      "cell_type": "code",
      "source": [
        "ml_dec.fit(X_train_std_20, y_train_20)"
      ],
      "metadata": {
        "id": "OJH-8SXRCyw8",
        "outputId": "d0feaf70-a766-4152-cc00-c19b4e8c3e45",
        "colab": {
          "base_uri": "https://localhost:8080/"
        }
      },
      "execution_count": 73,
      "outputs": [
        {
          "output_type": "execute_result",
          "data": {
            "text/plain": [
              "DecisionTreeClassifier(random_state=0)"
            ]
          },
          "metadata": {},
          "execution_count": 73
        }
      ]
    },
    {
      "cell_type": "code",
      "source": [
        "res_dec=ml_dec.predict(X_test_std_20)"
      ],
      "metadata": {
        "id": "l89NY0gMC3P6"
      },
      "execution_count": 74,
      "outputs": []
    },
    {
      "cell_type": "code",
      "source": [
        "accuracy_1=accuracy_score(y_test_20,res_dec)\n",
        "print(\"Decision tree :\",accuracy_1*100)"
      ],
      "metadata": {
        "id": "ThpUAbdsC8P8",
        "outputId": "72182c2e-6ff6-40d9-f7b8-4e918804f553",
        "colab": {
          "base_uri": "https://localhost:8080/"
        }
      },
      "execution_count": 75,
      "outputs": [
        {
          "output_type": "stream",
          "name": "stdout",
          "text": [
            "Decision tree : 98.82525697503671\n"
          ]
        }
      ]
    },
    {
      "cell_type": "code",
      "source": [
        "ress_f=ml_dec.predict(X_train_std_20)\n",
        "acc11_f=accuracy_score(y_train_20,ress_f)\n",
        "print(\"Decision tree :\",acc11_f*100)"
      ],
      "metadata": {
        "id": "KI3If11OmCPL",
        "outputId": "252f1d02-2111-40cd-94f3-7cbeafae51e8",
        "colab": {
          "base_uri": "https://localhost:8080/"
        }
      },
      "execution_count": 77,
      "outputs": [
        {
          "output_type": "stream",
          "name": "stdout",
          "text": [
            "Decision tree : 100.0\n"
          ]
        }
      ]
    }
  ]
}